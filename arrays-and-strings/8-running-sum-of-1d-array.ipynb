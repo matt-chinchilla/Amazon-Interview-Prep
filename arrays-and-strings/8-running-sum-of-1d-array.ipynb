{
 "cells": [
  {
   "cell_type": "markdown",
   "metadata": {},
   "source": [
    "#### <u>Given an array `nums`. We define a running sum of an array as `runningSum[i] = sum(nums[]0...nums[i]` ⇒ **Return** the running sum of `nums`</u>"
   ]
  },
  {
   "cell_type": "code",
   "execution_count": 5,
   "metadata": {},
   "outputs": [],
   "source": [
    "from typing import List\n",
    "\n",
    "class Solution:\n",
    "    def runningSum(self, nums: List[int]) -> List[int]:\n",
    "        self.nums = nums\n",
    "        n = len(nums)\n",
    "        \n",
    "        prefix: List[int] = [nums[0]]\n",
    "        \n",
    "        for i in range(1, n):\n",
    "            prefix.append(prefix[-1] + nums[i])\n",
    "            \n",
    "        return prefix"
   ]
  },
  {
   "cell_type": "code",
   "execution_count": 6,
   "metadata": {},
   "outputs": [
    {
     "data": {
      "text/plain": [
       "[1, 3, 6, 10]"
      ]
     },
     "execution_count": 6,
     "metadata": {},
     "output_type": "execute_result"
    }
   ],
   "source": [
    "sol = Solution()\n",
    "nums = [1,2,3,4]\n",
    "\n",
    "sol.runningSum(nums)"
   ]
  }
 ],
 "metadata": {
  "kernelspec": {
   "display_name": "Python 3",
   "language": "python",
   "name": "python3"
  },
  "language_info": {
   "codemirror_mode": {
    "name": "ipython",
    "version": 3
   },
   "file_extension": ".py",
   "mimetype": "text/x-python",
   "name": "python",
   "nbconvert_exporter": "python",
   "pygments_lexer": "ipython3",
   "version": "3.13.3"
  }
 },
 "nbformat": 4,
 "nbformat_minor": 2
}
