{
 "cells": [
  {
   "cell_type": "markdown",
   "metadata": {},
   "source": [
    "#### 1) <u>Given a string `s`, return `true` if it is a palindrome, and `false` otherwise</u>\n",
    "- By using `twoPointers`, we start off withn **index [0]** for left, and **arr.length - 1** as right"
   ]
  },
  {
   "cell_type": "code",
   "execution_count": 1,
   "metadata": {},
   "outputs": [],
   "source": [
    "def check_is_palindrome(s: str) -> bool:\n",
    "    left = 0\n",
    "    right = len(s) -1\n",
    "    \n",
    "    while left < right:\n",
    "        if s[left] != s[right]:\n",
    "            return False\n",
    "        \n",
    "        right -= 1\n",
    "    return True"
   ]
  },
  {
   "cell_type": "code",
   "execution_count": 5,
   "metadata": {},
   "outputs": [
    {
     "data": {
      "text/plain": [
       "True"
      ]
     },
     "execution_count": 5,
     "metadata": {},
     "output_type": "execute_result"
    }
   ],
   "source": [
    "s: str = 'abcdedcba'\n",
    "\n",
    "check_is_palindrome(s)"
   ]
  },
  {
   "cell_type": "markdown",
   "metadata": {},
   "source": [
    "#### 2) <u>Given a **sorted** array of unique integers and a target integer, return `true` if there exists a pair of numbers that sum to the target, `false` otherwise. This problem is similar to **Two Sum** (input is not sorted as well)</u>\n",
    "- Ex: given `nums = [1, 2, 4, 6, 8, 9, 14, 15]` and `target = 13`, return `true` because `4 + 9 = 13`\n",
    "\n",
    "- Using `two pointers` once again to improve to an *O(n)* time complexity from *O(n²)*"
   ]
  },
  {
   "cell_type": "code",
   "execution_count": 6,
   "metadata": {},
   "outputs": [],
   "source": [
    "from typing import List\n",
    "\n",
    "def check_for_target(nums: List[int], target: int) -> bool:\n",
    "    left = 0\n",
    "    right = len(nums) - 1\n",
    "    \n",
    "    while left < right:\n",
    "        # curr is the current sum\n",
    "        curr = nums[left] + nums[right]\n",
    "        if curr == target:\n",
    "            return True\n",
    "        if curr > target:\n",
    "            right -= 1\n",
    "        else:\n",
    "            left += 1\n",
    "    \n",
    "    return False"
   ]
  },
  {
   "cell_type": "markdown",
   "metadata": {},
   "source": [
    "#### 3) <u>Given two **sorted** integer arrays `arr1` and `arr2`, return a new array that combines both of them and is also sorted</u>\n",
    "- If they were **NOT** sorted (combine both arrays & run a \"sort\") → Time complexity == *O(n • *log *n)*\n",
    "- Because sorted → Time Complexity is *O(n)* using the **two pointers technique**\n",
    "\n",
    "- `example of a problem with 2-iterables for the input`"
   ]
  },
  {
   "cell_type": "code",
   "execution_count": 7,
   "metadata": {},
   "outputs": [],
   "source": [
    "def combine_arr(arr1: List[int], arr2: List[int]) -> List[int]:\n",
    "    # ans is the answer\n",
    "    ans = []\n",
    "    i = j = 0\n",
    "    \n",
    "    while i < len(arr1) and j < len(arr2):\n",
    "        if arr1[i] < arr2[j]:\n",
    "            ans.append(arr1[i])\n",
    "            i += 1\n",
    "        else:\n",
    "            ans.append(arr2[j])\n",
    "            j += 1\n",
    "            \n",
    "    while i < len(arr1):            # Adds any remaining elements if arr2 finishes first (cleanup loop)\n",
    "        ans.append(arr1[i])\n",
    "        i += 1\n",
    "        \n",
    "    while j < len(arr2):            # Second cleanup loop\n",
    "        ans.append(arr2[j])\n",
    "        j += 1\n",
    "        \n",
    "    return ans"
   ]
  },
  {
   "cell_type": "markdown",
   "metadata": {},
   "source": [
    "#### 4) <u>Given two strings `s` and `t`, return `true` if `s` is a subsequence of `t`, or `false` otherwise </u>\n",
    "- `subsequence` → A subsequence of a string is a sequence of characters that can be obtained by deleting some (or none) of the characters from the original string, while maintaining the relative order of the remaining characters. For example, \"ace\" is a subsequence of \"abcde\" while \"aec\" is not."
   ]
  },
  {
   "cell_type": "code",
   "execution_count": 8,
   "metadata": {},
   "outputs": [],
   "source": [
    "def is_subsequence(s: str, t: str) -> bool:\n",
    "    # Code to check if s[i] == t[j]\n",
    "    i = j = 0\n",
    "    \n",
    "    while i < len(s) and j < len(t):\n",
    "        if s[i] == t[j]:\n",
    "            i += 1\n",
    "        j +=1\n",
    "        \n",
    "    return i == len(s)"
   ]
  },
  {
   "cell_type": "code",
   "execution_count": 9,
   "metadata": {},
   "outputs": [
    {
     "data": {
      "text/plain": [
       "True"
      ]
     },
     "execution_count": 9,
     "metadata": {},
     "output_type": "execute_result"
    }
   ],
   "source": [
    "is_subsequence('ace', 'abcdef')"
   ]
  }
 ],
 "metadata": {
  "kernelspec": {
   "display_name": "Python 3",
   "language": "python",
   "name": "python3"
  },
  "language_info": {
   "codemirror_mode": {
    "name": "ipython",
    "version": 3
   },
   "file_extension": ".py",
   "mimetype": "text/x-python",
   "name": "python",
   "nbconvert_exporter": "python",
   "pygments_lexer": "ipython3",
   "version": "3.13.3"
  }
 },
 "nbformat": 4,
 "nbformat_minor": 2
}
