{
 "cells": [
  {
   "cell_type": "markdown",
   "metadata": {},
   "source": [
    "1) Queue Interface Implementation"
   ]
  },
  {
   "cell_type": "code",
   "execution_count": 1,
   "metadata": {},
   "outputs": [],
   "source": [
    "class Queue:\n",
    "    def __init__(self):\n",
    "        self._data = []\n",
    "        \n",
    "    def enqueue(self, data):\n",
    "        \"\"\"\n",
    "        Add an item to the back of the queue\n",
    "        \"\"\"\n",
    "        self._data.append(data)\n",
    "        \n",
    "    def dequeue(self, data):\n",
    "        \"\"\"\n",
    "        Remove and return the front item in the queue.\n",
    "        Raises IndexError if the queue is empty\n",
    "        \"\"\"\n",
    "        if self.is_empty():\n",
    "            raise IndexError(\"dequeue from empty queue\")\n",
    "        return self._data.pop(0)\n",
    "    \n",
    "    def peek(self):\n",
    "        \"\"\"\n",
    "        Return the front item without removing it\n",
    "        \"\"\"\n",
    "        if self.is_empty():\n",
    "            raise IndexError(\"peeking from empty queue\")\n",
    "        return self._data[0]\n",
    "        \n",
    "    def is_empty(self):\n",
    "        \"\"\"\n",
    "        Check wether the queue is empty\n",
    "        \"\"\"\n",
    "        return len(self._data) == 0"
   ]
  },
  {
   "cell_type": "markdown",
   "metadata": {},
   "source": [
    "<hr>\n",
    "\n",
    "2. Queue Using Two Stacks"
   ]
  },
  {
   "cell_type": "code",
   "execution_count": 4,
   "metadata": {},
   "outputs": [],
   "source": [
    "class MyQueue:\n",
    "    def __init__(self):\n",
    "        self._stack1 = []\n",
    "        self._stack2 = []\n",
    "    \n",
    "    def is_empty(self):\n",
    "        return not (self._stack1 or self._stack2)\n",
    "    \n",
    "    def enqueue(self, data):\n",
    "        self._stack1.append(data)\n",
    "        \n",
    "    def dequeue(self):\n",
    "        if self.is_empty():\n",
    "            raise IndexError(\"dequeue from empty queue\")\n",
    "        \n",
    "        if not self._stack2:\n",
    "            while self._stack1:\n",
    "                self._stack2.append(self._stack1.pop())\n",
    "        return self._stack2.pop()\n",
    "    \n",
    "    def peek(self):\n",
    "        if self.is_empty():\n",
    "            raise IndexError(\"peek from empty queue\")\n",
    "        \n",
    "        if not self._stack2:\n",
    "            while self._stack1:\n",
    "                self._stack2.append(self._stack1.pop())\n",
    "        return self._stack2[-1]"
   ]
  },
  {
   "cell_type": "markdown",
   "metadata": {},
   "source": [
    "<hr>\n",
    "\n",
    "3. Circular queue"
   ]
  },
  {
   "cell_type": "code",
   "execution_count": 16,
   "metadata": {},
   "outputs": [],
   "source": [
    "class CircularQueue:\n",
    "    def __init__(self, k):\n",
    "        # Buffer size of k+1 to differentiate a full vs an empty\n",
    "        self._data = [None] * (k + 1)\n",
    "        self._head = 0\n",
    "        self._tail = 0\n",
    "        self._size = k+1\n",
    "        \n",
    "    def is_empty(self) -> bool:\n",
    "        return self._head == self._tail\n",
    "    \n",
    "    def is_full(self) -> bool:\n",
    "        return (self._tail + 1) % self._size == self._head\n",
    "    \n",
    "    def enqueue(self, value) -> None:\n",
    "        if self.is_full():\n",
    "            raise IndexError(\"Queue is full\")\n",
    "        self._data[self._tail] = value\n",
    "        self._tail = (self._tail + 1) % self._size\n",
    "        \n",
    "    def dequeue(self) -> None:\n",
    "        if self.is_empty():\n",
    "            raise IndexError(\"Popping from an empty queue\")\n",
    "        val = self._data[self._head]\n",
    "        self._head = (self._head + 1) % self._size\n",
    "        return val"
   ]
  },
  {
   "cell_type": "code",
   "execution_count": 25,
   "metadata": {},
   "outputs": [
    {
     "name": "stdout",
     "output_type": "stream",
     "text": [
      "4\n",
      "True\n",
      "True\n",
      "[10, 20, 30, None]\n",
      "10\n",
      "20\n",
      "30\n",
      "40\n"
     ]
    }
   ],
   "source": [
    "q = CircularQueue(3)\n",
    "print(q._size)\n",
    "print(q.is_empty())\n",
    "\n",
    "q.enqueue(10)\n",
    "q.enqueue(20)\n",
    "q.enqueue(30)\n",
    "print(q.is_full())\n",
    "print(q._data)\n",
    "print(q.dequeue())\n",
    "q.enqueue(40)\n",
    "\n",
    "while not q.is_empty():\n",
    "    print(q.dequeue())"
   ]
  },
  {
   "cell_type": "markdown",
   "metadata": {},
   "source": [
    "<hr>\n",
    "\n",
    "4. Hot Potato"
   ]
  },
  {
   "cell_type": "code",
   "execution_count": 52,
   "metadata": {},
   "outputs": [],
   "source": [
    "from collections import deque\n",
    "from typing import List\n",
    "\n",
    "class Solution:\n",
    "    def maxSum(self, nums: List[int]) -> int:\n",
    "        s = 0\n",
    "        for i in set(nums):\n",
    "            if i>0:\n",
    "                s += i\n",
    "        if s == 0:\n",
    "            return max(nums)\n",
    "        else:\n",
    "            return s"
   ]
  },
  {
   "cell_type": "code",
   "execution_count": null,
   "metadata": {},
   "outputs": [],
   "source": []
  },
  {
   "cell_type": "code",
   "execution_count": 51,
   "metadata": {},
   "outputs": [
    {
     "name": "stdout",
     "output_type": "stream",
     "text": [
      "20\n"
     ]
    }
   ],
   "source": [
    "nums = [-20, 20]\n",
    "sol = Solution()\n",
    "print(sol.maxSum(nums))"
   ]
  }
 ],
 "metadata": {
  "kernelspec": {
   "display_name": "Python 3",
   "language": "python",
   "name": "python3"
  },
  "language_info": {
   "codemirror_mode": {
    "name": "ipython",
    "version": 3
   },
   "file_extension": ".py",
   "mimetype": "text/x-python",
   "name": "python",
   "nbconvert_exporter": "python",
   "pygments_lexer": "ipython3",
   "version": "3.13.3"
  }
 },
 "nbformat": 4,
 "nbformat_minor": 2
}
