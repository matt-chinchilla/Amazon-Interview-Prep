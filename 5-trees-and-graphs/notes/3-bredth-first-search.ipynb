{
 "cells": [
  {
   "cell_type": "markdown",
   "metadata": {},
   "source": [
    "- <p>In BFS, <strong>we traverse all nodes at a given depth before moving on to the next depth</strong>. So if you performed BFS on a large <a href=\"https://en.wikipedia.org/wiki/Binary_tree#Types_of_binary_trees\" target=\"_blank\">complete</a> binary tree, the depth of the nodes you would traverse would look like <code>0, 1, 1, 2, 2, 2, 2, 3, 3, ...</code>.</p>\n",
    "\n",
    "- <p>While DFS was implemented using a stack <span style=\"color:red\">(recursion uses a stack under the hood)</span>, BFS is implemented iteratively with a queue. You <em>can</em> implement BFS with recursion, but it wouldn't make sense as it's a lot more difficult without any benefit. As such, we will look only at iterative implementations in this course.</p>\n",
    "\n",
    "#### General format for a <u>BFS</u> → Just gonna print the nodes"
   ]
  },
  {
   "cell_type": "code",
   "execution_count": 1,
   "metadata": {},
   "outputs": [],
   "source": [
    "from collections import deque\n",
    "\n",
    "def print_all_nodes(root):\n",
    "    queue = deque([root])\n",
    "    \n",
    "    while queue:\n",
    "        nodes_in_current_level = len(queue)\n",
    "        # blah blah blah, some logic for a given problem\n",
    "        \n",
    "        for _ in range(nodes_in_current_level):\n",
    "            node = queue.popleft()\n",
    "            \n",
    "            # Do some logic here for the current node\n",
    "            print(node.val)\n",
    "            \n",
    "            # put the next level onto the queue\n",
    "            if node.left:\n",
    "                queue.append(node.left)\n",
    "            if node.right:\n",
    "                queue.append(node.right)"
   ]
  },
  {
   "cell_type": "markdown",
   "metadata": {},
   "source": [
    "<blockquote>\n",
    "<p>Example 1: <a href=\"https://leetcode.com/problems/binary-tree-right-side-view/\" target=\"_blank\">199. Binary Tree Right Side View</a></p>\n",
    "<p>Given the <code>root</code> of a binary tree, imagine yourself standing on the right side of it. Return the values of the nodes you can see ordered from top to bottom.</p>\n",
    "</blockquote>"
   ]
  },
  {
   "cell_type": "code",
   "execution_count": 1,
   "metadata": {},
   "outputs": [],
   "source": [
    "from typing import Optional\n",
    "\n",
    "class TreeNode:\n",
    "    def __init__(self, val: int = 0, left: Optional['TreeNode'] = None, right: Optional['TreeNode'] = None):\n",
    "        self.val = val\n",
    "        self.left = left\n",
    "        self.right = right\n",
    "        \n",
    "    def __repr__(self):\n",
    "        return f\"Val = {self.val}\""
   ]
  },
  {
   "cell_type": "code",
   "execution_count": 3,
   "metadata": {},
   "outputs": [],
   "source": [
    "from collections import deque\n",
    "\n",
    "class Solution:\n",
    "    def rightSideView(self, root) -> list[int]:\n",
    "        if not root:\n",
    "            return []\n",
    "        \n",
    "        queue = deque([root])\n",
    "        ans = []\n",
    "        \n",
    "        while queue:\n",
    "            current_length = len(queue)\n",
    "            ans.append(queue[-1].val)\n",
    "             \n",
    "            for _ in range(current_length):\n",
    "                node = queue.popleft()\n",
    "                if node.left:\n",
    "                    queue.append(node.left)\n",
    "                if node.right:\n",
    "                    queue.append(node.right)\n",
    "                    \n",
    "        return ans"
   ]
  },
  {
   "cell_type": "markdown",
   "metadata": {},
   "source": [
    "<blockquote>\n",
    "<p>Example 2: <a href=\"https://leetcode.com/problems/find-largest-value-in-each-tree-row/\" target=\"_blank\">515. Find Largest Value in Each Tree Row</a></p>\n",
    "<p>Given the <code>root</code> of a binary tree, return an array of the largest value in each row of the tree.</p>\n",
    "</blockquote>"
   ]
  },
  {
   "cell_type": "code",
   "execution_count": 8,
   "metadata": {},
   "outputs": [],
   "source": [
    "from collections import deque\n",
    "from typing import List\n",
    "\n",
    "class Solution:\n",
    "    def largestValues(self, root: Optional[TreeNode]) -> List[int]:\n",
    "        if not root:\n",
    "            return []\n",
    "        \n",
    "        queue = deque([root])\n",
    "        ans = []\n",
    "        \n",
    "        while queue:\n",
    "            current_length = len(queue)\n",
    "            curr_max = float(\"-inf\")\n",
    "            \n",
    "            for _ in range(current_length):\n",
    "                node = queue.popleft()\n",
    "                curr_max = max(curr_max, node.val)\n",
    "                if node.left:\n",
    "                    queue.append(node.left)\n",
    "                if node.right:\n",
    "                    queue.append(node.right)\n",
    "            \n",
    "            ans.append(curr_max)\n",
    "        return ans"
   ]
  },
  {
   "cell_type": "code",
   "execution_count": 1,
   "metadata": {},
   "outputs": [],
   "source": [
    "from typing import Optional, List\n",
    "from collections import deque\n",
    "\n",
    "class TreeNode:\n",
    "    def __init__(self, val: int = 0, left: Optional['TreeNode'] = None, right: Optional['TreeNode'] = None):\n",
    "        self.val = val\n",
    "        self.left = left\n",
    "        self.right = right\n",
    "        \n",
    "    def __repr__(self):\n",
    "        return f\"Val = {self.val}\"\n",
    "    \n",
    "def build_tree_from_list(values: List[Optional[int]]) -> Optional[TreeNode]:\n",
    "    if not values or values[0] is None:\n",
    "        return None\n",
    "    root = TreeNode(values[0])\n",
    "    queue = deque([root])\n",
    "    i = 1\n",
    "    while queue and i < len(values):\n",
    "        node = queue.popleft()\n",
    "        if i < len(values) and values[i] is not None:\n",
    "            node.left = TreeNode(values[i])#type:ignore\n",
    "            queue.append(node.left)\n",
    "        i += 1\n",
    "        if i < len(values) and values[i] is not None:\n",
    "            node.right = TreeNode(values[i])#type:ignore\n",
    "            queue.append(node.right)\n",
    "        i += 1\n",
    "    return root"
   ]
  },
  {
   "cell_type": "code",
   "execution_count": 5,
   "metadata": {},
   "outputs": [],
   "source": [
    "class Solution:\n",
    "    def levelOrder(self, root: Optional[TreeNode]) -> List[List[int]]:\n",
    "        breakpoint()\n",
    "        if not root:\n",
    "            return []\n",
    "        \n",
    "        next_level = deque([root])\n",
    "        nl_vals = [root.val]\n",
    "        ans = []\n",
    "        \n",
    "        while next_level:\n",
    "            ans += [list(nl_vals)]\n",
    "            current_level = next_level\n",
    "            next_level, nl_vals = deque(), []\n",
    "            \n",
    "            for node in current_level:\n",
    "                if node.left:\n",
    "                    next_level.append(node.left)\n",
    "                    nl_vals.append(node.left.val)\n",
    "                if node.right:\n",
    "                    next_level.append(node.right)\n",
    "                    nl_vals.append(node.right.val)\n",
    "\n",
    "        return ans"
   ]
  },
  {
   "cell_type": "code",
   "execution_count": 6,
   "metadata": {},
   "outputs": [
    {
     "ename": "TypeError",
     "evalue": "descriptor 'append' for 'collections.deque' objects doesn't apply to a 'TreeNode' object",
     "output_type": "error",
     "traceback": [
      "\u001b[31m---------------------------------------------------------------------------\u001b[39m",
      "\u001b[31mTypeError\u001b[39m                                 Traceback (most recent call last)",
      "\u001b[36mCell\u001b[39m\u001b[36m \u001b[39m\u001b[32mIn[6]\u001b[39m\u001b[32m, line 3\u001b[39m\n\u001b[32m      1\u001b[39m s = Solution()\n\u001b[32m      2\u001b[39m root = build_tree_from_list([\u001b[32m3\u001b[39m,\u001b[32m9\u001b[39m,\u001b[32m20\u001b[39m,\u001b[38;5;28;01mNone\u001b[39;00m,\u001b[38;5;28;01mNone\u001b[39;00m,\u001b[32m15\u001b[39m,\u001b[32m7\u001b[39m])\n\u001b[32m----> \u001b[39m\u001b[32m3\u001b[39m \u001b[38;5;28mprint\u001b[39m(\u001b[43ms\u001b[49m\u001b[43m.\u001b[49m\u001b[43mlevelOrder\u001b[49m\u001b[43m(\u001b[49m\u001b[43mroot\u001b[49m\u001b[43m)\u001b[49m)\n",
      "\u001b[36mCell\u001b[39m\u001b[36m \u001b[39m\u001b[32mIn[5]\u001b[39m\u001b[32m, line 18\u001b[39m, in \u001b[36mSolution.levelOrder\u001b[39m\u001b[34m(self, root)\u001b[39m\n\u001b[32m     16\u001b[39m \u001b[38;5;28;01mfor\u001b[39;00m node \u001b[38;5;129;01min\u001b[39;00m current_level:\n\u001b[32m     17\u001b[39m     \u001b[38;5;28;01mif\u001b[39;00m node.left:\n\u001b[32m---> \u001b[39m\u001b[32m18\u001b[39m         \u001b[43mnext_level\u001b[49m\u001b[43m.\u001b[49m\u001b[43mappend\u001b[49m\u001b[43m(\u001b[49m\u001b[43mnode\u001b[49m\u001b[43m.\u001b[49m\u001b[43mleft\u001b[49m\u001b[43m)\u001b[49m\n\u001b[32m     19\u001b[39m         nl_vals.append(node.left.val)\n\u001b[32m     20\u001b[39m     \u001b[38;5;28;01mif\u001b[39;00m node.right:\n",
      "\u001b[31mTypeError\u001b[39m: descriptor 'append' for 'collections.deque' objects doesn't apply to a 'TreeNode' object"
     ]
    }
   ],
   "source": [
    "s = Solution()\n",
    "root = build_tree_from_list([3,9,20,None,None,15,7])\n",
    "print(s.levelOrder(root))"
   ]
  }
 ],
 "metadata": {
  "kernelspec": {
   "display_name": "Python 3",
   "language": "python",
   "name": "python3"
  },
  "language_info": {
   "codemirror_mode": {
    "name": "ipython",
    "version": 3
   },
   "file_extension": ".py",
   "mimetype": "text/x-python",
   "name": "python",
   "nbconvert_exporter": "python",
   "pygments_lexer": "ipython3",
   "version": "3.13.3"
  }
 },
 "nbformat": 4,
 "nbformat_minor": 2
}
