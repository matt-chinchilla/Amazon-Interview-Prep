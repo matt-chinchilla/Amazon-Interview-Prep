{
 "cells": [
  {
   "cell_type": "markdown",
   "metadata": {},
   "source": [
    "- <p>In BFS, <strong>we traverse all nodes at a given depth before moving on to the next depth</strong>. So if you performed BFS on a large <a href=\"https://en.wikipedia.org/wiki/Binary_tree#Types_of_binary_trees\" target=\"_blank\">complete</a> binary tree, the depth of the nodes you would traverse would look like <code>0, 1, 1, 2, 2, 2, 2, 3, 3, ...</code>.</p>\n",
    "\n",
    "- <p>While DFS was implemented using a stack <span style=\"color:red\">(recursion uses a stack under the hood)</span>, BFS is implemented iteratively with a queue. You <em>can</em> implement BFS with recursion, but it wouldn't make sense as it's a lot more difficult without any benefit. As such, we will look only at iterative implementations in this course.</p>\n",
    "\n",
    "#### General format for a <u>BFS</u> → Just gonna print the nodes"
   ]
  },
  {
   "cell_type": "code",
   "execution_count": 1,
   "metadata": {},
   "outputs": [],
   "source": [
    "from collections import deque\n",
    "\n",
    "def print_all_nodes(root):\n",
    "    queue = deque([root])\n",
    "    \n",
    "    while queue:\n",
    "        nodes_in_current_level = len(queue)\n",
    "        # blah blah blah, some logic for a given problem\n",
    "        \n",
    "        for _ in range(nodes_in_current_level):\n",
    "            node = queue.popleft()\n",
    "            \n",
    "            # Do some logic here for the current node\n",
    "            print(node.val)\n",
    "            \n",
    "            # put the next level onto the queue\n",
    "            if node.left:\n",
    "                queue.append(node.left)\n",
    "            if node.right:\n",
    "                queue.append(node.right)"
   ]
  },
  {
   "cell_type": "markdown",
   "metadata": {},
   "source": [
    "<blockquote>\n",
    "<p>Example 1: <a href=\"https://leetcode.com/problems/binary-tree-right-side-view/\" target=\"_blank\">199. Binary Tree Right Side View</a></p>\n",
    "<p>Given the <code>root</code> of a binary tree, imagine yourself standing on the right side of it. Return the values of the nodes you can see ordered from top to bottom.</p>\n",
    "</blockquote>"
   ]
  },
  {
   "cell_type": "code",
   "execution_count": 1,
   "metadata": {},
   "outputs": [],
   "source": [
    "from typing import Optional\n",
    "\n",
    "class TreeNode:\n",
    "    def __init__(self, val: int = 0, left: Optional['TreeNode'] = None, right: Optional['TreeNode'] = None):\n",
    "        self.val = val\n",
    "        self.left = left\n",
    "        self.right = right\n",
    "        \n",
    "    def __repr__(self):\n",
    "        return f\"Val = {self.val}\""
   ]
  },
  {
   "cell_type": "code",
   "execution_count": 3,
   "metadata": {},
   "outputs": [],
   "source": [
    "from collections import deque\n",
    "\n",
    "class Solution:\n",
    "    def rightSideView(self, root) -> list[int]:\n",
    "        if not root:\n",
    "            return []\n",
    "        \n",
    "        queue = deque([root])\n",
    "        ans = []\n",
    "        \n",
    "        while queue:\n",
    "            current_length = len(queue)\n",
    "            ans.append(queue[-1].val)\n",
    "             \n",
    "            for _ in range(current_length):\n",
    "                node = queue.popleft()\n",
    "                if node.left:\n",
    "                    queue.append(node.left)\n",
    "                if node.right:\n",
    "                    queue.append(node.right)\n",
    "                    \n",
    "        return ans"
   ]
  },
  {
   "cell_type": "markdown",
   "metadata": {},
   "source": [
    "<blockquote>\n",
    "<p>Example 2: <a href=\"https://leetcode.com/problems/find-largest-value-in-each-tree-row/\" target=\"_blank\">515. Find Largest Value in Each Tree Row</a></p>\n",
    "<p>Given the <code>root</code> of a binary tree, return an array of the largest value in each row of the tree.</p>\n",
    "</blockquote>"
   ]
  },
  {
   "cell_type": "code",
   "execution_count": 8,
   "metadata": {},
   "outputs": [],
   "source": [
    "from collections import deque\n",
    "from typing import List\n",
    "\n",
    "class Solution:\n",
    "    def largestValues(self, root: Optional[TreeNode]) -> List[int]:\n",
    "        if not root:\n",
    "            return []\n",
    "        \n",
    "        queue = deque([root])\n",
    "        ans = []\n",
    "        \n",
    "        while queue:\n",
    "            current_length = len(queue)\n",
    "            curr_max = float(\"-inf\")\n",
    "            \n",
    "            for _ in range(current_length):\n",
    "                node = queue.popleft()\n",
    "                curr_max = max(curr_max, node.val)\n",
    "                if node.left:\n",
    "                    queue.append(node.left)\n",
    "                if node.right:\n",
    "                    queue.append(node.right)\n",
    "            \n",
    "            ans.append(curr_max)\n",
    "        return ans"
   ]
  }
 ],
 "metadata": {
  "kernelspec": {
   "display_name": "Python 3",
   "language": "python",
   "name": "python3"
  },
  "language_info": {
   "codemirror_mode": {
    "name": "ipython",
    "version": 3
   },
   "file_extension": ".py",
   "mimetype": "text/x-python",
   "name": "python",
   "nbconvert_exporter": "python",
   "pygments_lexer": "ipython3",
   "version": "3.13.3"
  }
 },
 "nbformat": 4,
 "nbformat_minor": 2
}
