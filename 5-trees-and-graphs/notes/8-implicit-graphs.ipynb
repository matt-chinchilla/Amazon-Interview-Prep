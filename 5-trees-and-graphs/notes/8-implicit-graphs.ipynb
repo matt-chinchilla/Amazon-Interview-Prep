{
 "cells": [
  {
   "cell_type": "markdown",
   "metadata": {},
   "source": [
    "<blockquote>\n",
    "<p>Example 1: <a href=\"https://leetcode.com/problems/open-the-lock/\" target=\"_blank\">752. Open the Lock</a></p>\n",
    "<p>You have a lock with 4 circular wheels. Each wheel has the digits <code>0</code> to <code>9</code>. The wheels rotate and wrap around - so <code>0</code> can turn to <code>9</code> and <code>9</code> can turn to <code>0</code>. Initially, the lock reads <code>\"0000\"</code>. One move consists of turning a wheel one slot. You are given an array of blocked codes <code>deadends</code> - if the lock reads any of these codes, then it can no longer turn. Return the minimum number of moves to make the lock read <code>target</code>.</p>\n",
    "</blockquote>\n",
    "\n",
    "1) Perform a BFS from `0000`\n",
    "2) Turn `deadends` into a set before starting **BFS**\n",
    "3) Loop over each of the <u>4 slots</u>\n",
    "4) At each slot, `increment` and `decrement` the slot by `1`\n",
    "5) Put all the blocked codes from `deadends` in `seen` before starting BFS"
   ]
  },
  {
   "cell_type": "code",
   "execution_count": 11,
   "metadata": {},
   "outputs": [],
   "source": [
    "from typing import List\n",
    "from collections import deque\n",
    "\n",
    "class Solution:\n",
    "    def openLock(self, deadends: List[str], target: str) -> int:\n",
    "        breakpoint()\n",
    "        def neighbors(node):\n",
    "            \"\"\"\n",
    "            Takes a node and generates all strings that differ in position by a value of 1\n",
    "            \"\"\"\n",
    "            ans = []\n",
    "            for i in range(4):\n",
    "                num = int(node[i])\n",
    "                for change in [-1, 1]:\n",
    "                    x = (num + change) % 10\n",
    "                    ans.append(node[:i] + str(x) + node[i + 1:])\n",
    "            \n",
    "            return ans\n",
    "        \n",
    "        if \"0000\" in deadends:\n",
    "            return -1\n",
    "        \n",
    "        queue = deque([(\"0000\", 0)])\n",
    "        seen = set(deadends)\n",
    "        seen.add(\"0000\")\n",
    "        \n",
    "        while queue:\n",
    "            node, steps = queue.popleft()\n",
    "            if node == target:\n",
    "                return steps\n",
    "            \n",
    "            for neighbor in neighbors(node):\n",
    "                if neighbor not in seen:\n",
    "                    seen.add(neighbor)\n",
    "                    queue.append((neighbor, steps + 1))\n",
    "                    \n",
    "        return -1"
   ]
  },
  {
   "cell_type": "code",
   "execution_count": 13,
   "metadata": {},
   "outputs": [
    {
     "name": "stdout",
     "output_type": "stream",
     "text": [
      "6\n"
     ]
    }
   ],
   "source": [
    "sol = Solution()\n",
    "deadends = [\"0201\",\"0101\",\"0102\",\"1212\",\"2002\"]\n",
    "target = \"0202\"\n",
    "print(sol.openLock(deadends, target))"
   ]
  },
  {
   "cell_type": "markdown",
   "metadata": {},
   "source": [
    "<blockquote>\n",
    "<p>Example 2: <a href=\"https://leetcode.com/problems/evaluate-division/\" target=\"_blank\">399. Evaluate Division</a></p>\n",
    "<p>You are given an array <code>equations</code> and a number array <code>values</code> of the same length. <code>equations[i] = [x, y]</code> represents <code>x / y = values[i]</code>. You are also given an array <code>queries</code> where <code>queries[i] = [a, b]</code> which represents the quotient <code>a / b</code>. Return an array <code>answer</code> where <code>answer[i]</code> is the answer to the <span class=\"maths katex-rendered\"><span class=\"katex\"><span class=\"katex-mathml\"><math><semantics><mrow><msup><mi>i</mi><mrow><mi>t</mi><mi>h</mi></mrow></msup></mrow><annotation encoding=\"application/x-tex\">i^{th}</annotation></semantics></math></span><span class=\"katex-html\" aria-hidden=\"true\"><span class=\"base\"><span class=\"strut\" style=\"height: 0.849108em; vertical-align: 0em;\"></span><span class=\"mord\"><span class=\"mord mathdefault\">i</span><span class=\"msupsub\"><span class=\"vlist-t\"><span class=\"vlist-r\"><span class=\"vlist\" style=\"height: 0.849108em;\"><span class=\"\" style=\"top: -3.063em; margin-right: 0.05em;\"><span class=\"pstrut\" style=\"height: 2.7em;\"></span><span class=\"sizing reset-size6 size3 mtight\"><span class=\"mord mtight\"><span class=\"mord mathdefault mtight\">t</span><span class=\"mord mathdefault mtight\">h</span></span></span></span></span></span></span></span></span></span></span></span></span> query, or <code>-1</code> if it cannot be determined.</p>\n",
    "<p>For example, let's say we have <code>equations = [[\"a\", \"b\"], [\"b\", \"c\"]]</code> and <code>values = [2, 3]</code>. This input represents <span class=\"maths katex-rendered\"><span class=\"katex\"><span class=\"katex-mathml\"><math><semantics><mrow><mfrac><mi>a</mi><mi>b</mi></mfrac><mo>=</mo><mn>2</mn></mrow><annotation encoding=\"application/x-tex\">\\dfrac{a}{b} = 2</annotation></semantics></math></span><span class=\"katex-html\" aria-hidden=\"true\"><span class=\"base\"><span class=\"strut\" style=\"height: 1.79356em; vertical-align: -0.686em;\"></span><span class=\"mord\"><span class=\"mopen nulldelimiter\"></span><span class=\"mfrac\"><span class=\"vlist-t vlist-t2\"><span class=\"vlist-r\"><span class=\"vlist\" style=\"height: 1.10756em;\"><span class=\"\" style=\"top: -2.314em;\"><span class=\"pstrut\" style=\"height: 3em;\"></span><span class=\"mord\"><span class=\"mord mathdefault\">b</span></span></span><span class=\"\" style=\"top: -3.23em;\"><span class=\"pstrut\" style=\"height: 3em;\"></span><span class=\"frac-line\" style=\"border-bottom-width: 0.04em;\"></span></span><span class=\"\" style=\"top: -3.677em;\"><span class=\"pstrut\" style=\"height: 3em;\"></span><span class=\"mord\"><span class=\"mord mathdefault\">a</span></span></span></span><span class=\"vlist-s\">​</span></span><span class=\"vlist-r\"><span class=\"vlist\" style=\"height: 0.686em;\"><span class=\"\"></span></span></span></span></span><span class=\"mclose nulldelimiter\"></span></span><span class=\"mspace\" style=\"margin-right: 0.277778em;\"></span><span class=\"mrel\">=</span><span class=\"mspace\" style=\"margin-right: 0.277778em;\"></span></span><span class=\"base\"><span class=\"strut\" style=\"height: 0.64444em; vertical-align: 0em;\"></span><span class=\"mord\">2</span></span></span></span></span> and <span class=\"maths katex-rendered\"><span class=\"katex\"><span class=\"katex-mathml\"><math><semantics><mrow><mfrac><mi>b</mi><mi>c</mi></mfrac><mo>=</mo><mn>3</mn></mrow><annotation encoding=\"application/x-tex\">\\dfrac{b}{c} = 3</annotation></semantics></math></span><span class=\"katex-html\" aria-hidden=\"true\"><span class=\"base\"><span class=\"strut\" style=\"height: 2.05744em; vertical-align: -0.686em;\"></span><span class=\"mord\"><span class=\"mopen nulldelimiter\"></span><span class=\"mfrac\"><span class=\"vlist-t vlist-t2\"><span class=\"vlist-r\"><span class=\"vlist\" style=\"height: 1.37144em;\"><span class=\"\" style=\"top: -2.314em;\"><span class=\"pstrut\" style=\"height: 3em;\"></span><span class=\"mord\"><span class=\"mord mathdefault\">c</span></span></span><span class=\"\" style=\"top: -3.23em;\"><span class=\"pstrut\" style=\"height: 3em;\"></span><span class=\"frac-line\" style=\"border-bottom-width: 0.04em;\"></span></span><span class=\"\" style=\"top: -3.677em;\"><span class=\"pstrut\" style=\"height: 3em;\"></span><span class=\"mord\"><span class=\"mord mathdefault\">b</span></span></span></span><span class=\"vlist-s\">​</span></span><span class=\"vlist-r\"><span class=\"vlist\" style=\"height: 0.686em;\"><span class=\"\"></span></span></span></span></span><span class=\"mclose nulldelimiter\"></span></span><span class=\"mspace\" style=\"margin-right: 0.277778em;\"></span><span class=\"mrel\">=</span><span class=\"mspace\" style=\"margin-right: 0.277778em;\"></span></span><span class=\"base\"><span class=\"strut\" style=\"height: 0.64444em; vertical-align: 0em;\"></span><span class=\"mord\">3</span></span></span></span></span>. If we had a query <code>[\"a\", \"c\"]</code>, the answer to that query would be <code>6</code>, because we can deduce that <span class=\"maths katex-rendered\"><span class=\"katex\"><span class=\"katex-mathml\"><math><semantics><mrow><mfrac><mi>a</mi><mi>c</mi></mfrac><mo>=</mo><mn>6</mn></mrow><annotation encoding=\"application/x-tex\">\\dfrac{a}{c} = 6</annotation></semantics></math></span><span class=\"katex-html\" aria-hidden=\"true\"><span class=\"base\"><span class=\"strut\" style=\"height: 1.79356em; vertical-align: -0.686em;\"></span><span class=\"mord\"><span class=\"mopen nulldelimiter\"></span><span class=\"mfrac\"><span class=\"vlist-t vlist-t2\"><span class=\"vlist-r\"><span class=\"vlist\" style=\"height: 1.10756em;\"><span class=\"\" style=\"top: -2.314em;\"><span class=\"pstrut\" style=\"height: 3em;\"></span><span class=\"mord\"><span class=\"mord mathdefault\">c</span></span></span><span class=\"\" style=\"top: -3.23em;\"><span class=\"pstrut\" style=\"height: 3em;\"></span><span class=\"frac-line\" style=\"border-bottom-width: 0.04em;\"></span></span><span class=\"\" style=\"top: -3.677em;\"><span class=\"pstrut\" style=\"height: 3em;\"></span><span class=\"mord\"><span class=\"mord mathdefault\">a</span></span></span></span><span class=\"vlist-s\">​</span></span><span class=\"vlist-r\"><span class=\"vlist\" style=\"height: 0.686em;\"><span class=\"\"></span></span></span></span></span><span class=\"mclose nulldelimiter\"></span></span><span class=\"mspace\" style=\"margin-right: 0.277778em;\"></span><span class=\"mrel\">=</span><span class=\"mspace\" style=\"margin-right: 0.277778em;\"></span></span><span class=\"base\"><span class=\"strut\" style=\"height: 0.64444em; vertical-align: 0em;\"></span><span class=\"mord\">6</span></span></span></span></span>.</p>\n",
    "</blockquote>"
   ]
  },
  {
   "cell_type": "markdown",
   "metadata": {},
   "source": [
    "<u><h3><span style=\"color:red\">HOW THIS ALL WORKS</span></h3></u>\n",
    "\n",
    "1) If `a == 2b` then `a` is a <u>Node Connected to `b` and the EDGE has a multiplier of `2`</u>\n",
    "2) If `b == 3c` then `b` is a <u>Node Connected to `c` and the EDGE has a multiplier of `3`</u>\n",
    "3) Create a `graph` using a hash map where <u>Each node maps to another hash map containing the relationships given in the input</u>\n",
    "    - Ex: `a` would map to a **hash map** which maps `b: 2`\n",
    "\n",
    "<u><h3><span style=\"color:red\">The Steps:</span></h3></u>\n",
    "\n",
    "1) Create the `graph` with a **hash map**\n",
    "2) start at the ***numerator*** and search for the ***denominator*** while associating the current ratio/multiplier (initially `1`) with **each node** \n",
    "3) On each `neighbor` traversal, I multiply the **current ratio** with whatever the ratio is between neighbors\n",
    "4) Make the graph <span style=\"color:red\">Undirected</span> by applying the <u>Multiplicative inverse</u> of each ratio\n",
    "    - Ex: $\\frac{x}{y} = \\text{val}$ also should have $\\frac{y}{x} = \\frac{1}{\\text{val}}$"
   ]
  },
  {
   "cell_type": "code",
   "execution_count": 2,
   "metadata": {},
   "outputs": [],
   "source": [
    "from typing import List\n",
    "from collections import defaultdict\n",
    "\n",
    "class Solution:\n",
    "    def calcEquation(self, equations: List[List[str]], values: List[float], queries: List[List[str]]) -> List[float]:\n",
    "        def answer_query(start_node, end_node):\n",
    "            if start_node not in graph:\n",
    "                return -1\n",
    "            \n",
    "            seen = {start_node}\n",
    "            stack = [(start_node, 1)]\n",
    "            \n",
    "            while stack:\n",
    "                node, ratio = stack.pop()\n",
    "                if node == end_node:                # If the node is the ending-node\n",
    "                    return ratio\n",
    "\n",
    "                for neighbor in graph[node]:        # Otherwise, iterate over the neighbors of the current node\n",
    "                    if neighbor not in seen:\n",
    "                        seen.add(neighbor)\n",
    "                        stack.append((neighbor, ratio * graph[node][neighbor]))\n",
    "            \n",
    "            return -1\n",
    "        breakpoint()\n",
    "        graph = defaultdict(dict)                   # defaultdict(dict) == dictOfAllNodes(dictOfAllANodesNeighbors)\n",
    "        for i in range(len(equations)):\n",
    "            numerator, denomenator = equations[i]\n",
    "            val = values[i]\n",
    "            graph[numerator][denomenator] = val     # Make the graph Undirected\n",
    "            graph[denomenator][numerator] = 1 / val\n",
    "        \n",
    "        ans = []    \n",
    "        for numerator, denominator in queries:\n",
    "            ans.append(answer_query(numerator, denominator))\n",
    "            \n",
    "        return ans"
   ]
  },
  {
   "cell_type": "code",
   "execution_count": null,
   "metadata": {},
   "outputs": [],
   "source": [
    "# Faster Version of the last program"
   ]
  },
  {
   "cell_type": "code",
   "execution_count": 4,
   "metadata": {},
   "outputs": [
    {
     "name": "stdout",
     "output_type": "stream",
     "text": [
      "[6.0, 0.5, -1, 1, -1]\n"
     ]
    }
   ],
   "source": [
    "sol = Solution()\n",
    "equations = [[\"a\",\"b\"],[\"b\",\"c\"]]                               # eq[0]  = [['a', 'b']]\n",
    "values = [2.0,3.0]                                              # val[0] = 2.0 == ('a'/'b') && val[1] = 3.0 == ('b'/'c')\n",
    "queries = [[\"a\",\"c\"],[\"b\",\"a\"],[\"a\",\"e\"],[\"a\",\"a\"],[\"x\",\"x\"]]   \n",
    "print(sol.calcEquation(equations, values, queries))"
   ]
  },
  {
   "cell_type": "code",
   "execution_count": 6,
   "metadata": {},
   "outputs": [
    {
     "ename": "ValueError",
     "evalue": "could not convert string to float: 'A'",
     "output_type": "error",
     "traceback": [
      "\u001b[31m---------------------------------------------------------------------------\u001b[39m",
      "\u001b[31mValueError\u001b[39m                                Traceback (most recent call last)",
      "\u001b[36mCell\u001b[39m\u001b[36m \u001b[39m\u001b[32mIn[6]\u001b[39m\u001b[32m, line 2\u001b[39m\n\u001b[32m      1\u001b[39m a = \u001b[33m\"\u001b[39m\u001b[33mA\u001b[39m\u001b[33m\"\u001b[39m\n\u001b[32m----> \u001b[39m\u001b[32m2\u001b[39m num = \u001b[38;5;28;43mfloat\u001b[39;49m\u001b[43m(\u001b[49m\u001b[43ma\u001b[49m\u001b[43m)\u001b[49m\n\u001b[32m      3\u001b[39m \u001b[38;5;28mprint\u001b[39m(num)\n",
      "\u001b[31mValueError\u001b[39m: could not convert string to float: 'A'"
     ]
    }
   ],
   "source": [
    "a = \"A\"\n",
    "num = float(a)\n",
    "print(num)"
   ]
  }
 ],
 "metadata": {
  "kernelspec": {
   "display_name": "Python 3",
   "language": "python",
   "name": "python3"
  },
  "language_info": {
   "codemirror_mode": {
    "name": "ipython",
    "version": 3
   },
   "file_extension": ".py",
   "mimetype": "text/x-python",
   "name": "python",
   "nbconvert_exporter": "python",
   "pygments_lexer": "ipython3",
   "version": "3.13.3"
  }
 },
 "nbformat": 4,
 "nbformat_minor": 2
}
