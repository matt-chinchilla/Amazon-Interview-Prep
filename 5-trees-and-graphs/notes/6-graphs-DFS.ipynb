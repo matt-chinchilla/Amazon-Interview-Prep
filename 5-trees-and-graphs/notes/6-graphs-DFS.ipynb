{
 "cells": [
  {
   "cell_type": "markdown",
   "metadata": {},
   "source": [
    "<blockquote>\n",
    "<p>Example 1: <a href=\"https://leetcode.com/problems/number-of-provinces/\" target=\"_blank\">547. Number of Provinces</a></p>\n",
    "<p>There are <code>n</code> cities. A province is a group of directly or indirectly connected cities and no other cities outside of the group. You are given an <code>n x n</code> matrix <code>isConnected</code> where <code>isConnected[i][j] = isConnected[j][i] = 1</code> if the <span class=\"maths katex-rendered\"><span class=\"katex\"><span class=\"katex-mathml\"><math><semantics><mrow><msup><mi>i</mi><mrow><mi>t</mi><mi>h</mi></mrow></msup></mrow><annotation encoding=\"application/x-tex\">i^{th}</annotation></semantics></math></span><span class=\"katex-html\" aria-hidden=\"true\"><span class=\"base\"><span class=\"strut\" style=\"height: 0.849108em; vertical-align: 0em;\"></span><span class=\"mord\"><span class=\"mord mathdefault\">i</span><span class=\"msupsub\"><span class=\"vlist-t\"><span class=\"vlist-r\"><span class=\"vlist\" style=\"height: 0.849108em;\"><span class=\"\" style=\"top: -3.063em; margin-right: 0.05em;\"><span class=\"pstrut\" style=\"height: 2.7em;\"></span><span class=\"sizing reset-size6 size3 mtight\"><span class=\"mord mtight\"><span class=\"mord mathdefault mtight\">t</span><span class=\"mord mathdefault mtight\">h</span></span></span></span></span></span></span></span></span></span></span></span></span> city and the <span class=\"maths katex-rendered\"><span class=\"katex\"><span class=\"katex-mathml\"><math><semantics><mrow><msup><mi>j</mi><mrow><mi>t</mi><mi>h</mi></mrow></msup></mrow><annotation encoding=\"application/x-tex\">j^{th}</annotation></semantics></math></span><span class=\"katex-html\" aria-hidden=\"true\"><span class=\"base\"><span class=\"strut\" style=\"height: 1.04355em; vertical-align: -0.19444em;\"></span><span class=\"mord\"><span class=\"mord mathdefault\" style=\"margin-right: 0.05724em;\">j</span><span class=\"msupsub\"><span class=\"vlist-t\"><span class=\"vlist-r\"><span class=\"vlist\" style=\"height: 0.849108em;\"><span class=\"\" style=\"top: -3.063em; margin-right: 0.05em;\"><span class=\"pstrut\" style=\"height: 2.7em;\"></span><span class=\"sizing reset-size6 size3 mtight\"><span class=\"mord mtight\"><span class=\"mord mathdefault mtight\">t</span><span class=\"mord mathdefault mtight\">h</span></span></span></span></span></span></span></span></span></span></span></span></span> city are directly connected, and <code>isConnected[i][j] = 0</code> otherwise. Return the total number of provinces.</p>\n",
    "<p>If you're a beginner, we recommend clicking on the problem link and having it open in another tab for all problems in this article so that you can see the example test cases and any images associated with them. You should also be familiar with graph terminology like \"connected components\". Please review the terminology in the article titled \"Graphs\" or have it open in another tab if you're not yet familiar with it.</p>\n",
    "</blockquote>"
   ]
  },
  {
   "cell_type": "code",
   "execution_count": 1,
   "metadata": {},
   "outputs": [],
   "source": [
    "from collections import defaultdict\n",
    "\n",
    "class Solution:\n",
    "    def findCircleNum(self, isConnected: list[list[int]]) -> int:\n",
    "        breakpoint()\n",
    "        def dfs(node):\n",
    "            for neighbor in graph[node]:    # 3) for neighbors of the current node\n",
    "                if neighbor not in seen:\n",
    "                    seen.add(neighbor)      \n",
    "                    dfs(neighbor)           # 4) If the neighbor is new, add it to the set and recursively call on the node in question\n",
    "                    \n",
    "        n = len(isConnected)                # 1) Declaration of the number of nodes in the graph\n",
    "        graph = defaultdict(list)\n",
    "        for i in range(n):\n",
    "            for j in range(i + 1, n):\n",
    "                if isConnected[i][j]:       # 2) If the two cities are connected\n",
    "                    graph[i].append(j)\n",
    "                    graph[j].append(i)\n",
    "                    \n",
    "        seen = set()\n",
    "        ans = 0\n",
    "        \n",
    "        for i in range(n):      # For each of the known cities\n",
    "            if i not in seen:\n",
    "                ans += 1\n",
    "                seen.add(i)\n",
    "                dfs(i)\n",
    "                \n",
    "        return ans"
   ]
  },
  {
   "cell_type": "code",
   "execution_count": 2,
   "metadata": {},
   "outputs": [
    {
     "name": "stdout",
     "output_type": "stream",
     "text": [
      "Test 1 Output: 2\n"
     ]
    }
   ],
   "source": [
    "sol = Solution()\n",
    "test1 = [[1,1,0],[1,1,0],[0,0,1]]\n",
    "print(\"Test 1 Output:\", sol.findCircleNum(test1))"
   ]
  },
  {
   "cell_type": "markdown",
   "metadata": {},
   "source": [
    "<blockquote>\n",
    "<p>Example 2: <a href=\"https://leetcode.com/problems/number-of-islands/\" target=\"_blank\">200. Number of Islands</a></p>\n",
    "<p>Given an <code>m x n</code> 2D binary <code>grid</code> which represents a map of <code>1</code> (land) and <code>0</code> (water), return the number of islands. An island is surrounded by water and is formed by connecting adjacent land cells horizontally or vertically.</p>\n",
    "</blockquote>"
   ]
  },
  {
   "cell_type": "code",
   "execution_count": 7,
   "metadata": {},
   "outputs": [],
   "source": [
    "class Solution:\n",
    "    def numIslands(self, grid: list[list[str]]) -> int:\n",
    "        def valid(row, col):\n",
    "            return 0 <= row < m and 0 <= col < n and grid[row][col] == \"1\"\n",
    "        \n",
    "        # Convert to a hash map\n",
    "        def dfs(row, col):\n",
    "            for dx, dy in directions:\n",
    "                next_row, next_col = row + dx, col + dy\n",
    "                if valid(next_row, next_col) and (next_row, next_col) not in seen:\n",
    "                    seen.add((next_row, next_col))\n",
    "                    dfs(next_row, next_col)\n",
    "        breakpoint()\n",
    "        directions = [(0,1), (1,0), (0, -1), (-1, 0)] # Right, Down, Left, Up\n",
    "        seen = set()\n",
    "        num_islands = 0\n",
    "        m = len(grid)\n",
    "        n = len(grid[0])\n",
    "        \n",
    "        for row in range(m):\n",
    "            for col in range(n):\n",
    "                if grid[row][col] == \"1\" and (row, col) not in seen:\n",
    "                    num_islands += 1\n",
    "                    seen.add((row, col))\n",
    "                    dfs(row, col)\n",
    "                    \n",
    "        return num_islands"
   ]
  },
  {
   "cell_type": "code",
   "execution_count": 10,
   "metadata": {},
   "outputs": [
    {
     "name": "stdout",
     "output_type": "stream",
     "text": [
      "Output 4\n"
     ]
    }
   ],
   "source": [
    "sol = Solution()\n",
    "test1 = [[\"1\",\"1\",\"0\",\"0\",\"0\",\"1\"],\n",
    "         [\"0\",\"1\",\"0\",\"0\",\"0\",\"0\"],\n",
    "         [\"0\",\"1\",\"1\",\"0\",\"1\",\"1\"],\n",
    "         [\"0\",\"0\",\"0\",\"0\",\"0\",\"1\"],\n",
    "         [\"1\",\"1\",\"1\",\"1\",\"0\",\"1\"],\n",
    "         [\"1\",\"1\",\"1\",\"1\",\"0\",\"1\"],]\n",
    "print(\"Output\", sol.numIslands(test1))"
   ]
  },
  {
   "cell_type": "markdown",
   "metadata": {},
   "source": [
    "<blockquote>\n",
    "<p>Example 3: <a href=\"https://leetcode.com/problems/reorder-routes-to-make-all-paths-lead-to-the-city-zero/\" target=\"_blank\">1466. Reorder Routes to Make All Paths Lead to the City Zero</a></p>\n",
    "<p>There are <code>n</code> cities numbered from <code>0</code> to <code>n - 1</code> and <code>n - 1</code> roads such that there is only one way to travel between two different cities. Roads are represented by <code>connections</code> where <code>connections[i] = [x, y]</code> represents a road from city <code>x</code> to city <code>y</code>. The edges are directed. You need to swap the direction of some edges so that every city can reach city <code>0</code>. Return the minimum number of swaps needed.</p>\n",
    "</blockquote>"
   ]
  },
  {
   "cell_type": "code",
   "execution_count": 2,
   "metadata": {},
   "outputs": [],
   "source": [
    "from typing import List\n",
    "from collections import defaultdict\n",
    "\n",
    "class Solution:\n",
    "    def minReorder(self, n: int, connections: List[List[int]]) -> int:\n",
    "        breakpoint()\n",
    "        roads = set()               # Increment the answer when the road being traveled on is moving away from city 0\n",
    "        \n",
    "        # Convert to a hash map\n",
    "        graph = defaultdict(list)\n",
    "        for x, y in connections:\n",
    "            graph[x].append(y)\n",
    "            graph[y].append(x)\n",
    "            roads.add((x,y))        # Add OG nodes to the set\n",
    "            \n",
    "        def dfs(node):\n",
    "            ans = 0\n",
    "            for neighbor in graph[node]:\n",
    "                if neighbor not in seen:\n",
    "                    if (node, neighbor) in roads: # How to detect if we need to increment the answer\n",
    "                        ans += 1\n",
    "                    seen.add(neighbor)\n",
    "                    ans += dfs(neighbor)\n",
    "                    \n",
    "            return ans        \n",
    "            \n",
    "        seen = {0}\n",
    "        return dfs(0)"
   ]
  },
  {
   "cell_type": "code",
   "execution_count": 2,
   "metadata": {},
   "outputs": [
    {
     "name": "stdout",
     "output_type": "stream",
     "text": [
      "3\n"
     ]
    }
   ],
   "source": [
    "n = 6 \n",
    "connections = [[0,1],[1,3],[2,3],[4,0],[4,5]]\n",
    "sol = Solution()\n",
    "print(sol.minReorder(n, connections))"
   ]
  },
  {
   "cell_type": "markdown",
   "metadata": {},
   "source": [
    "<blockquote>\n",
    "<p>Example 4: <a href=\"https://leetcode.com/problems/keys-and-rooms/\" target=\"_blank\">841. Keys and Rooms</a></p>\n",
    "<p>There are <code>n</code> rooms labeled from <code>0</code> to <code>n - 1</code> and all the rooms are locked except for room <code>0</code>. Your goal is to visit all the rooms. When you visit a room, you may find a set of distinct keys in it. Each key has a number on it, denoting which room it unlocks, and you can take all of them with you to unlock the other rooms. Given an array <code>rooms</code> where <code>rooms[i]</code> is the set of keys that you can obtain if you visited room <code>i</code>, return true if you can visit all the rooms, or false otherwise.</p>\n",
    "</blockquote>"
   ]
  },
  {
   "cell_type": "code",
   "execution_count": 2,
   "metadata": {},
   "outputs": [],
   "source": [
    "from collections import defaultdict\n",
    "\n",
    "class Solution:\n",
    "    def canVisitAllRooms(self, rooms: List[List[int]]) -> bool:\n",
    "        def dfs(node):\n",
    "            for neighbor in rooms[node]:\n",
    "                if neighbor not in seen:\n",
    "                    seen.add(neighbor)\n",
    "                    dfs(neighbor)\n",
    "                    \n",
    "        seen = {0}\n",
    "        dfs(0)\n",
    "        return len(seen) == len(rooms)"
   ]
  },
  {
   "cell_type": "markdown",
   "metadata": {},
   "source": [
    "<blockquote>\n",
    "<p>Example 5: <a href=\"https://leetcode.com/problems/minimum-number-of-vertices-to-reach-all-nodes/\" target=\"_blank\">1557. Minimum Number of Vertices to Reach All Nodes</a></p>\n",
    "<p>Given a directed acyclic graph, with <code>n</code> vertices numbered from <code>0</code> to <code>n-1</code>, and an array <code>edges</code> where <code>edges[i] = [x, y]</code> represents a directed edge from node <code>x</code> to node <code>y</code>. Find the smallest set of vertices from which all nodes in the graph are reachable.</p>\n",
    "</blockquote>"
   ]
  },
  {
   "cell_type": "code",
   "execution_count": 3,
   "metadata": {},
   "outputs": [],
   "source": [
    "class Solution:\n",
    "    def findSmallestSetOfVertices(self, n: int, edges: List[List[int]]) -> List[int]:\n",
    "        breakpoint()\n",
    "        indegree = [0] * n\n",
    "        for _, y in edges:\n",
    "            indegree[y] += 1\n",
    "            \n",
    "        return [node for node in range(n) if indegree[node] == 0]"
   ]
  },
  {
   "cell_type": "code",
   "execution_count": 4,
   "metadata": {},
   "outputs": [
    {
     "name": "stdout",
     "output_type": "stream",
     "text": [
      "[0, 3]\n"
     ]
    }
   ],
   "source": [
    "sol = Solution()\n",
    "edges = [[0,1],[0,2],[2,5],[3,4],[4,2]]\n",
    "n = 6\n",
    "print(sol.findSmallestSetOfVertices(n, edges))"
   ]
  }
 ],
 "metadata": {
  "kernelspec": {
   "display_name": "Python 3",
   "language": "python",
   "name": "python3"
  },
  "language_info": {
   "codemirror_mode": {
    "name": "ipython",
    "version": 3
   },
   "file_extension": ".py",
   "mimetype": "text/x-python",
   "name": "python",
   "nbconvert_exporter": "python",
   "pygments_lexer": "ipython3",
   "version": "3.13.3"
  }
 },
 "nbformat": 4,
 "nbformat_minor": 2
}
