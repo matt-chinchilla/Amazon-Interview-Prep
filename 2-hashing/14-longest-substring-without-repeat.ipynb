{
 "cells": [
  {
   "cell_type": "markdown",
   "metadata": {},
   "source": [
    "#### <u>Longest Substring Without Repeating Characters</u>\n",
    "<div class=\"question-detail\"><div class=\"question-description__3U1T\"><div><p>Given a string <code>s</code>, find the length of the <strong>longest</strong> <span data-keyword=\"substring-nonempty\"><strong>substring</strong></span> without duplicate characters.</p>\n",
    "\n",
    "<p>&nbsp;</p>\n",
    "<p><strong class=\"example\">Example 1:</strong></p>\n",
    "\n",
    "<pre><strong>Input:</strong> s = \"abcabcbb\"\n",
    "<strong>Output:</strong> 3\n",
    "<strong>Explanation:</strong> The answer is \"abc\", with the length of 3.\n",
    "</pre>\n",
    "\n",
    "<p><strong class=\"example\">Example 2:</strong></p>\n",
    "\n",
    "<pre><strong>Input:</strong> s = \"bbbbb\"\n",
    "<strong>Output:</strong> 1\n",
    "<strong>Explanation:</strong> The answer is \"b\", with the length of 1.\n",
    "</pre>\n",
    "\n",
    "<p><strong class=\"example\">Example 3:</strong></p>\n",
    "\n",
    "<pre><strong>Input:</strong> s = \"pwwkew\"\n",
    "<strong>Output:</strong> 3\n",
    "<strong>Explanation:</strong> The answer is \"wke\", with the length of 3.\n",
    "Notice that the answer must be a substring, \"pwke\" is a subsequence and not a substring.\n",
    "</pre>\n",
    "\n",
    "<p>&nbsp;</p>\n",
    "<p><strong>Constraints:</strong></p>\n",
    "\n",
    "<ul>\n",
    "\t<li><code>0 &lt;= s.length &lt;= 5 * 10<sup>4</sup></code></li>\n",
    "\t<li><code>s</code> consists of English letters, digits, symbols and spaces.</li>\n",
    "</ul>\n",
    "</div></div></div>"
   ]
  },
  {
   "cell_type": "code",
   "execution_count": 2,
   "metadata": {},
   "outputs": [],
   "source": [
    "from collections import defaultdict\n",
    "from pprint import pprint\n",
    "\n",
    "class Solution:\n",
    "    def lengthOfLongestSubstring(self, s: str) -> int:\n",
    "        seen = set()\n",
    "        left = max_len = 0\n",
    "        \n",
    "        for right in range(len(s)):\n",
    "            while s[right] in seen:\n",
    "                seen.remove(s[left])\n",
    "                left += 1\n",
    "                \n",
    "            seen.add(s[right])\n",
    "            max_len = max(max_len, right - left + 1)\n",
    "        \n",
    "        return max_len"
   ]
  },
  {
   "cell_type": "code",
   "execution_count": 3,
   "metadata": {},
   "outputs": [
    {
     "data": {
      "text/plain": [
       "3"
      ]
     },
     "execution_count": 3,
     "metadata": {},
     "output_type": "execute_result"
    }
   ],
   "source": [
    "sol = Solution()\n",
    "s = \"pwwkew\"\n",
    "sol.lengthOfLongestSubstring(s)"
   ]
  }
 ],
 "metadata": {
  "kernelspec": {
   "display_name": "Python 3",
   "language": "python",
   "name": "python3"
  },
  "language_info": {
   "codemirror_mode": {
    "name": "ipython",
    "version": 3
   },
   "file_extension": ".py",
   "mimetype": "text/x-python",
   "name": "python",
   "nbconvert_exporter": "python",
   "pygments_lexer": "ipython3",
   "version": "3.13.2"
  }
 },
 "nbformat": 4,
 "nbformat_minor": 2
}
