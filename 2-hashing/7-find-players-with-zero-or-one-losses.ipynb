{
 "cells": [
  {
   "cell_type": "markdown",
   "metadata": {},
   "source": [
    "#### 7) <u>Find Players With Zero or One Losses</u>\n",
    "<div><p>You are given an integer array <code>matches</code> where <code>matches[i] = [winner<sub>i</sub>, loser<sub>i</sub>]</code> indicates that the player <code>winner<sub>i</sub></code> defeated player <code>loser<sub>i</sub></code> in a match.</p>\n",
    "\n",
    "<p>Return <em>a list </em><code>answer</code><em> of size </em><code>2</code><em> where:</em></p>\n",
    "\n",
    "<ul>\n",
    "\t<li><code>answer[0]</code> is a list of all players that have <strong>not</strong> lost any matches.</li>\n",
    "\t<li><code>answer[1]</code> is a list of all players that have lost exactly <strong>one</strong> match.</li>\n",
    "</ul>\n",
    "\n",
    "<p>The values in the two lists should be returned in <strong>increasing</strong> order.</p>\n",
    "\n",
    "<p><strong>Note:</strong></p>\n",
    "\n",
    "<ul>\n",
    "\t<li>You should only consider the players that have played <strong>at least one</strong> match.</li>\n",
    "\t<li>The testcases will be generated such that <strong>no</strong> two matches will have the <strong>same</strong> outcome.</li>\n",
    "</ul>\n",
    "\n",
    "<p>&nbsp;</p>\n",
    "<p><strong class=\"example\">Example 1:</strong></p>\n",
    "\n",
    "<pre><strong>Input:</strong> matches = [[1,3],[2,3],[3,6],[5,6],[5,7],[4,5],[4,8],[4,9],[10,4],[10,9]]\n",
    "<strong>Output:</strong> [[1,2,10],[4,5,7,8]]\n",
    "<strong>Explanation:</strong>\n",
    "Players 1, 2, and 10 have not lost any matches.\n",
    "Players 4, 5, 7, and 8 each have lost one match.\n",
    "Players 3, 6, and 9 each have lost two matches.\n",
    "Thus, answer[0] = [1,2,10] and answer[1] = [4,5,7,8].\n",
    "</pre>\n",
    "\n",
    "<p><strong class=\"example\">Example 2:</strong></p>\n",
    "\n",
    "<pre><strong>Input:</strong> matches = [[2,3],[1,3],[5,4],[6,4]]\n",
    "<strong>Output:</strong> [[1,2,5,6],[]]\n",
    "<strong>Explanation:</strong>\n",
    "Players 1, 2, 5, and 6 have not lost any matches.\n",
    "Players 3 and 4 each have lost two matches.\n",
    "Thus, answer[0] = [1,2,5,6] and answer[1] = [].\n",
    "</pre>\n",
    "\n",
    "<p>&nbsp;</p>\n",
    "<p><strong>Constraints:</strong></p>\n",
    "\n",
    "<ul>\n",
    "\t<li><code>1 &lt;= matches.length &lt;= 10<sup>5</sup></code></li>\n",
    "\t<li><code>matches[i].length == 2</code></li>\n",
    "\t<li><code>1 &lt;= winner<sub>i</sub>, loser<sub>i</sub> &lt;= 10<sup>5</sup></code></li>\n",
    "\t<li><code>winner<sub>i</sub> != loser<sub>i</sub></code></li>\n",
    "\t<li>All <code>matches[i]</code> are <strong>unique</strong>.</li>\n",
    "</ul>\n",
    "</div>"
   ]
  },
  {
   "cell_type": "code",
   "execution_count": 7,
   "metadata": {},
   "outputs": [],
   "source": [
    "from typing import List\n",
    "from collections import defaultdict\n",
    "\n",
    "class Solution:\n",
    "    def findWinners(self, matches: List[List[int]]):\n",
    "        winners, losers = defaultdict(int), defaultdict(int)\n",
    "        \n",
    "        for winner, loser in matches:\n",
    "            winners[winner] += 1\n",
    "            losers[loser] += 1\n",
    "        \n",
    "        viable_winners = []\n",
    "        viable_losers = []\n",
    "        \n",
    "        for key in winners:\n",
    "            if key not in losers:\n",
    "                viable_winners.append(key)\n",
    "                \n",
    "        for key in losers:\n",
    "            if losers[key] == 1:\n",
    "                viable_losers.append(key) \n",
    "                       \n",
    "        totals = [sorted(viable_winners), sorted(viable_losers)]\n",
    "        \n",
    "        return totals"
   ]
  },
  {
   "cell_type": "code",
   "execution_count": 8,
   "metadata": {},
   "outputs": [
    {
     "data": {
      "text/plain": [
       "[[1, 2, 10], [4, 5, 7, 8]]"
      ]
     },
     "execution_count": 8,
     "metadata": {},
     "output_type": "execute_result"
    }
   ],
   "source": [
    "sol = Solution()\n",
    "matches = [[1,3],[2,3],[3,6],[5,6],[5,7],[4,5],[4,8],[4,9],[10,4],[10,9]]\n",
    "\n",
    "sol.findWinners(matches)"
   ]
  },
  {
   "cell_type": "code",
   "execution_count": 10,
   "metadata": {},
   "outputs": [],
   "source": [
    "# Smart way to do it\n",
    "class Solution:\n",
    "    def findWinners(self, matches: List[List[int]]) -> List[List[int]]:\n",
    "        winners = set()\n",
    "        losers = set()\n",
    "        more_than_once = set()\n",
    "        \n",
    "        for [w, l] in matches:\n",
    "            winners.add(w)\n",
    "            if l in losers:                                 # If the \"losers.add(l)\" function has already been ran on this key\n",
    "                more_than_once.add(l)\n",
    "            else:\n",
    "                losers.add(l)\n",
    "                \n",
    "        never_lose = list(winners - losers)                 # Subtract the keys (player ids) of losers from winners\n",
    "        lose_once = list(losers - more_than_once)\n",
    "        never_lose.sort()\n",
    "        lose_once.sort()\n",
    "        \n",
    "        return [never_lose, lose_once]  "
   ]
  }
 ],
 "metadata": {
  "kernelspec": {
   "display_name": "Python 3",
   "language": "python",
   "name": "python3"
  },
  "language_info": {
   "codemirror_mode": {
    "name": "ipython",
    "version": 3
   },
   "file_extension": ".py",
   "mimetype": "text/x-python",
   "name": "python",
   "nbconvert_exporter": "python",
   "pygments_lexer": "ipython3",
   "version": "3.13.3"
  }
 },
 "nbformat": 4,
 "nbformat_minor": 2
}
