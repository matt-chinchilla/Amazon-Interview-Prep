{
 "cells": [
  {
   "cell_type": "markdown",
   "metadata": {},
   "source": [
    "#### 9) <u>Maximum Number of Balloons</u>\n",
    "<hr>\n",
    "<div class=\"question-description__3U1T\"><div><p>Given a string <code>text</code>, you want to use the characters of <code>text</code> to form as many instances of the word <strong>\"balloon\"</strong> as possible.</p>\n",
    "\n",
    "<p>You can use each character in <code>text</code> <strong>at most once</strong>. Return the maximum number of instances that can be formed.</p>\n",
    "\n",
    "<p>&nbsp;</p>\n",
    "<p><strong class=\"example\">Example 1:</strong></p>\n",
    "\n",
    "<p><strong><img alt=\"\" src=\"https://assets.leetcode.com/uploads/2019/09/05/1536_ex1_upd.JPG\" style=\"width: 132px; height: 35px;\"></strong></p>\n",
    "\n",
    "<pre><strong>Input:</strong> text = \"nlaebolko\"\n",
    "<strong>Output:</strong> 1\n",
    "</pre>\n",
    "\n",
    "<p><strong class=\"example\">Example 2:</strong></p>\n",
    "\n",
    "<p><strong><img alt=\"\" src=\"https://assets.leetcode.com/uploads/2019/09/05/1536_ex2_upd.JPG\" style=\"width: 267px; height: 35px;\"></strong></p>\n",
    "\n",
    "<pre><strong>Input:</strong> text = \"loonbalxballpoon\"\n",
    "<strong>Output:</strong> 2\n",
    "</pre>\n",
    "\n",
    "<p><strong class=\"example\">Example 3:</strong></p>\n",
    "\n",
    "<pre><strong>Input:</strong> text = \"leetcode\"\n",
    "<strong>Output:</strong> 0\n",
    "</pre>\n",
    "\n",
    "<p>&nbsp;</p>\n",
    "<p><strong>Constraints:</strong></p>\n",
    "\n",
    "<ul>\n",
    "\t<li><code>1 &lt;= text.length &lt;= 10<sup>4</sup></code></li>\n",
    "\t<li><code>text</code> consists of lower case English letters only.</li>\n",
    "</ul>\n",
    "\n",
    "<p>&nbsp;</p>\n",
    "<p><strong>Note:</strong> This question is the same as <a href=\"https://leetcode.com/problems/rearrange-characters-to-make-target-string/description/\" target=\"_blank\"> 2287: Rearrange Characters to Make Target String.</a></p>\n",
    "</div></div>"
   ]
  },
  {
   "cell_type": "code",
   "execution_count": 20,
   "metadata": {},
   "outputs": [],
   "source": [
    "from typing import List\n",
    "from collections import defaultdict\n",
    "\n",
    "class Solution:\n",
    "    def maxNumberOfBalloons(self, text: str):\n",
    "        letters= defaultdict(int)\n",
    "        \n",
    "        for c in text:\n",
    "            letters[c] += 1\n",
    "\n",
    "        goodstr = {'b': 1, 'a': 1, 'l': 2, 'o': 2, 'n': 1}\n",
    "        \n",
    "        balloon_count: dict = {}\n",
    "        \n",
    "        for char in goodstr:\n",
    "            balloon_count[char] = letters[char]\n",
    "        \n",
    "        return balloon_count"
   ]
  },
  {
   "cell_type": "code",
   "execution_count": 21,
   "metadata": {},
   "outputs": [
    {
     "data": {
      "text/plain": [
       "{'b': 2, 'a': 2, 'l': 4, 'o': 4, 'n': 2}"
      ]
     },
     "execution_count": 21,
     "metadata": {},
     "output_type": "execute_result"
    }
   ],
   "source": [
    "sol = Solution()\n",
    "text = \"loonbalxballpoon\"\n",
    "sol.maxNumberOfBalloons(\"loonbalxballpoon\")"
   ]
  },
  {
   "cell_type": "code",
   "execution_count": 22,
   "metadata": {},
   "outputs": [],
   "source": [
    "from collections import defaultdict\n",
    "\n",
    "class Solution:\n",
    "    def maxNumberOfBalloons(self, text: str):\n",
    "        # Count characters in text\n",
    "        count = defaultdict(int)\n",
    "        for c in text:\n",
    "            count[c] += 1\n",
    "        \n",
    "        # Return minimum based on what's needed for \"balloon\"\n",
    "        return min(\n",
    "            count['b'],           # need 1 'b'\n",
    "            count['a'],           # need 1 'a' \n",
    "            count['l'] // 2,      # need 2 'l's\n",
    "            count['o'] // 2,      # need 2 'o's\n",
    "            count['n']            # need 1 'n'\n",
    "        )"
   ]
  },
  {
   "cell_type": "code",
   "execution_count": 23,
   "metadata": {},
   "outputs": [
    {
     "data": {
      "text/plain": [
       "2"
      ]
     },
     "execution_count": 23,
     "metadata": {},
     "output_type": "execute_result"
    }
   ],
   "source": [
    "sol = Solution()\n",
    "text = \"loonbalxballpoon\"\n",
    "sol.maxNumberOfBalloons(\"loonbalxballpoon\")"
   ]
  },
  {
   "cell_type": "code",
   "execution_count": 24,
   "metadata": {},
   "outputs": [],
   "source": [
    "class Solution:\n",
    "    def maxNumberOfBalloons(self, text: str) -> int:\n",
    "        L = defaultdict(int) \n",
    "        s = 'balloon'\n",
    "\n",
    "        for c in text:\n",
    "            if c in s:\n",
    "                L[c] += 1\n",
    "        \n",
    "        if any(c not in L for c in s):\n",
    "            return  0\n",
    "        else:\n",
    "            return min(L['b'], L['a'], L['l']//2, L['o']//2, L['n'])"
   ]
  }
 ],
 "metadata": {
  "kernelspec": {
   "display_name": "Python 3",
   "language": "python",
   "name": "python3"
  },
  "language_info": {
   "codemirror_mode": {
    "name": "ipython",
    "version": 3
   },
   "file_extension": ".py",
   "mimetype": "text/x-python",
   "name": "python",
   "nbconvert_exporter": "python",
   "pygments_lexer": "ipython3",
   "version": "3.13.3"
  }
 },
 "nbformat": 4,
 "nbformat_minor": 2
}
