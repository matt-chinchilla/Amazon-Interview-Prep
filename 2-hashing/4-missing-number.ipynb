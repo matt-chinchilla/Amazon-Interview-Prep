{
 "cells": [
  {
   "cell_type": "markdown",
   "metadata": {},
   "source": [
    "<div class=\"question-detail\"><div class=\"question-description__3U1T\"><div><p>Given an array <code>nums</code> containing <code>n</code> distinct numbers in the range <code>[0, n]</code>, return <em>the only number in the range that is missing from the array.</em></p>\n",
    "\n",
    "<p>&nbsp;</p>\n",
    "<p><strong class=\"example\">Example 1:</strong></p>\n",
    "\n",
    "<div class=\"example-block\">\n",
    "<p><strong>Input:</strong> <span class=\"example-io\">nums = [3,0,1]</span></p>\n",
    "\n",
    "<p><strong>Output:</strong> <span class=\"example-io\">2</span></p>\n",
    "\n",
    "<p><strong>Explanation:</strong></p>\n",
    "\n",
    "<p><code>n = 3</code> since there are 3 numbers, so all numbers are in the range <code>[0,3]</code>. 2 is the missing number in the range since it does not appear in <code>nums</code>.</p>\n",
    "</div>\n",
    "\n",
    "<p><strong class=\"example\">Example 2:</strong></p>\n",
    "\n",
    "<div class=\"example-block\">\n",
    "<p><strong>Input:</strong> <span class=\"example-io\">nums = [0,1]</span></p>\n",
    "\n",
    "<p><strong>Output:</strong> <span class=\"example-io\">2</span></p>\n",
    "\n",
    "<p><strong>Explanation:</strong></p>\n",
    "\n",
    "<p><code>n = 2</code> since there are 2 numbers, so all numbers are in the range <code>[0,2]</code>. 2 is the missing number in the range since it does not appear in <code>nums</code>.</p>\n",
    "</div>\n",
    "\n",
    "<p><strong class=\"example\">Example 3:</strong></p>\n",
    "\n",
    "<div class=\"example-block\">\n",
    "<p><strong>Input:</strong> <span class=\"example-io\">nums = [9,6,4,2,3,5,7,0,1]</span></p>\n",
    "\n",
    "<p><strong>Output:</strong> <span class=\"example-io\">8</span></p>\n",
    "\n",
    "<p><strong>Explanation:</strong></p>\n",
    "\n",
    "<p><code>n = 9</code> since there are 9 numbers, so all numbers are in the range <code>[0,9]</code>. 8 is the missing number in the range since it does not appear in <code>nums</code>.</p>\n",
    "</div>\n",
    "\n",
    "<div class=\"simple-translate-system-theme\" id=\"simple-translate\">\n",
    "<div>\n",
    "<div class=\"simple-translate-button isShow\" style=\"background-image: url(&quot;moz-extension://8a9ffb6b-7e69-4e93-aae1-436a1448eff6/icons/512.png&quot;); height: 22px; width: 22px; top: 318px; left: 36px;\">&nbsp;</div>\n",
    "\n",
    "<div class=\"simple-translate-panel \" style=\"width: 300px; height: 200px; top: 0px; left: 0px; font-size: 13px;\">\n",
    "<div class=\"simple-translate-result-wrapper\" style=\"overflow: hidden;\">\n",
    "<div class=\"simple-translate-move\" draggable=\"true\">&nbsp;</div>\n",
    "\n",
    "<div class=\"simple-translate-result-contents\">\n",
    "<p class=\"simple-translate-result\" dir=\"auto\">&nbsp;</p>\n",
    "\n",
    "<p class=\"simple-translate-candidate\" dir=\"auto\">&nbsp;</p>\n",
    "</div>\n",
    "</div>\n",
    "</div>\n",
    "</div>\n",
    "</div>\n",
    "<p>&nbsp;</p>\n",
    "<p><strong>Constraints:</strong></p>\n",
    "<ul>\n",
    "\t<li><code>n == nums.length</code></li>\n",
    "\t<li><code>1 &lt;= n &lt;= 10<sup>4</sup></code></li>\n",
    "\t<li><code>0 &lt;= nums[i] &lt;= n</code></li>\n",
    "\t<li>All the numbers of <code>nums</code> are <strong>unique</strong>.</li>\n",
    "</ul>\n",
    "<p>&nbsp;</p>\n",
    "<p><strong>Follow up:</strong> Could you implement a solution using only <code>O(1)</code> extra space complexity and <code>O(n)</code> runtime complexity?</p>\n",
    "</div></div></div>"
   ]
  },
  {
   "cell_type": "code",
   "execution_count": 1,
   "metadata": {},
   "outputs": [],
   "source": [
    "from typing import List\n",
    "\n",
    "class Solution:\n",
    "    def missingNumber(self, nums: List[int]) -> int:\n",
    "        # Build a hashmap\n",
    "        dic = {}\n",
    "        \n",
    "        for i in range(len(nums)):\n",
    "            num = nums[i]\n",
    "            dic[i] = num\n",
    "        \n",
    "        keys = list(dic.keys())\n",
    "        values = list(dic.values())\n",
    "        ans = len(dic)\n",
    "        \n",
    "        for i in range(len(dic)):\n",
    "            if keys[i] not in values:\n",
    "                ans = i\n",
    "                \n",
    "        return ans"
   ]
  },
  {
   "cell_type": "code",
   "execution_count": 2,
   "metadata": {},
   "outputs": [
    {
     "data": {
      "text/plain": [
       "8"
      ]
     },
     "execution_count": 2,
     "metadata": {},
     "output_type": "execute_result"
    }
   ],
   "source": [
    "sol = Solution()\n",
    "nums = [9,6,4,2,3,5,7,0,1]\n",
    "\n",
    "sol.missingNumber(nums)"
   ]
  },
  {
   "cell_type": "code",
   "execution_count": 3,
   "metadata": {},
   "outputs": [],
   "source": [
    "from typing import List\n",
    "\n",
    "class Solution:\n",
    "    def missingNumber2(self, nums):\n",
    "        missing = len(nums)\n",
    "        for i, num in enumerate(nums):\n",
    "            missing ^= i ^ num\n",
    "        return missing"
   ]
  },
  {
   "cell_type": "code",
   "execution_count": 6,
   "metadata": {},
   "outputs": [
    {
     "name": "stdout",
     "output_type": "stream",
     "text": [
      "Initial result: 9\n",
      "Step 1: result=9, i=0, num=9\n",
      "  XOR operation: 9 ^ 0 ^ 9\n",
      "  New result: 0\n",
      "\n",
      "Step 2: result=0, i=1, num=6\n",
      "  XOR operation: 0 ^ 1 ^ 6\n",
      "  New result: 7\n",
      "\n",
      "Step 3: result=7, i=2, num=4\n",
      "  XOR operation: 7 ^ 2 ^ 4\n",
      "  New result: 1\n",
      "\n",
      "Step 4: result=1, i=3, num=2\n",
      "  XOR operation: 1 ^ 3 ^ 2\n",
      "  New result: 0\n",
      "\n",
      "Step 5: result=0, i=4, num=3\n",
      "  XOR operation: 0 ^ 4 ^ 3\n",
      "  New result: 7\n",
      "\n",
      "Step 6: result=7, i=5, num=5\n",
      "  XOR operation: 7 ^ 5 ^ 5\n",
      "  New result: 7\n",
      "\n",
      "Step 7: result=7, i=6, num=7\n",
      "  XOR operation: 7 ^ 6 ^ 7\n",
      "  New result: 6\n",
      "\n",
      "Step 8: result=6, i=7, num=0\n",
      "  XOR operation: 6 ^ 7 ^ 0\n",
      "  New result: 1\n",
      "\n",
      "Step 9: result=1, i=8, num=1\n",
      "  XOR operation: 1 ^ 8 ^ 1\n",
      "  New result: 8\n",
      "\n",
      "Final missing number: 8\n",
      "8\n"
     ]
    }
   ],
   "source": [
    "sol = Solution()\n",
    "nums = [9,6,4,2,3,5,7,0,1]\n",
    "print(sol.missingNumber2(nums))"
   ]
  },
  {
   "cell_type": "code",
   "execution_count": 7,
   "metadata": {},
   "outputs": [
    {
     "name": "stdout",
     "output_type": "stream",
     "text": [
      "4\n"
     ]
    }
   ],
   "source": [
    "print(5 ^ 1)"
   ]
  }
 ],
 "metadata": {
  "kernelspec": {
   "display_name": "Python 3",
   "language": "python",
   "name": "python3"
  },
  "language_info": {
   "codemirror_mode": {
    "name": "ipython",
    "version": 3
   },
   "file_extension": ".py",
   "mimetype": "text/x-python",
   "name": "python",
   "nbconvert_exporter": "python",
   "pygments_lexer": "ipython3",
   "version": "3.13.3"
  }
 },
 "nbformat": 4,
 "nbformat_minor": 2
}
