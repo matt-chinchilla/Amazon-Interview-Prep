{
 "cells": [
  {
   "cell_type": "markdown",
   "metadata": {},
   "source": [
    "<p>A heap is a data structure that is an implementation of the <a href=\"https://en.wikipedia.org/wiki/Priority_queue\" target=\"_blank\">priority queue</a>.</p>\n",
    "<p>Note that a priority queue is an abstract data structure. A heap is one of many ways to implement a priority queue. However, people often use the two terms interchangeably. In this course, we will use the term \"heap\".</p>\n",
    "<p>A heap is a container that stores elements, and supports the following operations:</p>\n",
    "<ul>\n",
    "<li>Add an element in <span class=\"maths katex-rendered\"><span class=\"katex\"><span class=\"katex-mathml\"><math><semantics><mrow><mi>O</mi><mo>(</mo><mi>log</mi><mo>⁡</mo><mrow></mrow><mi>n</mi><mo>)</mo></mrow><annotation encoding=\"application/x-tex\">O(\\log{}n)</annotation></semantics></math></span><span class=\"katex-html\" aria-hidden=\"true\"><span class=\"base\"><span class=\"strut\" style=\"height: 1em; vertical-align: -0.25em;\"></span><span class=\"mord mathdefault\" style=\"margin-right: 0.02778em;\">O</span><span class=\"mopen\">(</span><span class=\"mop\">lo<span style=\"margin-right: 0.01389em;\">g</span></span><span class=\"mspace\" style=\"margin-right: 0.166667em;\"></span><span class=\"mord\"></span><span class=\"mord mathdefault\">n</span><span class=\"mclose\">)</span></span></span></span></span>\n",
    "</li>\n",
    "<li>Remove the minimum element in <span class=\"maths katex-rendered\"><span class=\"katex\"><span class=\"katex-mathml\"><math><semantics><mrow><mi>O</mi><mo>(</mo><mi>log</mi><mo>⁡</mo><mrow></mrow><mi>n</mi><mo>)</mo></mrow><annotation encoding=\"application/x-tex\">O(\\log{}n)</annotation></semantics></math></span><span class=\"katex-html\" aria-hidden=\"true\"><span class=\"base\"><span class=\"strut\" style=\"height: 1em; vertical-align: -0.25em;\"></span><span class=\"mord mathdefault\" style=\"margin-right: 0.02778em;\">O</span><span class=\"mopen\">(</span><span class=\"mop\">lo<span style=\"margin-right: 0.01389em;\">g</span></span><span class=\"mspace\" style=\"margin-right: 0.166667em;\"></span><span class=\"mord\"></span><span class=\"mord mathdefault\">n</span><span class=\"mclose\">)</span></span></span></span></span>\n",
    "</li>\n",
    "<li>Find the minimum element in <span class=\"maths katex-rendered\"><span class=\"katex\"><span class=\"katex-mathml\"><math><semantics><mrow><mi>O</mi><mo>(</mo><mn>1</mn><mo>)</mo></mrow><annotation encoding=\"application/x-tex\">O(1)</annotation></semantics></math></span><span class=\"katex-html\" aria-hidden=\"true\"><span class=\"base\"><span class=\"strut\" style=\"height: 1em; vertical-align: -0.25em;\"></span><span class=\"mord mathdefault\" style=\"margin-right: 0.02778em;\">O</span><span class=\"mopen\">(</span><span class=\"mord\">1</span><span class=\"mclose\">)</span></span></span></span></span>\n",
    "</li>\n",
    "</ul>\n",
    "\n",
    "<h4>Min Heap:</h4> <u>The Tree is constructed to find the min-element in Constant Time // Smallest # on top</u>"
   ]
  },
  {
   "cell_type": "markdown",
   "metadata": {},
   "source": [
    "<hr>\n",
    "<h2>Interface Guide</h2>\n",
    "\n",
    "- Import the `heapq` module (only implements `min` heaps)\n",
    "- <span style=\"color:red\">DOES NOT create a <strong>heap</strong> data structure</span>\n",
    "    - ***Only imports methods to be used on an array to perform `heap` operations***"
   ]
  },
  {
   "cell_type": "code",
   "execution_count": 3,
   "metadata": {},
   "outputs": [
    {
     "name": "stdout",
     "output_type": "stream",
     "text": [
      "[1, 43, 2, 634, 120, 13, 7] \n",
      "\n",
      "1\n",
      "[2, 43, 7, 634, 120, 13]\n",
      "2\n",
      "[7, 43, 13, 634, 120]\n",
      "7\n",
      "[13, 43, 120, 634]\n",
      "13\n",
      "[43, 634, 120]\n",
      "43\n",
      "[120, 634]\n",
      "120\n",
      "[634]\n",
      "634\n",
      "[]\n",
      "[]\n"
     ]
    }
   ],
   "source": [
    "from heapq import *\n",
    "from pprint import pprint\n",
    "\n",
    "heap = []\n",
    "\n",
    "# Add to heap\n",
    "heappush(heap, 1)\n",
    "heappush(heap, 2)\n",
    "heappush(heap, 3)\n",
    "\n",
    "# Check min element\n",
    "heap[0] # 1\n",
    "\n",
    "# Pop Minimum element\n",
    "heappop(heap)\n",
    "\n",
    "# Get size\n",
    "len(heap)   #2\n",
    "\n",
    "# Convert a list into a heap in linear time\n",
    "nums = [43, 2, 13, 634, 120]\n",
    "heapify(nums)\n",
    "\n",
    "heappush(nums, 7)\n",
    "heappush(nums, 1)\n",
    "print(nums, \"\\n\")\n",
    "# Now I can use heappush and heappop on nums\n",
    "while nums:\n",
    "    pprint(heappop(nums))\n",
    "    print(nums)\n",
    "print(nums)"
   ]
  }
 ],
 "metadata": {
  "kernelspec": {
   "display_name": "Python 3",
   "language": "python",
   "name": "python3"
  },
  "language_info": {
   "codemirror_mode": {
    "name": "ipython",
    "version": 3
   },
   "file_extension": ".py",
   "mimetype": "text/x-python",
   "name": "python",
   "nbconvert_exporter": "python",
   "pygments_lexer": "ipython3",
   "version": "3.13.3"
  }
 },
 "nbformat": 4,
 "nbformat_minor": 2
}
