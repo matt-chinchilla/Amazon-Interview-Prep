{
 "cells": [
  {
   "cell_type": "markdown",
   "metadata": {},
   "source": [
    "<blockquote>\n",
    "<p>Example 1: <a href=\"https://leetcode.com/problems/last-stone-weight/\" target=\"_blank\">1046. Last Stone Weight</a></p>\n",
    "<p>You are given an array of integers <code>stones</code> where <code>stones[i]</code> is the weight of the <span class=\"maths katex-rendered\"><span class=\"katex\"><span class=\"katex-mathml\"><math><semantics><mrow><msup><mi>i</mi><mrow><mi>t</mi><mi>h</mi></mrow></msup></mrow><annotation encoding=\"application/x-tex\">i^{th}</annotation></semantics></math></span><span class=\"katex-html\" aria-hidden=\"true\"><span class=\"base\"><span class=\"strut\" style=\"height: 0.849108em; vertical-align: 0em;\"></span><span class=\"mord\"><span class=\"mord mathdefault\">i</span><span class=\"msupsub\"><span class=\"vlist-t\"><span class=\"vlist-r\"><span class=\"vlist\" style=\"height: 0.849108em;\"><span class=\"\" style=\"top: -3.063em; margin-right: 0.05em;\"><span class=\"pstrut\" style=\"height: 2.7em;\"></span><span class=\"sizing reset-size6 size3 mtight\"><span class=\"mord mtight\"><span class=\"mord mathdefault mtight\">t</span><span class=\"mord mathdefault mtight\">h</span></span></span></span></span></span></span></span></span></span></span></span></span> stone. On each turn, we choose the heaviest two stones and smash them together. Suppose the heaviest two stones have weights <code>x</code> and <code>y</code> with <code>x &lt;= y</code>. If <code>x == y</code>, then both stones are destroyed. If <code>x != y</code>, then <code>x</code> is destroyed and <code>y</code> loses <code>x</code> weight. Return the weight of the last remaining stone, or <code>0</code> if there are no stones left.</p>\n",
    "</blockquote>\n",
    "\n",
    "## <u>Steps</u>\n",
    "1) Convert `stones` into a `max heap`\n",
    "    - Just make all the values negative to achieve this\n",
    "2) Pop the two max elements(<span style=\"color:red\">Biggest Numbers</span>)  in 0(log n)\n",
    "3) Perform the *smash* on the elements\n",
    "4) Re-add to the heap (if not destroyed) in 0(log n)\n",
    "5) Continue until done: `while heap`"
   ]
  },
  {
   "cell_type": "code",
   "execution_count": 8,
   "metadata": {},
   "outputs": [],
   "source": [
    "import heapq\n",
    "from typing import List\n",
    "\n",
    "class Solution:\n",
    "    def lastStoneWeight(self, stones: List[int]):\n",
    "        stones = [-stone for stone in stones]\n",
    "        heapq.heapify(stones)\n",
    "        \n",
    "        while len(stones) > 1:\n",
    "            heaviest = abs(heapq.heappop(stones))\n",
    "            secondPlace = abs(heapq.heappop(stones))\n",
    "            # If they are equal, they are simply removed anyways\n",
    "            if heaviest != secondPlace:\n",
    "                heapq.heappush(stones, -abs(heaviest - secondPlace))\n",
    "                \n",
    "        return -stones[0] if stones else 0"
   ]
  },
  {
   "cell_type": "code",
   "execution_count": 9,
   "metadata": {},
   "outputs": [
    {
     "data": {
      "text/plain": [
       "1"
      ]
     },
     "execution_count": 9,
     "metadata": {},
     "output_type": "execute_result"
    }
   ],
   "source": [
    "sol = Solution()\n",
    "stones = [2,7,4,1,8,1]\n",
    "sol.lastStoneWeight(stones)"
   ]
  },
  {
   "cell_type": "markdown",
   "metadata": {},
   "source": [
    "<blockquote>\n",
    "<p>Example 2: <a href=\"https://leetcode.com/problems/minimum-operations-to-halve-array-sum/\" target=\"_blank\">2208. Minimum Operations to Halve Array Sum</a></p>\n",
    "<p>You are given an array <code>nums</code> of positive integers. In one operation, you can choose any number from <code>nums</code> and reduce it to exactly half the number. Return the minimum number of operations to reduce the sum of <code>nums</code> by at least half.</p>\n",
    "</blockquote>"
   ]
  },
  {
   "cell_type": "code",
   "execution_count": 11,
   "metadata": {},
   "outputs": [],
   "source": [
    "from typing import List\n",
    "import heapq\n",
    "\n",
    "class Solution:\n",
    "    def halveArray(self, nums: List[int]) -> int:\n",
    "        breakpoint()\n",
    "        half = sum(nums) / 2\n",
    "        heap = [-num for num in nums]\n",
    "        heapq.heapify(heap)\n",
    "        \n",
    "        ans = 0\n",
    "        while half > 0:\n",
    "            ans += 1\n",
    "            x = heapq.heappop(heap)\n",
    "            half += x / 2\n",
    "            heapq.heappush(heap, x / 2)\n",
    "            \n",
    "        return ans"
   ]
  },
  {
   "cell_type": "code",
   "execution_count": 15,
   "metadata": {},
   "outputs": [
    {
     "name": "stdout",
     "output_type": "stream",
     "text": [
      "3\n"
     ]
    }
   ],
   "source": [
    "num = [5,19,8,1]\n",
    "sol = Solution()\n",
    "print(sol.halveArray(num))"
   ]
  },
  {
   "cell_type": "markdown",
   "metadata": {},
   "source": [
    "<blockquote>\n",
    "<p>Example 3: <a href=\"https://leetcode.com/problems/find-median-from-data-stream/\" target=\"_blank\">295. Find Median from Data Stream</a></p>\n",
    "<p>The median is the middle value in an ordered integer list. If the size of the list is even, the median is the average of the two middle values. Implement the MedianFinder class:</p>\n",
    "<p><code>MedianFinder()</code> initializes the <code>MedianFinder</code> object.</p>\n",
    "<p><code>void addNum(int num)</code> adds the integer <code>num</code> to the data structure.</p>\n",
    "<p><code>double findMedian()</code> returns the median of all elements so far.</p>\n",
    "</blockquote>"
   ]
  },
  {
   "cell_type": "markdown",
   "metadata": {},
   "source": [
    "<h3><span style=\"color:red\">DA STEPS:</span></h3>\n",
    "\n",
    "1) Push `num` onto the max heap\n",
    "2) Pop from the max heap → Push the element onto the min heap\n",
    "3) After **Step 2**, if the min heap has more elements than the max heap ⇒ Pop from the min heap and push the result onto the max heap"
   ]
  },
  {
   "cell_type": "code",
   "execution_count": 1,
   "metadata": {},
   "outputs": [],
   "source": [
    "import heapq\n",
    "\n",
    "class MedianFinder:\n",
    "    def __init__(self):\n",
    "        breakpoint()\n",
    "        self.min_heap = []\n",
    "        self.max_heap = []\n",
    "\n",
    "    def addNum(self, num: int) -> None:\n",
    "        breakpoint()\n",
    "        heapq.heappush(self.max_heap, -num)\n",
    "        heapq.heappush(self.min_heap, -heapq.heappop(self.max_heap))\n",
    "        \n",
    "        if len(self.min_heap) > len(self.max_heap):                         # Arbitrary code so that when there is an odd  of nums, the median winds up in the Max-Heap\n",
    "            heapq.heappush(self.max_heap, -heapq.heappop(self.min_heap))\n",
    "\n",
    "    def findMedian(self) -> float:\n",
    "        breakpoint()\n",
    "        if len(self.max_heap) > len(self.min_heap):\n",
    "            return -self.max_heap[0]\n",
    "        return (self.min_heap[0] - self.max_heap[0]) / 2"
   ]
  },
  {
   "cell_type": "code",
   "execution_count": 2,
   "metadata": {},
   "outputs": [
    {
     "name": "stdout",
     "output_type": "stream",
     "text": [
      "Median after adding [7, 2, 10, 4, 6, 3, 8, 1, 5, 9] is: 5.5\n"
     ]
    }
   ],
   "source": [
    "obj = MedianFinder()\n",
    "\n",
    "# Add a larger set of numbers\n",
    "numbers_to_add = [7, 2, 10, 4, 6, 3, 8, 1, 5, 9]\n",
    "\n",
    "for num in numbers_to_add:\n",
    "    obj.addNum(num)\n",
    "\n",
    "# Call findMedian after all numbers are added\n",
    "median = obj.findMedian()\n",
    "print(\"Median after adding\", numbers_to_add, \"is:\", median)"
   ]
  },
  {
   "cell_type": "code",
   "execution_count": 30,
   "metadata": {},
   "outputs": [
    {
     "ename": "IndentationError",
     "evalue": "expected an indented block after 'for' statement on line 6 (748888295.py, line 12)",
     "output_type": "error",
     "traceback": [
      "  \u001b[36mCell\u001b[39m\u001b[36m \u001b[39m\u001b[32mIn[30]\u001b[39m\u001b[32m, line 12\u001b[39m\n\u001b[31m    \u001b[39m\u001b[31msort_baskets = sorted(enumerate(baskets), key=lambda x: (x[1], x[0]))\u001b[39m\n    ^\n\u001b[31mIndentationError\u001b[39m\u001b[31m:\u001b[39m expected an indented block after 'for' statement on line 6\n"
     ]
    }
   ],
   "source": [
    "import heapq\n",
    "from pprint import pprint\n",
    "\n",
    "baskets = [3,5,4]\n",
    "fruits = [4, 2, 5]\n",
    "#for i, v in enumerate(baskets):\n",
    "#     print(f\"Index: {i}, Value: {v}\")\n",
    "# breakpoint()\n",
    "# baskets = [3,5,4,7,6]\n",
    "\n",
    "# \n",
    "sort_baskets = sorted(enumerate(baskets), key=lambda x: (x[1], x[0]))\n",
    "\n",
    "#heapq.heapify(sort_baskets)\n",
    "print(sort_baskets)\n",
    "heapq.heappop(sort_baskets)\n",
    "print(sort_baskets)\n",
    "heapq.heappop(sort_baskets)\n",
    "print(sort_baskets)\n"
   ]
  }
 ],
 "metadata": {
  "kernelspec": {
   "display_name": "Python 3",
   "language": "python",
   "name": "python3"
  },
  "language_info": {
   "codemirror_mode": {
    "name": "ipython",
    "version": 3
   },
   "file_extension": ".py",
   "mimetype": "text/x-python",
   "name": "python",
   "nbconvert_exporter": "python",
   "pygments_lexer": "ipython3",
   "version": "3.13.3"
  }
 },
 "nbformat": 4,
 "nbformat_minor": 2
}
