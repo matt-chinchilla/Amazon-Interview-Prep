{
 "cells": [
  {
   "cell_type": "markdown",
   "metadata": {},
   "source": [
    "<h2><span style=\"color:indigo\">Top k</span></h2>\n",
    "<hr>\n",
    "\n",
    "- The problems will be like: \"Find the best `k` elements\"\n",
    "- How it is done:\n",
    "    1) Create a `max` heap at the start\n",
    "    2) Iterate over the input while `pushing` every element on the heap\n",
    "    3) `Pop` from the heap once size exceeds `k`"
   ]
  },
  {
   "cell_type": "markdown",
   "metadata": {},
   "source": [
    "<blockquote>\n",
    "<p>Example 1: <a href=\"https://leetcode.com/problems/top-k-frequent-elements/\" target=\"_blank\">347. Top K Frequent Elements</a></p>\n",
    "<p>Given an integer array <code>nums</code> and an integer <code>k</code>, return the <code>k</code> most frequent elements. It is guaranteed that the answer is unique.</p>\n",
    "</blockquote>"
   ]
  },
  {
   "cell_type": "code",
   "execution_count": 5,
   "metadata": {},
   "outputs": [],
   "source": [
    "from typing import List\n",
    "from heapq import heappop, heappush, heapify\n",
    "from collections import Counter\n",
    "\n",
    "class Solution:\n",
    "    def topKFrequent(self, nums: List[int], k: int) -> List[int]:\n",
    "        breakpoint()\n",
    "        counts = Counter(nums)\n",
    "        heap = []\n",
    "        \n",
    "        for key, val in counts.items():\n",
    "            heappush(heap, (val, key))\n",
    "            if len(heap) > k:\n",
    "                heappop(heap)\n",
    "        \n",
    "        return [frequency[1] for frequency in heap]"
   ]
  },
  {
   "cell_type": "code",
   "execution_count": 6,
   "metadata": {},
   "outputs": [
    {
     "name": "stdout",
     "output_type": "stream",
     "text": [
      "[2, 1]\n"
     ]
    }
   ],
   "source": [
    "sol = Solution()\n",
    "nums = [1,1,1,2,2,3]\n",
    "k = 2\n",
    "print(sol.topKFrequent(nums, k))"
   ]
  },
  {
   "cell_type": "markdown",
   "metadata": {},
   "source": [
    "<blockquote>\n",
    "<p>Example 2: <a href=\"https://leetcode.com/problems/find-k-closest-elements/\" target=\"_blank\">658. Find K Closest Elements</a></p>\n",
    "<p>Given a sorted integer array <code>arr</code>, two integers <code>k</code> and <code>x</code>, return the <code>k</code> closest integers to <code>x</code>. The answer should also be sorted in ascending order. If there are ties, take the smaller elements.</p>\n",
    "</blockquote>"
   ]
  },
  {
   "cell_type": "code",
   "execution_count": 8,
   "metadata": {},
   "outputs": [],
   "source": [
    "from typing import List\n",
    "import heapq\n",
    "\n",
    "class Solution:\n",
    "    def findClosestElements(self, arr: List[int], k: int, x: int) -> List[int]:\n",
    "        heap = []\n",
    "        nums = arr\n",
    "        breakpoint()\n",
    "        for num in nums:\n",
    "            distance = abs(x - num)\n",
    "            heapq.heappush(heap, (-distance, -num))     #-num because when 2 numbers are the same distance from 'x' (ex: 1 <-2-> 3 <-2-> 5), choose the smaller number\n",
    "            if len(heap) > k:\n",
    "                heapq.heappop(heap)\n",
    "                \n",
    "        return sorted([-pair[1] for pair in heap])"
   ]
  },
  {
   "cell_type": "code",
   "execution_count": 11,
   "metadata": {},
   "outputs": [
    {
     "name": "stdout",
     "output_type": "stream",
     "text": [
      "[1, 2, 3, 4]\n"
     ]
    }
   ],
   "source": [
    "sol = Solution()\n",
    "arr = [1,2,3,4,5]\n",
    "k = 4\n",
    "x = 3\n",
    "print(sol.findClosestElements(arr, k, x))"
   ]
  }
 ],
 "metadata": {
  "kernelspec": {
   "display_name": "Python 3",
   "language": "python",
   "name": "python3"
  },
  "language_info": {
   "codemirror_mode": {
    "name": "ipython",
    "version": 3
   },
   "file_extension": ".py",
   "mimetype": "text/x-python",
   "name": "python",
   "nbconvert_exporter": "python",
   "pygments_lexer": "ipython3",
   "version": "3.13.3"
  }
 },
 "nbformat": 4,
 "nbformat_minor": 2
}
