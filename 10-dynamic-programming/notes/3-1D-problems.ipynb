{
 "cells": [
  {
   "cell_type": "markdown",
   "metadata": {},
   "source": [
    "<blockquote>\n",
    "<p>Example 1: <a href=\"https://leetcode.com/problems/house-robber/\" target=\"_blank\">198. House Robber</a></p>\n",
    "<p>You are planning to rob houses along a street. The <span class=\"maths katex-rendered\"><span class=\"katex\"><span class=\"katex-mathml\"><math><semantics><mrow><msup><mi>i</mi><mrow><mi>t</mi><mi>h</mi></mrow></msup></mrow><annotation encoding=\"application/x-tex\">i^{th}</annotation></semantics></math></span><span class=\"katex-html\" aria-hidden=\"true\"><span class=\"base\"><span class=\"strut\" style=\"height: 0.849108em; vertical-align: 0em;\"></span><span class=\"mord\"><span class=\"mord mathdefault\">i</span><span class=\"msupsub\"><span class=\"vlist-t\"><span class=\"vlist-r\"><span class=\"vlist\" style=\"height: 0.849108em;\"><span class=\"\" style=\"top: -3.063em; margin-right: 0.05em;\"><span class=\"pstrut\" style=\"height: 2.7em;\"></span><span class=\"sizing reset-size6 size3 mtight\"><span class=\"mord mtight\"><span class=\"mord mathdefault mtight\">t</span><span class=\"mord mathdefault mtight\">h</span></span></span></span></span></span></span></span></span></span></span></span></span> house has <code>nums[i]</code> money. If you rob two houses beside each other, the alarm system will trigger and alert the police. What is the most money you can rob without alerting the police?</p>\n",
    "</blockquote>"
   ]
  },
  {
   "cell_type": "markdown",
   "metadata": {},
   "source": [
    "<h4><span stlye=color:red>Notes:</span></h4>\n",
    "\n",
    "- `memo: dict` == <u>Each subsequent entry is the max possible value granted all of the houses up until now</u>\n",
    "- `i: int` == <u>The <mark>State Variable</mark> that represents both the max-money `up-to and including` house `i` AND the index of house `i`</u>"
   ]
  },
  {
   "cell_type": "code",
   "execution_count": 2,
   "metadata": {},
   "outputs": [
    {
     "name": "stdout",
     "output_type": "stream",
     "text": [
      "12\n"
     ]
    }
   ],
   "source": [
    "from typing import List\n",
    "class Solution:\n",
    "    def rob(self, nums: List[int]) -> int:\n",
    "        def dp(i):\n",
    "            breakpoint()\n",
    "            # Base Cases\n",
    "            if i == 0:\n",
    "                return nums[i]\n",
    "            if i == 1:\n",
    "                return max(nums[0], nums[1])\n",
    "            \n",
    "            if i in memo:\n",
    "                return memo[i]\n",
    "            \n",
    "            # Recurrence Relation\n",
    "            memo[i] = max(dp(i - 1), dp(i - 2) + nums[i])\n",
    "            return memo[i]\n",
    "        \n",
    "        memo = {}\n",
    "        return dp(len(nums) -1)\n",
    "s = Solution()\n",
    "nums = [2,7,9,3,1]\n",
    "print(s.rob(nums))"
   ]
  },
  {
   "cell_type": "markdown",
   "metadata": {},
   "source": [
    "<h4><strong>BIG HELPFUL</strong></h4>\n",
    "\n",
    "- Using the <mark>functools</mark> module to automatically memoize the function → Simply add `cache` above the function"
   ]
  },
  {
   "cell_type": "code",
   "execution_count": 5,
   "metadata": {},
   "outputs": [
    {
     "name": "stdout",
     "output_type": "stream",
     "text": [
      "12\n"
     ]
    }
   ],
   "source": [
    "from typing import List\n",
    "from functools import cache\n",
    "\n",
    "class Solution:\n",
    "    def rob(self, nums: List[int]) -> int:\n",
    "        @cache\n",
    "        def dp(i):\n",
    "            breakpoint()\n",
    "            # Base Cases\n",
    "            if i == 0:\n",
    "                return nums[0]\n",
    "            if i == 1:\n",
    "                return max(nums[0], nums[1])\n",
    "            \n",
    "            # Recurrence relation\n",
    "            return max(dp(i - 1), dp(i - 2) + nums[i])\n",
    "        \n",
    "        return dp(len(nums) - 1)\n",
    "    \n",
    "s = Solution()\n",
    "nums = [2,7,9,3,1]\n",
    "print(s.rob(nums))"
   ]
  }
 ],
 "metadata": {
  "kernelspec": {
   "display_name": "Python 3",
   "language": "python",
   "name": "python3"
  },
  "language_info": {
   "codemirror_mode": {
    "name": "ipython",
    "version": 3
   },
   "file_extension": ".py",
   "mimetype": "text/x-python",
   "name": "python",
   "nbconvert_exporter": "python",
   "pygments_lexer": "ipython3",
   "version": "3.13.3"
  }
 },
 "nbformat": 4,
 "nbformat_minor": 2
}
