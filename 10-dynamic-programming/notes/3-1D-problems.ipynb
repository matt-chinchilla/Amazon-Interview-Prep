{
 "cells": [
  {
   "cell_type": "markdown",
   "metadata": {},
   "source": [
    "<blockquote>\n",
    "<p>Example 1: <a href=\"https://leetcode.com/problems/house-robber/\" target=\"_blank\">198. House Robber</a></p>\n",
    "<p>You are planning to rob houses along a street. The <span class=\"maths katex-rendered\"><span class=\"katex\"><span class=\"katex-mathml\"><math><semantics><mrow><msup><mi>i</mi><mrow><mi>t</mi><mi>h</mi></mrow></msup></mrow><annotation encoding=\"application/x-tex\">i^{th}</annotation></semantics></math></span><span class=\"katex-html\" aria-hidden=\"true\"><span class=\"base\"><span class=\"strut\" style=\"height: 0.849108em; vertical-align: 0em;\"></span><span class=\"mord\"><span class=\"mord mathdefault\">i</span><span class=\"msupsub\"><span class=\"vlist-t\"><span class=\"vlist-r\"><span class=\"vlist\" style=\"height: 0.849108em;\"><span class=\"\" style=\"top: -3.063em; margin-right: 0.05em;\"><span class=\"pstrut\" style=\"height: 2.7em;\"></span><span class=\"sizing reset-size6 size3 mtight\"><span class=\"mord mtight\"><span class=\"mord mathdefault mtight\">t</span><span class=\"mord mathdefault mtight\">h</span></span></span></span></span></span></span></span></span></span></span></span></span> house has <code>nums[i]</code> money. If you rob two houses beside each other, the alarm system will trigger and alert the police. What is the most money you can rob without alerting the police?</p>\n",
    "</blockquote>"
   ]
  },
  {
   "cell_type": "markdown",
   "metadata": {},
   "source": [
    "<h4><span stlye=color:red>Notes:</span></h4>\n",
    "\n",
    "- `memo: dict` == <u>Each subsequent entry is the max possible value granted all of the houses up until now</u>\n",
    "- `i: int` == <u>The <mark>State Variable</mark> that represents both the max-money `up-to and including` house `i` AND the index of house `i`</u>"
   ]
  },
  {
   "cell_type": "code",
   "execution_count": 2,
   "metadata": {},
   "outputs": [
    {
     "name": "stdout",
     "output_type": "stream",
     "text": [
      "12\n"
     ]
    }
   ],
   "source": [
    "from typing import List\n",
    "class Solution:\n",
    "    def rob(self, nums: List[int]) -> int:\n",
    "        def dp(i):\n",
    "            breakpoint()\n",
    "            # Base Cases\n",
    "            if i == 0:\n",
    "                return nums[i]\n",
    "            if i == 1:\n",
    "                return max(nums[0], nums[1])\n",
    "            \n",
    "            if i in memo:\n",
    "                return memo[i]\n",
    "            \n",
    "            # Recurrence Relation\n",
    "            memo[i] = max(dp(i - 1), dp(i - 2) + nums[i])\n",
    "            return memo[i]\n",
    "        \n",
    "        memo = {}\n",
    "        return dp(len(nums) -1)\n",
    "s = Solution()\n",
    "nums = [2,7,9,3,1]\n",
    "print(s.rob(nums))"
   ]
  },
  {
   "cell_type": "markdown",
   "metadata": {},
   "source": [
    "<h4><strong>BIG HELPFUL</strong></h4>\n",
    "\n",
    "- Using the <mark>functools</mark> module to automatically memoize the function → Simply add `cache` above the function"
   ]
  },
  {
   "cell_type": "code",
   "execution_count": 1,
   "metadata": {},
   "outputs": [
    {
     "name": "stdout",
     "output_type": "stream",
     "text": [
      "12\n"
     ]
    }
   ],
   "source": [
    "from typing import List\n",
    "from functools import cache\n",
    "\n",
    "class Solution:\n",
    "    def rob(self, nums: List[int]) -> int:\n",
    "        @cache\n",
    "        def dp(i):\n",
    "            breakpoint()\n",
    "            # Base Cases\n",
    "            if i == 0:\n",
    "                return nums[0]\n",
    "            if i == 1:\n",
    "                return max(nums[0], nums[1])\n",
    "            \n",
    "            # Recurrence relation\n",
    "            return max(dp(i - 1), dp(i - 2) + nums[i])\n",
    "        \n",
    "        return dp(len(nums) - 1)\n",
    "    \n",
    "s = Solution()\n",
    "nums = [2,7,9,3,1]\n",
    "print(s.rob(nums))"
   ]
  },
  {
   "cell_type": "markdown",
   "metadata": {},
   "source": [
    "<h4><strong>Bottom-up Implementation</strong></h4>"
   ]
  },
  {
   "cell_type": "code",
   "execution_count": null,
   "metadata": {},
   "outputs": [],
   "source": [
    "def rob(self, nums: list[int]) -> int:\n",
    "    # To avoid out of bounds error from setting base case\n",
    "    if len(nums) == 1:\n",
    "        return nums[0]  # only 1 housr to rob\n",
    "    \n",
    "    n = len(nums)\n",
    "    \n",
    "    dynamic_programming = [0] * n\n",
    "    \n",
    "    # Base Cases\n",
    "    dynamic_programming[0] = nums[0]\n",
    "    dynamic_programming[1] = max(nums[0], nums[1])\n",
    "    \n",
    "    for i in range(2, n): # 2 because of our base-cases covering the first 2-homes\n",
    "        # recurrence relation\n",
    "        dynamic_programming[i] = max(dynamic_programming[i - 1], dynamic_programming[i - 2])\n",
    "        \n",
    "    return dynamic_programming[n - 1]"
   ]
  },
  {
   "cell_type": "markdown",
   "metadata": {},
   "source": [
    "<p><strong>Improving the space complexity</strong></p>\n",
    "<p>Actually, we can do better than <span class=\"maths katex-rendered\"><span class=\"katex\"><span class=\"katex-mathml\"><math><semantics><mrow><mi>O</mi><mo>(</mo><mi>n</mi><mo>)</mo></mrow><annotation encoding=\"application/x-tex\">O(n)</annotation></semantics></math></span><span class=\"katex-html\" aria-hidden=\"true\"><span class=\"base\"><span class=\"strut\" style=\"height: 1em; vertical-align: -0.25em;\"></span><span class=\"mord mathdefault\" style=\"margin-right: 0.02778em;\">O</span><span class=\"mopen\">(</span><span class=\"mord mathdefault\">n</span><span class=\"mclose\">)</span></span></span></span></span> space. When we are at state <code>i</code>, we <strong>only care about the previous two states</strong>. To get to state <code>100</code>, we needed to go through <code>2 - 99</code>, but once we're actually at <code>100</code>, we don't care about <code>2 - 97</code>. In the bottom-up implementation, we can replace the array with two variables that just keep track of the previous two states. <code>arr[0]</code> becomes obsolete once we get to <code>arr[3]</code> etc.</p>"
   ]
  },
  {
   "cell_type": "code",
   "execution_count": 2,
   "metadata": {},
   "outputs": [],
   "source": [
    "def rob(self, nums: List[int]) -> int:\n",
    "    # To avoid out of bounds error from setting base case\n",
    "    if len(nums) == 1:\n",
    "        return nums[0]\n",
    "    \n",
    "    n = len(nums)\n",
    "\n",
    "    # Base cases\n",
    "    back_two = nums[0]\n",
    "    back_one = max(nums[0], nums[1])\n",
    "    \n",
    "    for i in range(2, n):\n",
    "        # back_two → back_one && back_one gets an update\n",
    "        back_one, back_two = max(back_one, back_two + nums[i]), back_one\n",
    "        \n",
    "    return back_one"
   ]
  },
  {
   "cell_type": "markdown",
   "metadata": {},
   "source": [
    "<blockquote>\n",
    "<p>Example 2: <a href=\"https://leetcode.com/problems/longest-increasing-subsequence/\" target=\"_blank\">300. Longest Increasing Subsequence</a></p>\n",
    "<p>Given an integer array <code>nums</code>, return the length of the longest strictly increasing subsequence.</p>\n",
    "</blockquote>"
   ]
  },
  {
   "cell_type": "markdown",
   "metadata": {},
   "source": [
    "<h4><span stlye=color:red>Steps:</span></h4>\n",
    "\n",
    "<strong>Step 1:</strong> </u>Figure out what the function should return and what variables it should take</u>\n",
    "\n",
    "1) Problem is <mark>Asking for</mark>: <u>longest increasing subsequence(`LIS`)</u>\n",
    "    - Solution: have the function (`dp`) return the length of the `LIS`\n",
    "    - `state variable` here is just index `i`\n",
    "    - Can only use the current element if previous element was less than teh current number\n",
    "    - Only consider `j` indices in the range `[0, i]` where `nums[i] > nums[j]`\n",
    "        - <span style=color:red>YEAH.... NO SHIT PAL, ONLY INCLUDE AN INCREASING NUMBER IF IT FREAKING INCREASES</span>\n",
    "    - `j` is **one subsequence less than `i`**... so that means than when we are at j & add nums[i] to it, we get a length of `dp(j) + 1`\n",
    "\n",
    "2) The stupid recurrence relation is:\n",
    "    - `dp(i) = max(dp(j) +1)`\n",
    "\n",
    "3) Base cases?:\n",
    "    - Every element alone is an increasing subsequence with length `1`"
   ]
  },
  {
   "cell_type": "code",
   "execution_count": null,
   "metadata": {},
   "outputs": [
    {
     "name": "stdout",
     "output_type": "stream",
     "text": [
      "4\n"
     ]
    }
   ],
   "source": [
    "from typing import List\n",
    "class Solution:\n",
    "    def lengthOfLIS(self, nums: List[int]) -> int:\n",
    "        breakpoint()\n",
    "        @cache\n",
    "        def dp(i):\n",
    "            ans = 1\n",
    "            for j in range(i):\n",
    "                if nums[i] > nums[j]:\n",
    "                    ans = max(ans, dp(j) +1) # dp(j) is literally just the previous dp(i)\n",
    "                    \n",
    "            return ans\n",
    "        \n",
    "        return max(dp(i) for i in range(len(nums)))\n",
    "    \n",
    "s = Solution()\n",
    "nums = [10,9,2,5,3,7,101,18] #Output: 4 b/c of [2,3,7,101]\n",
    "print(s.lengthOfLIS(nums))"
   ]
  },
  {
   "cell_type": "markdown",
   "metadata": {},
   "source": [
    "- <strong>Optimized</strong>"
   ]
  },
  {
   "cell_type": "code",
   "execution_count": 13,
   "metadata": {},
   "outputs": [
    {
     "name": "stdout",
     "output_type": "stream",
     "text": [
      "4\n"
     ]
    }
   ],
   "source": [
    "from bisect import bisect_left\n",
    "class Solution:\n",
    "    def lengthOfLIS(self, nums: List[int]) -> int:\n",
    "        breakpoint()\n",
    "        dp = []\n",
    "        dp.append(nums[0])\n",
    "\n",
    "        LIS = 1\n",
    "        for i in range(1, len(nums)):\n",
    "            # Is the \n",
    "            if dp[-1] < nums[i]:\n",
    "                dp.append(nums[i])\n",
    "                LIS += 1\n",
    "                continue\n",
    "\n",
    "            idx = bisect_left(dp, nums[i])\n",
    "            dp[idx] = nums[i]\n",
    "\n",
    "        return LIS\n",
    "    \n",
    "s = Solution()\n",
    "nums = [10,9,2,5,3,7,101,18] #Output: 4 b/c of [2,3,7,101]\n",
    "print(s.lengthOfLIS(nums))"
   ]
  }
 ],
 "metadata": {
  "kernelspec": {
   "display_name": "Python 3",
   "language": "python",
   "name": "python3"
  },
  "language_info": {
   "codemirror_mode": {
    "name": "ipython",
    "version": 3
   },
   "file_extension": ".py",
   "mimetype": "text/x-python",
   "name": "python",
   "nbconvert_exporter": "python",
   "pygments_lexer": "ipython3",
   "version": "3.13.3"
  }
 },
 "nbformat": 4,
 "nbformat_minor": 2
}
