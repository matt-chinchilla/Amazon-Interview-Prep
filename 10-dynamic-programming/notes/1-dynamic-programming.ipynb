{
 "cells": [
  {
   "cell_type": "markdown",
   "metadata": {},
   "source": [
    "<h2><u><span style=color:indigo>Dynamic Programming</span></u></h2>\n",
    "\n",
    "<h4><strong>What exactly is Dynamic Programming?</strong></h4>\n",
    "\n",
    "- Basically, just **optimized recursion**\n",
    "- <span style=color:red>Steps:</span>\n",
    "    1) Define a recursive function `dp`\n",
    "    2) Return the answer to the OG problem as-if the arguments it received where the `input`\n",
    "\n",
    "- Arguments represent a `state`\n",
    "    - Ex: with `dfs` → never visited a state more than `once` → <u>states were never repeated</u>\n",
    "- Here with DP, <span style=color:red>states can be repeated, usually an **exponenetial number of times**</span>\n",
    "\n",
    "- To avoid repeating, a technique is utilized called <span style=color:red>Memoization</span>\n",
    "\n",
    "<h5><span style=color:red>Memoization Steps:</span></h5>\n",
    "\n",
    "1) Find the answer (`return value`) for a given **state**\n",
    "2) When found → `cache` (save) the value (usually to a `hash map`)\n",
    "3) When needed in the future (same state was repeated) → <u>Refer to the <span style=color:red>cahced value</span> without a need to repeat</u>\n",
    "\n",
    "<h2>EX: Fibonacci Numbers</h2>\n",
    "<hr>"
   ]
  },
  {
   "cell_type": "code",
   "execution_count": 1,
   "metadata": {},
   "outputs": [],
   "source": [
    "def fibonacci(n):\n",
    "    if n == 0:\n",
    "        return 0\n",
    "    if n == 1:\n",
    "        return 1\n",
    "    \n",
    "    return fibonacci(n - 1) + fibonacci(n - 2)"
   ]
  },
  {
   "cell_type": "markdown",
   "metadata": {},
   "source": [
    "- bad and stinky O(2^n) complexity\n",
    "- Here is smart:"
   ]
  },
  {
   "cell_type": "code",
   "execution_count": 6,
   "metadata": {},
   "outputs": [],
   "source": [
    "def fibonacci(n):\n",
    "    breakpoint()\n",
    "    if n == 0:\n",
    "        return 0\n",
    "    if n == 1:\n",
    "        return 1\n",
    "    \n",
    "    if n in memo:\n",
    "        return memo[n]\n",
    "    \n",
    "    memo[n] = fibonacci(n-1) + fibonacci(n-2)\n",
    "    print(f\"memo[\",{n},\"] == \",{memo[n]})\n",
    "    return memo[n]\n",
    "\n",
    "memo = {}"
   ]
  },
  {
   "cell_type": "code",
   "execution_count": 7,
   "metadata": {},
   "outputs": [
    {
     "name": "stdout",
     "output_type": "stream",
     "text": [
      "memo[ {2} ]==  {1}\n",
      "memo[ {3} ]==  {2}\n",
      "memo[ {4} ]==  {3}\n",
      "memo[ {5} ]==  {5}\n",
      "memo[ {6} ]==  {8}\n",
      "memo[ {7} ]==  {13}\n",
      "memo[ {8} ]==  {21}\n",
      "memo[ {9} ]==  {34}\n",
      "memo[ {10} ]==  {55}\n",
      "55\n"
     ]
    }
   ],
   "source": [
    "print(fibonacci(10))"
   ]
  },
  {
   "cell_type": "markdown",
   "metadata": {},
   "source": [
    "<hr>\n",
    "<h3 id=\"top-down-vs-bottom-up\">Top-down vs. bottom-up</h3>\n",
    "<p>This method of using recursion and memoization is also known as \"top-down\" dynamic programming. It is named as such because we start from the top (the original problem) and move down toward the base cases. For example, we wanted the <span class=\"maths katex-rendered\"><span class=\"katex\"><span class=\"katex-mathml\"><math><semantics><mrow><msup><mi>n</mi><mrow><mi>t</mi><mi>h</mi></mrow></msup></mrow><annotation encoding=\"application/x-tex\">n^{th}</annotation></semantics></math></span><span class=\"katex-html\" aria-hidden=\"true\"><span class=\"base\"><span class=\"strut\" style=\"height: 0.849108em; vertical-align: 0em;\"></span><span class=\"mord\"><span class=\"mord mathdefault\">n</span><span class=\"msupsub\"><span class=\"vlist-t\"><span class=\"vlist-r\"><span class=\"vlist\" style=\"height: 0.849108em;\"><span class=\"\" style=\"top: -3.063em; margin-right: 0.05em;\"><span class=\"pstrut\" style=\"height: 2.7em;\"></span><span class=\"sizing reset-size6 size3 mtight\"><span class=\"mord mtight\"><span class=\"mord mathdefault mtight\">t</span><span class=\"mord mathdefault mtight\">h</span></span></span></span></span></span></span></span></span></span></span></span></span> Fibonacci number, so we started by calling <code>fibonacci(n)</code>. We move down with recursion until we reach the base cases (<code>F(0)</code> and <code>F(1)</code>).</p>\n",
    "<p>Another way to approach a dynamic programming problem is with a \"bottom-up\" algorithm. In bottom-up, we start at the bottom (base cases) and work our way up to larger problems. This is done iteratively and also known as <strong>tabulation</strong>. Here is the bottom-up version of Fibonacci:</p>"
   ]
  },
  {
   "cell_type": "code",
   "execution_count": 9,
   "metadata": {},
   "outputs": [],
   "source": [
    "def fibonacci(n):\n",
    "    breakpoint()\n",
    "    arr = [0] * (n + 1)\n",
    "    # base case - the second Fibonacci number is 1\n",
    "    arr[1] = 1\n",
    "    for i in range(2, n + 1):\n",
    "        arr[i] = arr[i - 1] + arr[i - 2]\n",
    "        \n",
    "    return arr[n]"
   ]
  },
  {
   "cell_type": "code",
   "execution_count": 11,
   "metadata": {},
   "outputs": [
    {
     "name": "stdout",
     "output_type": "stream",
     "text": [
      "55\n"
     ]
    }
   ],
   "source": [
    "print(fibonacci(10))"
   ]
  },
  {
   "cell_type": "markdown",
   "metadata": {},
   "source": [
    "<h2><span style=color:indigo>When to consider using DP?</span></h2>\n",
    "\n",
    "- There are traditionally `2` characteristics of problems that should be solved using `dp`:\n",
    "\n",
    "1) Problem is asking for an **optimal value** (max or min) of something || the `number of ways` to do something:\n",
    "    - Minimum cost of doing ...\n",
    "    - Maximum profit of...\n",
    "    - How many ways are there to...\n",
    "    - What is the longest possible...\n",
    "\n",
    "2) At each step, I need to make a \"`decision`\" which will affect future decisions\n",
    "    - Could be picking between **2-elements**\n",
    "    - Decisions affecting future decisions could be like \"<u>If you take an element `x`, then you can't take an element `y` in the future</u>\"\n",
    "<hr>"
   ]
  },
  {
   "cell_type": "markdown",
   "metadata": {},
   "source": [
    "<h2><span style=color:red>State</span></h2>\n",
    "\n",
    "- <span style=color:red>State</span> → <u>A set of variables that can fully describe a scenario</u>\n",
    "    - Ex: With trees, every recursive call to `dfs` took `node` & maybe some other variables as arguments\n",
    "\n",
    "- These arguments represent the `state`\n",
    "    <span style=color:red>The first step to creating DP algorithms is deciding on what state variables are necessary</span>\n",
    "\n",
    "<h5><u>Common state variables to think about</u></h5>\n",
    "\n",
    "1) An `index` along an input `string`, `array`, or `number`\n",
    "    - **THE MOST COMMON** state variable && will be a state-variable in <span style=color:red>almost all problems</span>\n",
    "        - Frequently, the only state variable\n",
    "        - Ex: with `Fibonacci` the `index` refers to the `current` Fibonacci number\n",
    "    - When dealing with an <u>array or string</u>, this variable will represent the array/string up to and including this index\n",
    "        - Ex: With `nums = [0, 1, 2, 3, 4]` and a state variable of `i = 2` is the equivalence of <u>`nums = [0, 1, 2]` as the input</u>\n",
    "\n",
    "2) The second index along an input string or array\n",
    "    - Ex: <u>Another index variable to represent the right bound of the array</u>\n",
    "    - Ex2: Given `nums = [0, 1, 2, 3, 4]` and two state variables along the input like `i = 1` and `j = 3`:\n",
    "        - The final nums would be `nums = [1, 2, 3]` from only considering the input between `i` and `j`\n",
    "\n",
    "3) Explicit numerical constrains (<span style=color:red>THIS WILL USUALLY BE GIVEN AS `k`</span>!!!!!!!!)\n",
    "    - Ex: You are allowed to remove `k` obstacles\n",
    "\n",
    "4) Boolean to describe a status\n",
    "    - Ex: `True` if a package is currently being held, `False` if not\n",
    "\n",
    "<h2><span style=color:red>Dimensionality</span></h2>\n",
    "\n",
    "- <span style=color:red>Dimensionality</span> → <u>The number of state variables used is the **dimensionality** of the algorithm</u>\n",
    "    - Ex: If an algorithm only uses one state variable like `i`, then it is `1-DIMENSIONAL` || Multiple variables are `multi-dimensionsal`"
   ]
  }
 ],
 "metadata": {
  "kernelspec": {
   "display_name": "Python 3",
   "language": "python",
   "name": "python3"
  },
  "language_info": {
   "codemirror_mode": {
    "name": "ipython",
    "version": 3
   },
   "file_extension": ".py",
   "mimetype": "text/x-python",
   "name": "python",
   "nbconvert_exporter": "python",
   "pygments_lexer": "ipython3",
   "version": "3.13.3"
  }
 },
 "nbformat": 4,
 "nbformat_minor": 2
}
