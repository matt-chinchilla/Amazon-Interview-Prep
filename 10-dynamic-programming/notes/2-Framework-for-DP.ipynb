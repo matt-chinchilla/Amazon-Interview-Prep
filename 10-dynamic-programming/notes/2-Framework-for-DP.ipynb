{
 "cells": [
  {
   "cell_type": "markdown",
   "metadata": {},
   "source": [
    "<h2><u><span style=color:indigo>Framework for Dynamic Programming</span></u></h2>\n",
    "<hr>\n",
    "\n",
    "<blockquote>\n",
    "<p>For this article, we're going to use <a href=\"https://leetcode.com/problems/min-cost-climbing-stairs\" target=\"_blank\">Min Cost Climbing Stairs</a> as an example. We will start with a top-down solution.</p>\n",
    "<p>You are given an integer array <code>cost</code> where <code>cost[i]</code> is the cost of the <span class=\"maths katex-rendered\"><span class=\"katex\"><span class=\"katex-mathml\"><math><semantics><mrow><msup><mi>i</mi><mrow><mi>t</mi><mi>h</mi></mrow></msup></mrow><annotation encoding=\"application/x-tex\">i^{th}</annotation></semantics></math></span><span class=\"katex-html\" aria-hidden=\"true\"><span class=\"base\"><span class=\"strut\" style=\"height: 0.849108em; vertical-align: 0em;\"></span><span class=\"mord\"><span class=\"mord mathdefault\">i</span><span class=\"msupsub\"><span class=\"vlist-t\"><span class=\"vlist-r\"><span class=\"vlist\" style=\"height: 0.849108em;\"><span class=\"\" style=\"top: -3.063em; margin-right: 0.05em;\"><span class=\"pstrut\" style=\"height: 2.7em;\"></span><span class=\"sizing reset-size6 size3 mtight\"><span class=\"mord mtight\"><span class=\"mord mathdefault mtight\">t</span><span class=\"mord mathdefault mtight\">h</span></span></span></span></span></span></span></span></span></span></span></span></span> step on a staircase. Once you pay the cost, you can either climb one or two steps. You can either start from the step with index 0, or the step with index 1. Return the minimum cost to reach the top of the floor (outside the array, not the last index of <code>cost</code>).</p>\n",
    "<p>It is recommended that you open the problem link in a new tab so you can easily follow along.</p>\n",
    "</blockquote>\n",
    "<hr>\n",
    "\n",
    "<p><strong class=\"example\">Example 2:</strong></p>\n",
    "<pre><strong>Input:</strong> cost = [<u>1</u>,100,<u>1</u>,1,<u>1</u>,100,<u>1</u>,<u>1</u>,100,<u>1</u>]\n",
    "<strong>Output:</strong> 6\n",
    "<strong>Explanation:</strong> You will start at index 0.\n",
    "- Pay 1 and climb two steps to reach index 2.\n",
    "- Pay 1 and climb two steps to reach index 4.\n",
    "- Pay 1 and climb two steps to reach index 6.\n",
    "- Pay 1 and climb one step to reach index 7.\n",
    "- Pay 1 and climb two steps to reach index 9.\n",
    "- Pay 1 and climb one step to reach the top.\n",
    "The total cost is 6.\n",
    "</pre>"
   ]
  },
  {
   "cell_type": "code",
   "execution_count": null,
   "metadata": {},
   "outputs": [],
   "source": [
    "from typing import List\n",
    "class Solution:\n",
    "    def minCostClimbingStairs(self, cost: List[int]) -> int:\n",
    "        pass\n",
    "    \n",
    "s = Solution()\n",
    "cost = [1, 100, 1, 1, 1, 100, 1, 1, 100, 1]\n",
    "print(s.minCostClimbingStairs(cost))"
   ]
  },
  {
   "cell_type": "markdown",
   "metadata": {},
   "source": [
    "<h4><strong>The framework</strong></h4>\n",
    "- To create any **DP** algorithm, there are 3 main components\n",
    "\n",
    "<h4><strong><span style=color:red>1. A function or data structure that will compute/contain the answer to the problem for any given state</span></strong></h4>\n",
    "\n",
    "1) Since this is **top-down**, this will be about a `function` & requires **two parts**\n",
    "    1) Decide what the function will be `returning`\n",
    "    2) Decide on what arguments the function should take (`state variables`) \n",
    "\n",
    "2) Since it is asking for the minimum cost to climb the stairs (smallest between `cost[i]` or `cost[i+1]`), lets define a function `dp(state)` that returns the <span style=color:indigo>minimum cost to climb the stairs for a given `state`</span>\n",
    "    - What state variables are needed? The only **relevant** state variable would be an ***index*** along an input that will be called `i`\n",
    "\n",
    "<blockquote>\n",
    "<p>A good way to think about state variables is to imagine if the problem was a real-life scenario. What information do you need to 100% describe a scenario? We certainly need to know what step we're on - that's where <code>i</code> comes in. What about the color of your socks? Standing on the 5th step with green socks is technically a different state than standing on the 5th step with red socks, but it doesn't change the cost of the steps, or anything relevant.</p>\n",
    "</blockquote>"
   ]
  },
  {
   "cell_type": "markdown",
   "metadata": {},
   "source": [
    "- Therefore, make a function called `dp(i)` that returns the ***minimum cost*** to climb the stairs up to the i-th step (if the input was the subarray from index `0` ***up-to and including*** `i`)\n",
    "<blockquote>\n",
    "<p>As mentioned in the previous article, this is an extremely common way to use an index as a state variable: the state <code>i</code> represents the input from indices <code>0</code> until <code>i</code>.</p>\n",
    "</blockquote>"
   ]
  },
  {
   "cell_type": "markdown",
   "metadata": {},
   "source": [
    "<hr>\n",
    "<h4><strong><span style=color:red>2. A recurrence relation to transition between states</span></strong></h4>\n",
    "\n",
    "1) <span style=color:red>Recurrence relation</span> → <u>An equation used to calculate states. With Fibonacci, the recurrence relation was `F(n) = F(n - 1) + F(n - 2)`</u>\n",
    "    - In this problem, If we wanted to get to the ***100ᵗʰ*** step, I **must** have arrived from either the *99<sup>th</sup>* or *98<sup>th</sup>* step\n",
    "    - Therefore, the minimum cost of climbing to the **100<sup>th</sup>** step is either:\n",
    "        a) The `min` cost of getting to the **99<sup>th</sup>** step + the cost of the **99<sup>th</sup>** step\n",
    "        or\n",
    "        b) The `min` cost of getting to the **98<sup>th</sup>** step + the cost of the **98<sup>th</sup>** step\n",
    "    - <mark style=\"background-color: lightgreen;\">In code</mark>:\n",
    "        - `dp(100) = min(dp(99) + cost[99], dp(98) + cost[98])`\n",
    "\n",
    "    - <mark>Or more generally:</mark>\n",
    "        - `dp(i) = min(dp(i-1) + cost[i - 1], dp(i-2) + cost[i-2])`\n",
    "        - Which is the recurrence relation (***which is usually the hardest part of a DP problem***)"
   ]
  },
  {
   "cell_type": "markdown",
   "metadata": {},
   "source": [
    "<hr>\n",
    "<h4><strong><span style=color:red>3. Base Cases</span></strong></h4>\n",
    "\n",
    "1) In this problem, it was stated that we can start at steps `0` or `1`, therefore the base cases are:\n",
    "    - `dp(0) = dp(1) = 0`\n",
    "<blockquote>\n",
    "Figuring out the base cases is usually pretty easy and just requires a little bit of logical thinking. Make sure to read every question carefully.\n",
    "</blockquote>"
   ]
  },
  {
   "cell_type": "markdown",
   "metadata": {},
   "source": [
    "<h4><strong><mark>Implementation</mark></strong></h4>"
   ]
  },
  {
   "cell_type": "code",
   "execution_count": 3,
   "metadata": {},
   "outputs": [],
   "source": [
    "from typing import List\n",
    "class Solution:\n",
    "    def minCostClimbingStairs(self, cost: List[int]) -> int:\n",
    "        # 1. A function that returns the answer\n",
    "        def dp(i):\n",
    "            breakpoint()\n",
    "            if i <= 1:\n",
    "                # 3. Base Cases\n",
    "                return 0\n",
    "            \n",
    "            if i in memo:\n",
    "                return memo[i]\n",
    "            \n",
    "            # 2. Recurrence Relation\n",
    "            memo[i] = min(dp(i - 1) + cost[i - 1], dp(i - 2) + cost[i - 2])\n",
    "            return memo[i]\n",
    "        \n",
    "        memo = {}\n",
    "        return dp(len(cost))"
   ]
  },
  {
   "cell_type": "code",
   "execution_count": 4,
   "metadata": {},
   "outputs": [
    {
     "name": "stdout",
     "output_type": "stream",
     "text": [
      "6\n"
     ]
    }
   ],
   "source": [
    "s = Solution()\n",
    "cost = [1, 100, 1, 1, 1, 100, 1, 1, 100, 1]\n",
    "print(s.minCostClimbingStairs(cost))"
   ]
  },
  {
   "cell_type": "markdown",
   "metadata": {},
   "source": [
    "<h4><strong>Converting a top-down solution to a bottom-up one</strong></h4>\n",
    "\n",
    "- A `general method` for converting a top-down recursive solution into a bottom-up iterative one\n",
    "\n",
    "<ol>\n",
    "<li>\n",
    "<p>Start by implementing the top-down approach.</p>\n",
    "</li>\n",
    "<li>\n",
    "<p>Initialize an array <span class=\"maths katex-rendered\"><span class=\"katex\"><span class=\"katex-mathml\"><math><semantics><mrow><mtext>dp</mtext></mrow><annotation encoding=\"application/x-tex\"> \\text{dp} </annotation></semantics></math></span><span class=\"katex-html\" aria-hidden=\"true\"><span class=\"base\"><span class=\"strut\" style=\"height: 0.88888em; vertical-align: -0.19444em;\"></span><span class=\"mord text\"><span class=\"mord\">dp</span></span></span></span></span></span> that is sized according to the state variables. For example, let's say the input to the problem was an array <span class=\"maths katex-rendered\"><span class=\"katex\"><span class=\"katex-mathml\"><math><semantics><mrow><mtext>nums</mtext></mrow><annotation encoding=\"application/x-tex\"> \\text{nums} </annotation></semantics></math></span><span class=\"katex-html\" aria-hidden=\"true\"><span class=\"base\"><span class=\"strut\" style=\"height: 0.43056em; vertical-align: 0em;\"></span><span class=\"mord text\"><span class=\"mord\">nums</span></span></span></span></span></span> and an integer <span class=\"maths katex-rendered\"><span class=\"katex\"><span class=\"katex-mathml\"><math><semantics><mrow><mtext>k</mtext></mrow><annotation encoding=\"application/x-tex\"> \\text{k} </annotation></semantics></math></span><span class=\"katex-html\" aria-hidden=\"true\"><span class=\"base\"><span class=\"strut\" style=\"height: 0.69444em; vertical-align: 0em;\"></span><span class=\"mord text\"><span class=\"mord\">k</span></span></span></span></span></span> that represents the maximum number of actions allowed. Your array <span class=\"maths katex-rendered\"><span class=\"katex\"><span class=\"katex-mathml\"><math><semantics><mrow><mtext>dp</mtext></mrow><annotation encoding=\"application/x-tex\"> \\text{dp} </annotation></semantics></math></span><span class=\"katex-html\" aria-hidden=\"true\"><span class=\"base\"><span class=\"strut\" style=\"height: 0.88888em; vertical-align: -0.19444em;\"></span><span class=\"mord text\"><span class=\"mord\">dp</span></span></span></span></span></span> would be 2D with one dimension of length <span class=\"maths katex-rendered\"><span class=\"katex\"><span class=\"katex-mathml\"><math><semantics><mrow><mtext>nums.length</mtext></mrow><annotation encoding=\"application/x-tex\"> \\text{nums.length} </annotation></semantics></math></span><span class=\"katex-html\" aria-hidden=\"true\"><span class=\"base\"><span class=\"strut\" style=\"height: 0.88888em; vertical-align: -0.19444em;\"></span><span class=\"mord text\"><span class=\"mord\">nums.length</span></span></span></span></span></span> and the other of length <span class=\"maths katex-rendered\"><span class=\"katex\"><span class=\"katex-mathml\"><math><semantics><mrow><mtext>k</mtext></mrow><annotation encoding=\"application/x-tex\"> \\text{k} </annotation></semantics></math></span><span class=\"katex-html\" aria-hidden=\"true\"><span class=\"base\"><span class=\"strut\" style=\"height: 0.69444em; vertical-align: 0em;\"></span><span class=\"mord text\"><span class=\"mord\">k</span></span></span></span></span></span>. In the top-down approach, we had a function <code>dp</code>. We want these two to be equivalent. For example, the value of <code>dp(4, 6)</code> can now be found in <code>dp[4][6]</code>.</p>\n",
    "</li>\n",
    "<li>\n",
    "<p>Set your base cases, same as the ones you are using in your top-down function. In the example we just looked at, we had <code>dp(0) = dp(1) = 0</code>. We can initialize our <code>dp</code> array values to <code>0</code> to implicitly set this base case. As you'll see soon, other problems will have more complicated base cases.</p>\n",
    "</li>\n",
    "<li>\n",
    "<p>Write a for-loop(s) that iterate over your state variables. If you have multiple state variables, you will need nested for-loops. These loops should <strong>start iterating from the base cases and end at the answer state</strong>.</p>\n",
    "</li>\n",
    "<li>\n",
    "<p>Now, each iteration of the inner-most loop represents a given state, and is equivalent to a function call to the same state in top-down. Copy-paste the logic from your function into the for-loop and change the function calls to accessing your array. All <span class=\"maths katex-rendered\"><span class=\"katex\"><span class=\"katex-mathml\"><math><semantics><mrow><mtext>dp(...)</mtext></mrow><annotation encoding=\"application/x-tex\"> \\text{dp(...)} </annotation></semantics></math></span><span class=\"katex-html\" aria-hidden=\"true\"><span class=\"base\"><span class=\"strut\" style=\"height: 1em; vertical-align: -0.25em;\"></span><span class=\"mord text\"><span class=\"mord\">dp(...)</span></span></span></span></span></span> changes into <span class=\"maths katex-rendered\"><span class=\"katex\"><span class=\"katex-mathml\"><math><semantics><mrow><mtext>dp[...]</mtext></mrow><annotation encoding=\"application/x-tex\"> \\text{dp[...]} </annotation></semantics></math></span><span class=\"katex-html\" aria-hidden=\"true\"><span class=\"base\"><span class=\"strut\" style=\"height: 1em; vertical-align: -0.25em;\"></span><span class=\"mord text\"><span class=\"mord\">dp[...]</span></span></span></span></span></span>.</p>\n",
    "</li>\n",
    "<li>\n",
    "<p>We're done! <span class=\"maths katex-rendered\"><span class=\"katex\"><span class=\"katex-mathml\"><math><semantics><mrow><mtext>dp</mtext></mrow><annotation encoding=\"application/x-tex\"> \\text{dp} </annotation></semantics></math></span><span class=\"katex-html\" aria-hidden=\"true\"><span class=\"base\"><span class=\"strut\" style=\"height: 0.88888em; vertical-align: -0.19444em;\"></span><span class=\"mord text\"><span class=\"mord\">dp</span></span></span></span></span></span> is now an array populated with the answer to the original problem for all possible states. Return the answer to the original problem, by changing <span class=\"maths katex-rendered\"><span class=\"katex\"><span class=\"katex-mathml\"><math><semantics><mrow><mtext>return&nbsp;dp(...)</mtext></mrow><annotation encoding=\"application/x-tex\"> \\text{return dp(...)} </annotation></semantics></math></span><span class=\"katex-html\" aria-hidden=\"true\"><span class=\"base\"><span class=\"strut\" style=\"height: 1em; vertical-align: -0.25em;\"></span><span class=\"mord text\"><span class=\"mord\">return&nbsp;dp(...)</span></span></span></span></span></span> to <span class=\"maths katex-rendered\"><span class=\"katex\"><span class=\"katex-mathml\"><math><semantics><mrow><mtext>return&nbsp;dp[...]</mtext></mrow><annotation encoding=\"application/x-tex\"> \\text{return dp[...]} </annotation></semantics></math></span><span class=\"katex-html\" aria-hidden=\"true\"><span class=\"base\"><span class=\"strut\" style=\"height: 1em; vertical-align: -0.25em;\"></span><span class=\"mord text\"><span class=\"mord\">return&nbsp;dp[...]</span></span></span></span></span></span>.</p>\n",
    "</li>\n",
    "</ol>"
   ]
  },
  {
   "cell_type": "code",
   "execution_count": null,
   "metadata": {},
   "outputs": [],
   "source": [
    "class Solution:\n",
    "    def minCostClimbingStairs(self, cost: List[int]) -> int:\n",
    "        n = len(cost)\n",
    "        # Step 2\n",
    "        dp = [0] * (n+1)\n",
    "        \n",
    "        # Step 3: Base cases are implicitly defined as they are 0\n",
    "        \n",
    "        # Step 4\n",
    "        for i in range(2, n + 1):\n",
    "            # Step 5\n",
    "            dp[i] = min(dp[i - 1] + cost[i - 1], dp[i - 2] + cost[i - 2])\n",
    "            \n",
    "        # Step 6\n",
    "        return dp[n]"
   ]
  }
 ],
 "metadata": {
  "kernelspec": {
   "display_name": "Python 3",
   "language": "python",
   "name": "python3"
  },
  "language_info": {
   "codemirror_mode": {
    "name": "ipython",
    "version": 3
   },
   "file_extension": ".py",
   "mimetype": "text/x-python",
   "name": "python",
   "nbconvert_exporter": "python",
   "pygments_lexer": "ipython3",
   "version": "3.13.3"
  }
 },
 "nbformat": 4,
 "nbformat_minor": 2
}
