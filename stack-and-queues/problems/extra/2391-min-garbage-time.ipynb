{
 "cells": [
  {
   "cell_type": "code",
   "execution_count": 5,
   "metadata": {},
   "outputs": [],
   "source": [
    "from typing import List\n",
    "\n",
    "class Solution:\n",
    "    def garbageCollection(self, garbage: List[str], travel: List[int]):\n",
    "        M, P, G = False, False, False\n",
    "        ans = len(garbage[0])\n",
    "        \n",
    "        for i in range(len(garbage) -1, 0, -1):\n",
    "            M |= \"M\" in garbage[i]\n",
    "            P |= \"P\" in garbage[i]\n",
    "            G |= \"G\" in garbage[i]\n",
    "            ans += travel[i - 1] * (int(M) + int(P) + int(G)) + len(garbage[i])\n",
    "            \n",
    "        return ans"
   ]
  },
  {
   "cell_type": "code",
   "execution_count": 9,
   "metadata": {},
   "outputs": [
    {
     "data": {
      "text/plain": [
       "21"
      ]
     },
     "execution_count": 9,
     "metadata": {},
     "output_type": "execute_result"
    }
   ],
   "source": [
    "sol = Solution()\n",
    "garbage = [\"G\",\"P\",\"GP\",\"GG\"] \n",
    "travel = [2,4,3]\n",
    "sol.garbageCollection(garbage, travel)"
   ]
  },
  {
   "cell_type": "code",
   "execution_count": null,
   "metadata": {},
   "outputs": [],
   "source": [
    "class MyQueue:\n",
    "\n",
    "    def __init__(self):\n",
    "        self.stack1 = []\n",
    "        self.stack2 = []\n",
    "        \n",
    "    def push(self, x: int) -> None:\n",
    "        self.stack1.append(x)\n",
    "\n",
    "    def pop(self) -> int:\n",
    "        if not self.stack2:\n",
    "            while self.stack1:\n",
    "                self.stack2.append(self.stack1.pop())\n",
    "                \n",
    "        return self.stack2.pop()\n",
    "    \n",
    "    def peek(self) -> int:\n",
    "        if not self.stack2:\n",
    "            while self.stack1:\n",
    "                self.stack2.append(self.stack1.pop())\n",
    "        \n",
    "        return self.stack2[-1]\n",
    "\n",
    "    def empty(self) -> bool:\n",
    "        return len(self.stack1) == 0 and len(self.stack2) == 0\n",
    "\n",
    "\n",
    "# Your MyQueue object will be instantiated and called as such:\n",
    "# obj = MyQueue()\n",
    "# obj.push(x)\n",
    "# param_2 = obj.pop()\n",
    "# param_3 = obj.peek()\n",
    "# param_4 = obj.empty()"
   ]
  },
  {
   "cell_type": "code",
   "execution_count": 10,
   "metadata": {},
   "outputs": [
    {
     "name": "stdout",
     "output_type": "stream",
     "text": [
      "[1, 2, 3, 4]\n"
     ]
    }
   ],
   "source": [
    "i = [1,2,3,4,5]\n",
    "\n",
    "print(i[:-1])"
   ]
  }
 ],
 "metadata": {
  "kernelspec": {
   "display_name": "Python 3",
   "language": "python",
   "name": "python3"
  },
  "language_info": {
   "codemirror_mode": {
    "name": "ipython",
    "version": 3
   },
   "file_extension": ".py",
   "mimetype": "text/x-python",
   "name": "python",
   "nbconvert_exporter": "python",
   "pygments_lexer": "ipython3",
   "version": "3.13.3"
  }
 },
 "nbformat": 4,
 "nbformat_minor": 2
}
