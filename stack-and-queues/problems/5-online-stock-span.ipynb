{
 "cells": [
  {
   "cell_type": "markdown",
   "metadata": {},
   "source": [
    "<div><p>Design an algorithm that collects daily price quotes for some stock and returns <strong>the span</strong> of that stock's price for the current day.</p>\n",
    "\n",
    "<p>The <strong>span</strong> of the stock's price in one day is the maximum number of consecutive days (starting from that day and going backward) for which the stock price was less than or equal to the price of that day.</p>\n",
    "\n",
    "<ul>\n",
    "\t<li>For example, if the prices of the stock in the last four days is <code>[7,2,1,2]</code> and the price of the stock today is <code>2</code>, then the span of today is <code>4</code> because starting from today, the price of the stock was less than or equal <code>2</code> for <code>4</code> consecutive days.</li>\n",
    "\t<li>Also, if the prices of the stock in the last four days is <code>[7,34,1,2]</code> and the price of the stock today is <code>8</code>, then the span of today is <code>3</code> because starting from today, the price of the stock was less than or equal <code>8</code> for <code>3</code> consecutive days.</li>\n",
    "</ul>\n",
    "\n",
    "<p>Implement the <code>obj</code> class:</p>\n",
    "\n",
    "<ul>\n",
    "\t<li><code>obj()</code> Initializes the object of the class.</li>\n",
    "\t<li><code>int next(int price)</code> Returns the <strong>span</strong> of the stock's price given that today's price is <code>price</code>.</li>\n",
    "</ul>\n",
    "\n",
    "<p>&nbsp;</p>\n",
    "<p><strong class=\"example\">Example 1:</strong></p>\n",
    "\n",
    "<pre><strong>Input</strong>\n",
    "[\"obj\", \"next\", \"next\", \"next\", \"next\", \"next\", \"next\", \"next\"]\n",
    "[[], 100, 80, 60, 70, 60, 75, 85]\n",
    "<strong>Output</strong>\n",
    "[null, 1, 1, 1, 2, 1, 4, 6]\n",
    "\n",
    "<strong>Explanation</strong>\n",
    "obj stockSpanner = new StockSpanner();\n",
    "stockSpanner.next(100); // return 1\n",
    "stockSpanner.next(80);  // return 1\n",
    "stockSpanner.next(60);  // return 1\n",
    "stockSpanner.next(70);  // return 2\n",
    "stockSpanner.next(60);  // return 1\n",
    "stockSpanner.next(75);  // return 4, because the last 4 prices (including today's price of 75) were less than or equal to today's price.\n",
    "stockSpanner.next(85);  // return 6\n",
    "</pre>\n",
    "\n",
    "<p>&nbsp;</p>\n",
    "<p><strong>Constraints:</strong></p>\n",
    "\n",
    "<ul>\n",
    "\t<li><code>1 &lt;= price &lt;= 10<sup>5</sup></code></li>\n",
    "\t<li>At most <code>10<sup>4</sup></code> calls will be made to <code>next</code>.</li>\n",
    "</ul>\n",
    "</div>"
   ]
  },
  {
   "cell_type": "code",
   "execution_count": 41,
   "metadata": {},
   "outputs": [],
   "source": [
    "from collections import deque\n",
    "class StockSpanner:\n",
    "\n",
    "    def __init__(self):\n",
    "        self.stack = []\n",
    "\n",
    "    def next(self, price: int) -> int:\n",
    "        ans = 1\n",
    "        while self.stack and self.stack[-1][0] <= price:\n",
    "            ans += self.stack.pop()[1]\n",
    "        \n",
    "        self.stack.append([price, ans])\n",
    "        return ans\n",
    "\n",
    "\n",
    "# Your StockSpanner object will be instantiated and called as such:\n",
    "# obj = StockSpanner()\n",
    "# param_1 = obj.next(price)"
   ]
  },
  {
   "cell_type": "code",
   "execution_count": 43,
   "metadata": {},
   "outputs": [
    {
     "data": {
      "text/plain": [
       "6"
      ]
     },
     "execution_count": 43,
     "metadata": {},
     "output_type": "execute_result"
    }
   ],
   "source": [
    "obj = StockSpanner()\n",
    "\n",
    "obj.next(100)\n",
    "obj.next(80)\n",
    "obj.next(60)\n",
    "obj.next(70)\n",
    "obj.next(60)\n",
    "obj.next(75)\n",
    "obj.next(85)"
   ]
  },
  {
   "cell_type": "code",
   "execution_count": 34,
   "metadata": {},
   "outputs": [
    {
     "name": "stdout",
     "output_type": "stream",
     "text": [
      "deque([0])\n",
      "deque([0, 1])\n",
      "deque([0, 1, 2])\n",
      "popping: 2\n",
      "stack[2] = 3\n",
      "deque([0, 1, 3])\n",
      "deque([0, 1, 3, 4])\n",
      "popping: 4\n",
      "stack[4] = 4\n",
      "popping: 3\n",
      "stack[3] = 3\n",
      "deque([0, 1, 5])\n",
      "popping: 5\n",
      "stack[5] = 3\n",
      "popping: 1\n",
      "stack[1] = 2\n",
      "deque([0, 6])\n",
      "Final stack: [1, 2, 3, 3, 4, 3, 1]\n"
     ]
    }
   ],
   "source": [
    "from collections import deque\n",
    "from pprint import pprint\n",
    "\n",
    "prices = [100, 80, 60, 70, 60, 75, 85]\n",
    "stack = [1] * len(prices)\n",
    "\n",
    "queue = deque()\n",
    "\n",
    "for i in range(len(prices)):\n",
    "    \n",
    "    while queue and prices[i] >= prices[queue[-1]]:\n",
    "        j = queue.pop()\n",
    "        print(f\"popping: {j}\")\n",
    "        stack[j] = len(queue) +1\n",
    "        print(f\"stack[{j}] = {stack[j]}\")\n",
    "        \n",
    "    queue.append(i)\n",
    "    pprint(queue)\n",
    "    \n",
    "print(f\"Final stack: {stack}\")"
   ]
  }
 ],
 "metadata": {
  "kernelspec": {
   "display_name": "Python 3",
   "language": "python",
   "name": "python3"
  },
  "language_info": {
   "codemirror_mode": {
    "name": "ipython",
    "version": 3
   },
   "file_extension": ".py",
   "mimetype": "text/x-python",
   "name": "python",
   "nbconvert_exporter": "python",
   "pygments_lexer": "ipython3",
   "version": "3.13.3"
  }
 },
 "nbformat": 4,
 "nbformat_minor": 2
}
