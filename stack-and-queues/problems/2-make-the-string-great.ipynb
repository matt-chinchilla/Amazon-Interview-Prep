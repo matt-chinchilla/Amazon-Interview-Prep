{
 "cells": [
  {
   "cell_type": "markdown",
   "metadata": {},
   "source": [
    "<div><p>Given a string <code>s</code> of lower and upper case English letters.</p>\n",
    "\n",
    "<p>A good string is a string which doesn't have <strong>two adjacent characters</strong> <code>s[i]</code> and <code>s[i + 1]</code> where:</p>\n",
    "\n",
    "<ul>\n",
    "\t<li><code>0 &lt;= i &lt;= s.length - 2</code></li>\n",
    "\t<li><code>s[i]</code> is a lower-case letter and <code>s[i + 1]</code> is the same letter but in upper-case or <strong>vice-versa</strong>.</li>\n",
    "</ul>\n",
    "\n",
    "<p>To make the string good, you can choose <strong>two adjacent</strong> characters that make the string bad and remove them. You can keep doing this until the string becomes good.</p>\n",
    "\n",
    "<p>Return <em>the string</em> after making it good. The answer is guaranteed to be unique under the given constraints.</p>\n",
    "\n",
    "<p><strong>Notice</strong> that an empty string is also good.</p>\n",
    "\n",
    "<p>&nbsp;</p>\n",
    "<p><strong class=\"example\">Example 1:</strong></p>\n",
    "\n",
    "<pre><strong>Input:</strong> s = \"leEeetcode\"\n",
    "<strong>Output:</strong> \"leetcode\"\n",
    "<strong>Explanation:</strong> In the first step, either you choose i = 1 or i = 2, both will result \"leEeetcode\" to be reduced to \"leetcode\".\n",
    "</pre>\n",
    "\n",
    "<p><strong class=\"example\">Example 2:</strong></p>\n",
    "\n",
    "<pre><strong>Input:</strong> s = \"abBAcC\"\n",
    "<strong>Output:</strong> \"\"\n",
    "<strong>Explanation:</strong> We have many possible scenarios, and all lead to the same answer. For example:\n",
    "\"abBAcC\" --&gt; \"aAcC\" --&gt; \"cC\" --&gt; \"\"\n",
    "\"abBAcC\" --&gt; \"abBA\" --&gt; \"aA\" --&gt; \"\"\n",
    "</pre>\n",
    "\n",
    "<p><strong class=\"example\">Example 3:</strong></p>\n",
    "\n",
    "<pre><strong>Input:</strong> s = \"s\"\n",
    "<strong>Output:</strong> \"s\"\n",
    "</pre>\n",
    "\n",
    "<p>&nbsp;</p>\n",
    "<p><strong>Constraints:</strong></p>\n",
    "\n",
    "<ul>\n",
    "\t<li><code>1 &lt;= s.length &lt;= 100</code></li>\n",
    "\t<li><code>s</code> contains only lower and upper case English letters.</li>\n",
    "</ul>\n",
    "</div>"
   ]
  },
  {
   "cell_type": "code",
   "execution_count": 4,
   "metadata": {},
   "outputs": [],
   "source": [
    "class Solution:\n",
    "    def makeGood(self, s: str) -> str:\n",
    "        res_stack = [s[0]]                  # Stack that is prepopulated by the first letter in the string\n",
    "        \n",
    "        for char in s[1:]:\n",
    "            if res_stack and char.upper() == char and char.lower() == res_stack[-1]:\n",
    "                res_stack.pop()\n",
    "            elif res_stack and char.lower() == char and char.upper() == res_stack[-1]:\n",
    "                res_stack.pop()\n",
    "            else:\n",
    "                res_stack.append(char)\n",
    "        \n",
    "        return \"\".join(res_stack)"
   ]
  },
  {
   "cell_type": "code",
   "execution_count": 2,
   "metadata": {},
   "outputs": [],
   "source": [
    "sol = Solution()\n",
    "s = \"abBAcC\""
   ]
  },
  {
   "cell_type": "code",
   "execution_count": 3,
   "metadata": {},
   "outputs": [
    {
     "name": "stdout",
     "output_type": "stream",
     "text": [
      "leetcode\n"
     ]
    }
   ],
   "source": [
    "print(sol.makeGood(s))"
   ]
  }
 ],
 "metadata": {
  "kernelspec": {
   "display_name": "Python 3",
   "language": "python",
   "name": "python3"
  },
  "language_info": {
   "codemirror_mode": {
    "name": "ipython",
    "version": 3
   },
   "file_extension": ".py",
   "mimetype": "text/x-python",
   "name": "python",
   "nbconvert_exporter": "python",
   "pygments_lexer": "ipython3",
   "version": "3.13.3"
  }
 },
 "nbformat": 4,
 "nbformat_minor": 2
}
