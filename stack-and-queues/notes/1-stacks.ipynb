{
 "cells": [
  {
   "cell_type": "markdown",
   "metadata": {},
   "source": [
    "#### 1) <u>Stacks</u>\n",
    "<p>A stack is an ordered collection of elements where elements are only added and removed from the same end. In the physical world, an example of a stack would be a stack of plates in a kitchen - you add plates or remove plates from the top of the pile. In the software world, a good example of a stack is the history of your current browser's tab. Let's say you're on site <code>A</code>, and you click on a link to go to site <code>B</code>, then from <code>B</code> you click on another link to go to site <code>C</code>. Every time you click a link, you are adding to the stack - your history is now <code>[A, B, C]</code>. When you click the back arrow, you are \"removing\" from the stack - click it once and you have <code>[A, B]</code>, click it again and you have <code>[A]</code>.</p>\n",
    "<blockquote>\n",
    "<p>Another term used to describe stacks is <strong>LIFO</strong>, which stands for <strong>last in, first out</strong>. The last (most recent) element placed inside is the first element to come out.</p>\n",
    "</blockquote>\n",
    "<p>Stacks are very simple to implement. Some languages like <a href=\"https://docs.oracle.com/javase/7/docs/api/java/util/Stack.html\" target=\"_blank\">Java</a> have built-in stacks. In Python, you can just use a list <code>stack = []</code> and use <code>stack.append(element)</code> and <code>stack.pop()</code>. In fact, any dynamic array can implement a stack. Typically, inserting into a stack is called <strong>pushing</strong> and removing from a stack is called <strong>popping</strong>. Stacks will usually also come with operations like <strong>peek</strong>, which means looking at the element at the top of the stack.</p>\n",
    "<blockquote>\n",
    "<p>The characteristic that makes something a \"stack\" is that you can only add and remove elements from the same end. It doesn't matter how you implement it, a \"stack\" is just an abstract interface.</p>\n",
    "<p>Stacks and recursion are very similar. This is because recursion is actually done using a stack. Function calls are pushed on a stack. The call at the top of the stack at any given moment is the \"active\" call. On a return statement or the end of the function being reached, the current call is popped off the stack.</p>\n",
    "</blockquote>\n",
    "<hr>\n",
    "\n",
    "#### Most problems are almost entire contingent on recognizing the <span style=\"color:red\">LIFO Pattern</span>\n",
    "- Matching elements together\n",
    "- \"how far is the next largest element\"\n",
    "- evaluating a math question given a <code>string</code>\n",
    "- comparing elements against eachother\n",
    "\n",
    "<hr>"
   ]
  },
  {
   "cell_type": "code",
   "execution_count": 1,
   "metadata": {},
   "outputs": [
    {
     "data": {
      "text/plain": [
       "1"
      ]
     },
     "execution_count": 1,
     "metadata": {},
     "output_type": "execute_result"
    }
   ],
   "source": [
    "# Declaration -> Just gonna use a list\n",
    "stack = []\n",
    "\n",
    "# Pushing\n",
    "stack.append(1)\n",
    "stack.append(2)\n",
    "stack.append(3)\n",
    "\n",
    "# Popping\n",
    "stack.pop() # 3\n",
    "stack.pop() # 2\n",
    "\n",
    "# Check if empty\n",
    "not stack   # False\n",
    "\n",
    "# Check top-most element\n",
    "stack[-1]   # 1\n",
    "\n",
    "# Get size\n",
    "len(stack)"
   ]
  }
 ],
 "metadata": {
  "kernelspec": {
   "display_name": "Python 3",
   "language": "python",
   "name": "python3"
  },
  "language_info": {
   "codemirror_mode": {
    "name": "ipython",
    "version": 3
   },
   "file_extension": ".py",
   "mimetype": "text/x-python",
   "name": "python",
   "nbconvert_exporter": "python",
   "pygments_lexer": "ipython3",
   "version": "3.13.3"
  }
 },
 "nbformat": 4,
 "nbformat_minor": 2
}
