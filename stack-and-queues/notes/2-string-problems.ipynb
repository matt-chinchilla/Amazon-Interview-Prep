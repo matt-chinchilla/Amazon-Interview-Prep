{
 "cells": [
  {
   "cell_type": "markdown",
   "metadata": {},
   "source": [
    "#### 2) <u>String Problems</u>\n",
    "<blockquote>\n",
    "<p>Example 1: <a href=\"https://leetcode.com/problems/valid-parentheses/\" target=\"_blank\">20. Valid Parentheses</a></p>\n",
    "<p>Given a string <code>s</code> containing just the characters <code>'('</code>, <code>')'</code>, <code>'{'</code>, <code>'}'</code>, <code>'['</code> and <code>']'</code>, determine if the input string is valid. The string is valid if all open brackets are closed by the same type of closing bracket in the correct order, and each closing bracket closes exactly one open bracket.</p>\n",
    "<p>For example, <code>s = \"({})\"</code> and <code>s = \"(){}[]\"</code> are valid, but <code>s = \"(]\"</code> and <code>s = \"({)}\"</code> are not valid.</p>\n",
    "</blockquote>\n",
    "<hr>\n",
    "\n",
    "- Solution: <u>Opening brackets `({[` == `push()/append()` || Closing brackets `]})` == `pop()`</u>\n",
    "    - Stack need to be empty to be valid\n",
    "    - Use a **hash map** to map each  **opening bracket** to its respective **closing bracket**\n",
    "    - When `closingBracket` → use top of stack as a key → check if value == current char"
   ]
  },
  {
   "cell_type": "code",
   "execution_count": 1,
   "metadata": {},
   "outputs": [],
   "source": [
    "class Solution:\n",
    "    def isValid(self, s: str) -> bool:\n",
    "        stack = []\n",
    "        matching = {'(':')', '{':'}', '[':']'}\n",
    "\n",
    "        for c in s:\n",
    "            if c in matching: \n",
    "                stack.append(c)\n",
    "            else:   \n",
    "                if not stack:                  \n",
    "                    return False                \n",
    "            \n",
    "                previous_opening = stack.pop()            \n",
    "                if matching[previous_opening] != c:\n",
    "                    return False\n",
    "        return not stack                           "
   ]
  },
  {
   "cell_type": "markdown",
   "metadata": {},
   "source": [
    "<blockquote>\n",
    "<p>Example 2: <a href=\"https://leetcode.com/problems/remove-all-adjacent-duplicates-in-string/\" target=\"_blank\">1047. Remove All Adjacent Duplicates In String</a></p>\n",
    "<p>You are given a string <code>s</code>. Continuously remove duplicates (two of the same character beside each other) until you can't anymore. Return the final string after this.</p>\n",
    "<p>For example, given <code>s = \"abbaca\"</code>, you can first remove the <code>\"bb\"</code> to get <code>\"aaca\"</code>. Next, you can remove the <code>\"aa\"</code> to get <code>\"ca\"</code>. This is the final answer.</p>\n",
    "</blockquote>"
   ]
  },
  {
   "cell_type": "code",
   "execution_count": 2,
   "metadata": {},
   "outputs": [],
   "source": [
    "class Solution:\n",
    "    def removeDuplicates(self, s: str) -> str:\n",
    "        stack = []\n",
    "        breakpoint()\n",
    "        for c in s:\n",
    "            if stack and stack[-1] == c: # If the stack isn't empty AND the top of the stack is equal to c\n",
    "                stack.pop()\n",
    "            else:\n",
    "                stack.append(c)\n",
    "                \n",
    "        breakpoint()        \n",
    "        return \"\".join(stack)"
   ]
  },
  {
   "cell_type": "markdown",
   "metadata": {},
   "source": [
    "<blockquote>\n",
    "<p>Example 3: <a href=\"https://leetcode.com/problems/backspace-string-compare/\" target=\"_blank\">844. Backspace String Compare</a></p>\n",
    "<p>Given two strings <code>s</code> and <code>t</code>, return true if they are equal when both are typed into empty text editors. <code>'#'</code> means a backspace character.</p>\n",
    "<p>For example, given <code>s = \"ab#c\"</code> and <code>t = \"ad#c\"</code>, return true. Because of the backspace, the strings are both equal to <code>\"ac\"</code>.</p>\n",
    "</blockquote>"
   ]
  },
  {
   "cell_type": "code",
   "execution_count": 27,
   "metadata": {},
   "outputs": [],
   "source": [
    "class Solution:\n",
    "    def backspaceCompare(self, s: str, t: str) -> bool:\n",
    "        def build(s):\n",
    "            stack = []\n",
    "            for c in s:\n",
    "                if c != \"#\":\n",
    "                    stack.append(c)\n",
    "                elif stack:\n",
    "                    stack.pop()\n",
    "\n",
    "            return \"/\".join(stack)     \n",
    "\n",
    "        return build(s) == build(t)"
   ]
  },
  {
   "cell_type": "code",
   "execution_count": 28,
   "metadata": {},
   "outputs": [
    {
     "data": {
      "text/plain": [
       "True"
      ]
     },
     "execution_count": 28,
     "metadata": {},
     "output_type": "execute_result"
    }
   ],
   "source": [
    "sol = Solution()\n",
    "s = \"ab#c\"\n",
    "t = \"ad#c\"\n",
    "\n",
    "sol.backspaceCompare(s, t)"
   ]
  }
 ],
 "metadata": {
  "kernelspec": {
   "display_name": "Python 3",
   "language": "python",
   "name": "python3"
  },
  "language_info": {
   "codemirror_mode": {
    "name": "ipython",
    "version": 3
   },
   "file_extension": ".py",
   "mimetype": "text/x-python",
   "name": "python",
   "nbconvert_exporter": "python",
   "pygments_lexer": "ipython3",
   "version": "3.13.3"
  }
 },
 "nbformat": 4,
 "nbformat_minor": 2
}
