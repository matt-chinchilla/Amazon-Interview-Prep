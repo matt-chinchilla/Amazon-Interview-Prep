{
 "cells": [
  {
   "cell_type": "markdown",
   "metadata": {},
   "source": [
    "<blockquote>\n",
    "<p>Note: if you're a beginner and struggle to grasp this article, don't be discouraged! This is one of the most difficult concepts taught in this course. Good news is, the concept is not super common in interviews, but still a good one to know. If you find yourself stuck, don't worry about moving on and coming back later.</p>\n",
    "<p><strong>Monotonic:</strong> <em>(of a function or quantity) varying in such a way that it either never decreases or never increases</em>. </p>\n",
    "</blockquote>\n",
    "\n",
    "<p>A monotonic stack or queue is one whose elements are always sorted. It can be sorted either ascending or descending, depending on the algorithm. Monotonic stacks and queues maintain their sorted property by removing elements that would violate the property before adding new elements. For example, let's say you had a monotonically increasing stack, currently <code>stack = [1, 5, 8, 15, 23]</code>. You want to push <code>14</code> onto the stack. To maintain the sorted property, we need to first pop the <code>15</code> and <code>23</code> before pushing the <code>14</code> - after the push operation, we have <code>stack = [1, 5, 8, 14]</code>.</p>\n",
    "\n",
    "- Basically\n",
    "1) <span style=\"color:red\"> It is always sorted in <strong>ascending or descending</strong> order </span>\n",
    "2) <span style=\"color:red\"> Adding new elements requires <strong>Removing the elements that would violate the consistency</strong></span>"
   ]
  },
  {
   "cell_type": "markdown",
   "metadata": {},
   "source": [
    "<hr>\n",
    "<blockquote>\n",
    "<p>Example 1: <a href=\"https://leetcode.com/problems/daily-temperatures/\" target=\"_blank\">739. Daily Temperatures</a></p>\n",
    "<p>Given an array of integers <code>temperatures</code> that represents the daily temperatures, return an array <code>answer</code> such that <code>answer[i]</code> is the number of days you have to wait after the <span class=\"maths katex-rendered\"><span class=\"katex\"><span class=\"katex-mathml\"><math><semantics><mrow><msup><mi>i</mi><mrow><mi>t</mi><mi>h</mi></mrow></msup></mrow><annotation encoding=\"application/x-tex\">i^{th}</annotation></semantics></math></span><span class=\"katex-html\" aria-hidden=\"true\"><span class=\"base\"><span class=\"strut\" style=\"height: 0.849108em; vertical-align: 0em;\"></span><span class=\"mord\"><span class=\"mord mathdefault\">i</span><span class=\"msupsub\"><span class=\"vlist-t\"><span class=\"vlist-r\"><span class=\"vlist\" style=\"height: 0.849108em;\"><span class=\"\" style=\"top: -3.063em; margin-right: 0.05em;\"><span class=\"pstrut\" style=\"height: 2.7em;\"></span><span class=\"sizing reset-size6 size3 mtight\"><span class=\"mord mtight\"><span class=\"mord mathdefault mtight\">t</span><span class=\"mord mathdefault mtight\">h</span></span></span></span></span></span></span></span></span></span></span></span></span> day to get a warmer temperature. If there is no future day that is warmer, have <code>answer[i] = 0</code> instead.</p>\n",
    "</blockquote>"
   ]
  },
  {
   "cell_type": "code",
   "execution_count": 1,
   "metadata": {},
   "outputs": [],
   "source": [
    "from typing import List\n",
    "\n",
    "class Solution:\n",
    "    def dailyTemperatures(self, temperatures: List[int]) -> List[int]:\n",
    "        stack = []\n",
    "        answer = [0] * len(temperatures)\n",
    "        \n",
    "        for i in range(len(temperatures)):\n",
    "            while stack and temperatures[stack[-1]] < temperatures[i]:\n",
    "                # While the top of the stack violates the monotonic increasing property\n",
    "                j = stack.pop()\n",
    "                answer[j] = i - j       # Ans at index of the temperature == distance between current element, and the element that just got popped\n",
    "                \n",
    "            stack.append(i)\n",
    "        return answer"
   ]
  },
  {
   "cell_type": "markdown",
   "metadata": {},
   "source": [
    "<blockquote>\n",
    "<p>Note: technically, the correct mathematical term to use here is \"monotonically non-increasing\", not \"monotonically decreasing\". This is because \"monotonically decreasing\" implies that the elements are <strong>always</strong> decreasing, so something like <code>[5, 3, 3, 2]</code> is not valid since <code>3, 3</code> is not decreasing. In this problem, we can have elements in the stack that represent equal temperatures.</p>\n",
    "<p>For simplicity, we have used the term \"decreasing\" because the important part is that the stack is always sorted. However, it's good to understand the difference. If you wanted to implement a monotonic stack that cannot have equal elements, you would simply need to change the less-than/greater-than operator to a less-than or equal to/greater-than or equal to operator, i.e. <code>&gt;</code> becomes <code>&gt;=</code> and <code>&lt;</code> becomes <code>&lt;=</code>.</p>\n",
    "</blockquote>"
   ]
  },
  {
   "cell_type": "markdown",
   "metadata": {},
   "source": [
    "<hr>\n",
    "<blockquote>\n",
    "<p>Example 2: <a href=\"https://leetcode.com/problems/sliding-window-maximum/\" target=\"_blank\">239. Sliding Window Maximum</a></p>\n",
    "<p>Given an integer array <code>nums</code> and an integer <code>k</code>, there is a sliding window of size <code>k</code> that moves from the very left to the very right. For each window, find the maximum element in the window.</p>\n",
    "<p>For example, given <code>nums = [1, 3, -1, -3, 5, 3, 6, 7], k = 3</code>, return <code>[3, 3, 5, 5, 6, 7]</code>. The first window is <code>[<u>1, 3, -1</u>, -3, 5, 3, 6, 7]</code> and the last window is <code>[1, 3, -1, -3, 5, <u>3, 6, 7</u>]</code></p>\n",
    "<p>Note: this problem is significantly more difficult than any problem we have looked at so far. Don't be discouraged if you are having trouble understanding the solution.</p>\n",
    "</blockquote>"
   ]
  },
  {
   "cell_type": "code",
   "execution_count": 2,
   "metadata": {},
   "outputs": [],
   "source": [
    "from collections import deque\n",
    "\n",
    "class Solution:\n",
    "    def maxSlidingWindow(self, nums: List[int], k: int) -> List[int]:\n",
    "        ans = []\n",
    "        queue = deque()\n",
    "        \n",
    "        for i in range(len(nums)):\n",
    "            while queue and nums[i] > nums[queue[-1]]:   # When the next num is smaller (violates monotonic non-increasing)\n",
    "                queue.pop()\n",
    "            queue.append(i)\n",
    "            \n",
    "            if queue[0] + k == i:       # if current element is outside of the window\n",
    "                queue.popleft()\n",
    "                \n",
    "            # Whatever is at the front of the queue is already the largest element // Only want ot add it if we are already at the k-element\n",
    "            if i >= k-1:\n",
    "                ans.append(nums[queue[0]])\n",
    "                \n",
    "        return ans"
   ]
  },
  {
   "cell_type": "markdown",
   "metadata": {},
   "source": [
    "<ul>\n",
    "<li>We use a monotonic decreasing deque, which implies that the first element is the maximum.</li>\n",
    "<li>Once the maximum element is too far to stay in the window we remove it from the deque, and the next greatest element moves to position 0.</li>\n",
    "<li>To maintain the decreasing order, we remove elements from the deque that are smaller than the elements being added.</li>\n",
    "</ul>"
   ]
  },
  {
   "cell_type": "markdown",
   "metadata": {},
   "source": [
    "<blockquote>\n",
    "<p>Example 3: <a href=\"https://leetcode.com/problems/longest-continuous-subarray-with-absolute-diff-less-than-or-equal-to-limit/\" target=\"_blank\">1438. Longest Continuous Subarray With Absolute Diff Less Than or Equal to Limit</a></p>\n",
    "<p>Given an array of integers <code>nums</code> and an integer <code>limit</code>, return the size of the longest subarray such that the absolute difference between any two elements of this subarray is less than or equal to limit.</p>\n",
    "</blockquote>"
   ]
  },
  {
   "cell_type": "markdown",
   "metadata": {},
   "source": [
    "<p>Use two deques - one monotonic increasing and one monotonic decreasing. The monotonic increasing one has the minimum element in the window at the first index. The monotonic decreasing one has the maximum element in the window at the first index. Then, we can use the same sliding window format we learned in the arrays and strings chapter. Add elements to the deques from the right, remove them from the left when the <code>max - min &gt; limit</code>, and make sure to maintain the deques at each iteration.</p>"
   ]
  },
  {
   "cell_type": "code",
   "execution_count": 4,
   "metadata": {},
   "outputs": [],
   "source": [
    "from collections import deque\n",
    "\n",
    "class Solution:\n",
    "    def longestSubarray(self, nums: List[int], limit: int) -> int:\n",
    "        increasing = deque()\n",
    "        decreasing = deque()\n",
    "        \n",
    "        left = ans = 0\n",
    "        \n",
    "        for right in range(len(nums)):\n",
    "            # maintain monotonic deques\n",
    "            while increasing and increasing[-1] > nums[right]:\n",
    "                increasing.pop()\n",
    "            while decreasing and decreasing[-1] < nums[right]:\n",
    "                decreasing.pop()   \n",
    "                        \n",
    "            increasing.append(right)\n",
    "            decreasing.append(right)\n",
    "            \n",
    "            while decreasing[0] - increasing[0] > limit:\n",
    "                if nums[left] == decreasing[0]:\n",
    "                    decreasing.popleft()\n",
    "                if nums[left] == increasing[0]:\n",
    "                    increasing.popleft()\n",
    "                    \n",
    "                left += 1\n",
    "        \n",
    "            ans = max(ans, right - left + 1)\n",
    "        \n",
    "        return ans"
   ]
  }
 ],
 "metadata": {
  "kernelspec": {
   "display_name": "Python 3",
   "language": "python",
   "name": "python3"
  },
  "language_info": {
   "codemirror_mode": {
    "name": "ipython",
    "version": 3
   },
   "file_extension": ".py",
   "mimetype": "text/x-python",
   "name": "python",
   "nbconvert_exporter": "python",
   "pygments_lexer": "ipython3",
   "version": "3.13.3"
  }
 },
 "nbformat": 4,
 "nbformat_minor": 2
}
