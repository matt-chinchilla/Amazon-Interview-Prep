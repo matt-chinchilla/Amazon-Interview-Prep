{
 "cells": [
  {
   "cell_type": "markdown",
   "metadata": {},
   "source": [
    "<u><h2><span style=\"color:indigo\">Greedy Algorithms</span></h2></u>\n",
    "\n",
    "- <span style=\"color:red\">Greedy: </span> <u>Any algorithm that makes the `locally optimal` decision at every step</u>\n",
    "- <span style=\"color:red\">Local: </span> <u>A decision that considers only the `available options` at the `current step`</u>\n",
    "    - Usually asks for the **max** or **min** of something\n",
    "\n",
    "#### Note:\n",
    "1) <span style=color:red>In many problems, I will be sorting the input at the start</span>\n",
    "2) <span style=color:red>Needs to be `perfect` in order to be correct w/ tests, but is moreso used for `approximation` with significantly less `computations` to achieve it</span>"
   ]
  },
  {
   "cell_type": "markdown",
   "metadata": {},
   "source": [
    "<hr>\n",
    "<blockquote>\n",
    "<p>Example 1: <a href=\"https://leetcode.com/problems/destroying-asteroids\" target=\"_blank\">2126. Destroying Asteroids</a></p>\n",
    "<p>You are given an integer array <code>asteroids</code> and an integer <code>mass</code> representing the mass of a planet. The planet will collide with the asteroids one by one - you can choose the order. If the mass of the planet is less than the mass of an asteroid, the planet is destroyed. Otherwise, the planet gains the mass of the asteroid. Can you destroy all the asteroids?</p>\n",
    "</blockquote>"
   ]
  },
  {
   "cell_type": "markdown",
   "metadata": {},
   "source": [
    "#### <span style=color:red>Steps:</span>\n",
    "1) Sort the input (`asteroids`)\n",
    "2) Iterate through it\n",
    "3) **Greedily** choose the asteroid with the `smallest mass` at each step\n",
    "4) <u>IF</u> at any step, the smallest remaining asteroid has a mass **GREATER** than our planet (`asteroids[i] > mass`), then destroying the asteroids is **IMPOSSIBLE** and there is **no order of asteroids** that can allow me to continue"
   ]
  },
  {
   "cell_type": "code",
   "execution_count": 7,
   "metadata": {},
   "outputs": [],
   "source": [
    "from typing import List\n",
    "\n",
    "class Solution:\n",
    "    def asteroidsDestroyed(self, mass: int, asteroids: List[int]) -> bool:\n",
    "        asteroids= sorted(asteroids)\n",
    "        for asteroid in asteroids:\n",
    "            if asteroid > mass:\n",
    "                return False\n",
    "            mass += asteroid\n",
    "        return True"
   ]
  },
  {
   "cell_type": "code",
   "execution_count": 6,
   "metadata": {},
   "outputs": [
    {
     "name": "stdout",
     "output_type": "stream",
     "text": [
      "True\n"
     ]
    }
   ],
   "source": [
    "s = Solution()\n",
    "mass = 10\n",
    "asteroids = [3,9,19,5,21]\n",
    "print(s.asteroidsDestroyed(mass, asteroids))"
   ]
  },
  {
   "cell_type": "markdown",
   "metadata": {},
   "source": [
    "<blockquote>\n",
    "<p>Example 2: <a href=\"https://leetcode.com/problems/partition-array-such-that-maximum-difference-is-k/\" target=\"_blank\">2294. Partition Array Such That Maximum Difference Is K</a></p>\n",
    "<p>Given an integer array <code>nums</code> and an integer <code>k</code>, split <code>nums</code> into subsequences, where each subsequences' maximum and minimum element is within <code>k</code> of each other. What is the minimum number of subsequences needed?</p>\n",
    "<p>For example, given <code>nums = [3, 6, 1, 2, 5]</code> and <code>k = 2</code>, the answer is <code>2</code>. The subsequences are <code>[3, 1, 2]</code> and <code>[6, 5]</code>.</p>\n",
    "</blockquote>"
   ]
  },
  {
   "cell_type": "markdown",
   "metadata": {},
   "source": [
    "#### <span style=color:red>Steps:</span>\n",
    "1) Sort the input (`nums`)\n",
    "2) Iterate (starting with `x==1`) until `nums[x, x + k] > k`\n",
    "3) Make a new group\n",
    "4) Repeat"
   ]
  },
  {
   "cell_type": "code",
   "execution_count": 8,
   "metadata": {},
   "outputs": [],
   "source": [
    "from typing import List\n",
    "\n",
    "class Solution:\n",
    "    def partitionArray(self, nums: List[int], k: int) -> int:\n",
    "        nums = sorted(nums)\n",
    "        ans = 1\n",
    "        x = nums[0]\n",
    "        \n",
    "        for i in range(1, len(nums)):\n",
    "            if nums[i] - x > k:\n",
    "                x = nums[i]\n",
    "                ans += 1\n",
    "                \n",
    "        return ans"
   ]
  },
  {
   "cell_type": "code",
   "execution_count": 9,
   "metadata": {},
   "outputs": [
    {
     "name": "stdout",
     "output_type": "stream",
     "text": [
      "2\n"
     ]
    }
   ],
   "source": [
    "s=Solution()\n",
    "nums = [3,6,1,2,5]\n",
    "k = 2\n",
    "print(s.partitionArray(nums, k))"
   ]
  },
  {
   "cell_type": "markdown",
   "metadata": {},
   "source": [
    "<hr>\n",
    "<blockquote>\n",
    "<p>Example 3: <a href=\"https://leetcode.com/problems/ipo/\" target=\"_blank\">502. IPO</a></p>\n",
    "<p>LeetCode would like to work on some projects to increase its capital before <code>IPO</code>. You are given <code>n</code> projects where the <span class=\"maths katex-rendered\"><span class=\"katex\"><span class=\"katex-mathml\"><math><semantics><mrow><msup><mi>i</mi><mrow><mi>t</mi><mi>h</mi></mrow></msup></mrow><annotation encoding=\"application/x-tex\">i^{th}</annotation></semantics></math></span><span class=\"katex-html\" aria-hidden=\"true\"><span class=\"base\"><span class=\"strut\" style=\"height: 0.849108em; vertical-align: 0em;\"></span><span class=\"mord\"><span class=\"mord mathdefault\">i</span><span class=\"msupsub\"><span class=\"vlist-t\"><span class=\"vlist-r\"><span class=\"vlist\" style=\"height: 0.849108em;\"><span class=\"\" style=\"top: -3.063em; margin-right: 0.05em;\"><span class=\"pstrut\" style=\"height: 2.7em;\"></span><span class=\"sizing reset-size6 size3 mtight\"><span class=\"mord mtight\"><span class=\"mord mathdefault mtight\">t</span><span class=\"mord mathdefault mtight\">h</span></span></span></span></span></span></span></span></span></span></span></span></span> project has a profit of <code>profits[i]</code> and a minimum capital of <code>capital[i]</code> is needed to start it. Initially, you have <code>w</code> capital. When you finish a project, the profit will be added to your total capital. Return the max capital possible if you are allowed to do up to <code>k</code> projects.</p>\n",
    "</blockquote>"
   ]
  },
  {
   "cell_type": "markdown",
   "metadata": {},
   "source": [
    "#### <span style=color:red>Steps:</span>\n",
    "1) Given `w` money, look at `capital[0, n]` where `w >=capital[n]`\n",
    "2) Add `profits[0, n]` to a `MAX_HEAP`\n",
    "3) `heapq.heappop(MAX_HEAP)` to get the profits & add that value to `w`\n",
    "4) Repeat until we run the operations `k` times and return the value of `w`"
   ]
  },
  {
   "cell_type": "code",
   "execution_count": 10,
   "metadata": {},
   "outputs": [],
   "source": [
    "from typing import List\n",
    "import heapq\n",
    "\n",
    "class Solution:\n",
    "    def findMaximizedCapital(self, k: int, w: int, profits: List[int], capital: List[int]) -> int:\n",
    "        projects = sorted(zip(capital, profits))\n",
    "        n = len(projects)\n",
    "        i = 0\n",
    "        heap = []\n",
    "        \n",
    "        for _ in range(k):\n",
    "            while i < n and projects[i][0] <= w:\n",
    "                heapq.heappush(heap, -projects[i][1])\n",
    "                i += 1\n",
    "                \n",
    "            if len(heap) == 0:          # Can't afford any projects || Base-case\n",
    "                return w\n",
    "            \n",
    "            w -= heapq.heappop(heap)    # Negative because it is a maxHeap\n",
    "            \n",
    "        return w"
   ]
  },
  {
   "cell_type": "markdown",
   "metadata": {},
   "source": [
    "<hr>\n",
    "\n",
    "- The optimized version:\n",
    "<hr>"
   ]
  },
  {
   "cell_type": "code",
   "execution_count": 12,
   "metadata": {},
   "outputs": [],
   "source": [
    "from typing import List\n",
    "import heapq\n",
    "\n",
    "class Solution:\n",
    "    def findMaximizedCapital(self, k: int, w: int, profits: List[int], capital: List[int]) -> int:\n",
    "        if w >= max(capital):\n",
    "            return w + sum(heapq.nlargest(k, profits))  # Can afford all projects from the get-go, grab the top-k \n",
    "        \n",
    "        projects = sorted(zip(capital, profits))\n",
    "        heap = []\n",
    "        i, n = 0, len(profits)  # The range\n",
    "        \n",
    "        for _ in range(k):\n",
    "            while i < n and projects[i][0] <= w:\n",
    "                heapq.heappush(heap, -projects[i][1])\n",
    "                i += 1\n",
    "            \n",
    "            if len(heap) == 0:\n",
    "                return w\n",
    "            \n",
    "            w -= heapq.heappop(heap)\n",
    "\n",
    "        return w"
   ]
  },
  {
   "cell_type": "code",
   "execution_count": 13,
   "metadata": {},
   "outputs": [
    {
     "name": "stdout",
     "output_type": "stream",
     "text": [
      "30\n"
     ]
    }
   ],
   "source": [
    "s = Solution()\n",
    "k = 3\n",
    "w = 1\n",
    "profits = [3, 1, 6, 12, 20]\n",
    "capital = [0, 0, 2, 5, 7]\n",
    "print(s.findMaximizedCapital(k, w, profits, capital))"
   ]
  },
  {
   "cell_type": "markdown",
   "metadata": {},
   "source": [
    "<hr>\n",
    "<blockquote>\n",
    "<p>Example 4: <a href=\"https://leetcode.com/problems/least-number-of-unique-integers-after-k-removals/\" target=\"_blank\">1481. Least Number of Unique Integers after K Removals</a></p>\n",
    "<p>Given an array of integers <code>arr</code> and an integer <code>k</code>, find the least number of unique integers after removing exactly <code>k</code> elements.</p>\n",
    "</blockquote>\n",
    "\n",
    "<span style=color:red>A.K.A → Given `k` removals, pop the #'s with the lowest-counts</span>"
   ]
  },
  {
   "cell_type": "code",
   "execution_count": 14,
   "metadata": {},
   "outputs": [],
   "source": [
    "from typing import List\n",
    "from collections import Counter\n",
    "\n",
    "class Solution:\n",
    "    def findLeastNumOfUniqueInts(self, arr: List[int], k: int) -> int:\n",
    "        breakpoint()\n",
    "        counts = Counter(arr)\n",
    "        ordered = sorted(counts.values(), reverse=True)\n",
    "        \n",
    "        while k:\n",
    "            val = ordered[-1]   # Frequency of least-frequent element\n",
    "            if val <= k:        \n",
    "                k -= val        # Decrement remaining # of Operations by the smallest frequency\n",
    "                ordered.pop()\n",
    "            else:\n",
    "                break\n",
    "            \n",
    "        return len(ordered)"
   ]
  },
  {
   "cell_type": "markdown",
   "metadata": {},
   "source": [
    "<hr>\n",
    "\n",
    "- The optimized version:\n",
    "<hr>"
   ]
  },
  {
   "cell_type": "code",
   "execution_count": 19,
   "metadata": {},
   "outputs": [],
   "source": [
    "from typing import List\n",
    "from collections import Counter\n",
    "\n",
    "class Solution:\n",
    "    def findLeastNumOfUniqueInts(self, arr: List[int], k: int) -> int:\n",
    "        breakpoint()\n",
    "        counts = sorted([count for count in Counter(arr).values()], reverse=True)\n",
    "        while k:\n",
    "            if counts[-1] > k:\n",
    "                break\n",
    "            k -= counts[-1]\n",
    "            counts.pop()\n",
    "        return len(counts)"
   ]
  },
  {
   "cell_type": "code",
   "execution_count": 20,
   "metadata": {},
   "outputs": [
    {
     "name": "stdout",
     "output_type": "stream",
     "text": [
      "2\n"
     ]
    }
   ],
   "source": [
    "s = Solution()\n",
    "arr = [4,3,1,1,3,3,2]\n",
    "k = 3\n",
    "print(s.findLeastNumOfUniqueInts(arr, k))"
   ]
  },
  {
   "cell_type": "markdown",
   "metadata": {},
   "source": [
    "<hr>\n",
    "<blockquote>\n",
    "<p>Example 5: <a href=\"https://leetcode.com/problems/boats-to-save-people/\" target=\"_blank\">881. Boats to Save People</a></p>\n",
    "<p>You are given an array <code>people</code> where <code>people[i]</code> is the weight of the <span class=\"maths katex-rendered\"><span class=\"katex\"><span class=\"katex-mathml\"><math><semantics><mrow><msup><mi>i</mi><mrow><mi>t</mi><mi>h</mi></mrow></msup></mrow><annotation encoding=\"application/x-tex\">i^{th}</annotation></semantics></math></span><span class=\"katex-html\" aria-hidden=\"true\"><span class=\"base\"><span class=\"strut\" style=\"height: 0.849108em; vertical-align: 0em;\"></span><span class=\"mord\"><span class=\"mord mathdefault\">i</span><span class=\"msupsub\"><span class=\"vlist-t\"><span class=\"vlist-r\"><span class=\"vlist\" style=\"height: 0.849108em;\"><span class=\"\" style=\"top: -3.063em; margin-right: 0.05em;\"><span class=\"pstrut\" style=\"height: 2.7em;\"></span><span class=\"sizing reset-size6 size3 mtight\"><span class=\"mord mtight\"><span class=\"mord mathdefault mtight\">t</span><span class=\"mord mathdefault mtight\">h</span></span></span></span></span></span></span></span></span></span></span></span></span> person. A boat can hold up to two people, if their weight combined is less than or equal to <code>limit</code>. What is the fewest number of boats you need to carry everyone? Note: no person is heavier than <code>limit</code>.</p>\n",
    "</blockquote>\n",
    "\n",
    "1) Sort the array\n",
    "2) Use `two-pointers`\n",
    "3) Pair the lightest person with the heaviest person `when possible`, otherwise you send the heaviest `by themselves`"
   ]
  },
  {
   "cell_type": "code",
   "execution_count": 21,
   "metadata": {},
   "outputs": [],
   "source": [
    "from typing import List\n",
    "\n",
    "class Solution:\n",
    "    def numRescueBoats(self, people: List[int], limit: int) -> int:\n",
    "        ans = 0\n",
    "        left = 0\n",
    "        right = len(people) - 1\n",
    "        people.sort()\n",
    "        \n",
    "        while left <= right:\n",
    "            if people[left] + people[right] <= limit:\n",
    "                left += 1\n",
    "            \n",
    "            right -= 1\n",
    "            ans += 1\n",
    "            \n",
    "        return ans"
   ]
  },
  {
   "cell_type": "code",
   "execution_count": 22,
   "metadata": {},
   "outputs": [
    {
     "name": "stdout",
     "output_type": "stream",
     "text": [
      "4\n"
     ]
    }
   ],
   "source": [
    "s = Solution()\n",
    "people = [3,5,3,4]\n",
    "limit = 5\n",
    "print(s.numRescueBoats(people, limit))"
   ]
  }
 ],
 "metadata": {
  "kernelspec": {
   "display_name": "Python 3",
   "language": "python",
   "name": "python3"
  },
  "language_info": {
   "codemirror_mode": {
    "name": "ipython",
    "version": 3
   },
   "file_extension": ".py",
   "mimetype": "text/x-python",
   "name": "python",
   "nbconvert_exporter": "python",
   "pygments_lexer": "ipython3",
   "version": "3.13.3"
  }
 },
 "nbformat": 4,
 "nbformat_minor": 2
}
