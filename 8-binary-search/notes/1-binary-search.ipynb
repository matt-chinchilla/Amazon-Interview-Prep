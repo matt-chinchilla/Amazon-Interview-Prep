{
 "cells": [
  {
   "cell_type": "markdown",
   "metadata": {},
   "source": [
    "<u><h2><span style=color:maroon>Binary Search</span></h2></u>\n",
    "***How to implement***\n",
    "<ol>\n",
    "<li>Declare <code>left = 0</code> and <code>right = arr.length - 1</code>. These variables represent the inclusive bounds of the current search space at any given time. Initially, we consider the entire array.</li>\n",
    "<li>While <code>left &lt;= right</code>:<ul>\n",
    "<li>Calculate the middle of the current search space, <code>mid = (left + right) // 2</code> (floor division)</li>\n",
    "<li>Check <code>arr[mid]</code>. There are 3 possibilities:<ul>\n",
    "<li>If <code>arr[mid] = x</code>, then the element has been found, return.</li>\n",
    "<li>If <code>arr[mid] &gt; x</code>, then halve the search space by doing <code>right = mid - 1</code>.</li>\n",
    "<li>If <code>arr[mid] &lt; x</code>, then halve the search space by doing <code>left = mid + 1</code>.</li>\n",
    "</ul>\n",
    "</li>\n",
    "</ul>\n",
    "</li>\n",
    "<li>If you get to this point without <code>arr[mid] = x</code>, then the search was unsuccessful. The <code>left</code> pointer will be at the index where <code>x</code> would need to be inserted to maintain <code>arr</code> being sorted.</li>\n",
    "</ol>\n",
    "<hr>\n",
    "\n",
    "<strong><h2>Implementation Template</h2></strong>"
   ]
  },
  {
   "cell_type": "code",
   "execution_count": 11,
   "metadata": {},
   "outputs": [],
   "source": [
    "def binary_search(arr, target):\n",
    "    left = 0\n",
    "    right = len(arr) - 1\n",
    "    while left <= right:\n",
    "        mid = (left + right) // 2\n",
    "        if arr[mid] == target:\n",
    "            # Do something, you reached the middle\n",
    "            return\n",
    "        if arr[mid] > target:\n",
    "            right = mid - 1\n",
    "        else:\n",
    "            left = mid + 1\n",
    "            \n",
    "    # Target is not in the arr, but left is at the insertion point\n",
    "    return left"
   ]
  },
  {
   "cell_type": "markdown",
   "metadata": {},
   "source": [
    "<strong><h2>Duplicate Elements</h2></strong>\n",
    "- When duplicate elements in the input, you can modify the binary search to either grab the `first` or `last` position\n",
    "\n",
    "- Ex: Grab leftmost `target`:"
   ]
  },
  {
   "cell_type": "code",
   "execution_count": 12,
   "metadata": {},
   "outputs": [],
   "source": [
    "def binary_search(arr, target):\n",
    "    left = 0\n",
    "    right = len(arr)\n",
    "    while left < right:\n",
    "        mid = (left + right) // 2\n",
    "        if arr[mid] >= target:\n",
    "            right = mid\n",
    "        else:\n",
    "            left = mid + 1\n",
    "            \n",
    "    return left"
   ]
  },
  {
   "cell_type": "markdown",
   "metadata": {},
   "source": [
    "- Grab the rightmost `target`:"
   ]
  },
  {
   "cell_type": "code",
   "execution_count": 13,
   "metadata": {},
   "outputs": [],
   "source": [
    "def binary_search(arr, target):\n",
    "    left = 0\n",
    "    right = len(arr)\n",
    "    while left < right:\n",
    "        mid = (left + right) // 2\n",
    "        if arr[mid] > target:\n",
    "            right = mid\n",
    "        else:\n",
    "            left = mid + 1\n",
    "            \n",
    "    return left"
   ]
  },
  {
   "cell_type": "markdown",
   "metadata": {},
   "source": [
    "<hr>\n",
    "<u><h2><span style=color:maroon>Examples</span></h2></u>\n",
    "\n",
    "<blockquote>\n",
    "<p>Example 1: <a href=\"https://leetcode.com/problems/binary-search/\" target=\"_blank\">704. Binary Search</a></p>\n",
    "<p>You are given an array of integers <code>nums</code> which is sorted in ascending order, and an integer <code>target</code>. If <code>target</code> exists in <code>nums</code>, return its index. Otherwise, return <code>-1</code>.</p>\n",
    "</blockquote>"
   ]
  },
  {
   "cell_type": "code",
   "execution_count": 14,
   "metadata": {},
   "outputs": [],
   "source": [
    "from typing import List\n",
    "class Solution:\n",
    "    def search(self, nums: List[int], target: int) -> int:\n",
    "        left = 0\n",
    "        right = len(nums) -1\n",
    "        \n",
    "        while left <= right:\n",
    "            mid = (left + right) // 2\n",
    "            num = nums[mid]\n",
    "            \n",
    "            if num == target:\n",
    "                return mid\n",
    "            \n",
    "            if num > target:\n",
    "                right = mid - 1\n",
    "            \n",
    "            if num < target:\n",
    "                left = mid + 1\n",
    "                \n",
    "        return -1"
   ]
  },
  {
   "cell_type": "code",
   "execution_count": 15,
   "metadata": {},
   "outputs": [
    {
     "name": "stdout",
     "output_type": "stream",
     "text": [
      "4\n"
     ]
    }
   ],
   "source": [
    "s = Solution()\n",
    "nums = [-1,0,3,5,9,12]\n",
    "target = 9\n",
    "print(s.search(nums, target))"
   ]
  },
  {
   "cell_type": "markdown",
   "metadata": {},
   "source": [
    "<hr>\n",
    "<blockquote>\n",
    "<p>Example 2: <a href=\"https://leetcode.com/problems/search-a-2d-matrix/\" target=\"_blank\">74. Search a 2D Matrix</a></p>\n",
    "<p>Write an efficient algorithm that searches for a value <code>target</code> in an <code>m x n</code> integer matrix <code>matrix</code>. Integers in each row are sorted from left to right. The first integer of each row is greater than the last integer of the previous row.</p>\n",
    "</blockquote>"
   ]
  },
  {
   "cell_type": "code",
   "execution_count": 16,
   "metadata": {},
   "outputs": [],
   "source": [
    "from typing import List\n",
    "\n",
    "class Solution:\n",
    "    def searchMatrix(self, matrix: List[List[int]], target: int) -> bool:\n",
    "        breakpoint()\n",
    "        m, n = len(matrix), len(matrix[0])\n",
    "        left, right = 0, m * n - 1\n",
    "        \n",
    "        while left <= right:\n",
    "            mid = (left + right) // 2\n",
    "            row = mid // n\n",
    "            col = mid % n\n",
    "            num = matrix[row][col]\n",
    "            \n",
    "            if num == target:\n",
    "                return True\n",
    "            \n",
    "            if num < target:\n",
    "                left = mid + 1\n",
    "                \n",
    "            else:\n",
    "                right = mid - 1\n",
    "        return False"
   ]
  },
  {
   "cell_type": "code",
   "execution_count": 17,
   "metadata": {},
   "outputs": [
    {
     "name": "stdout",
     "output_type": "stream",
     "text": [
      "False\n"
     ]
    }
   ],
   "source": [
    "s = Solution()\n",
    "matrix = [[1]]\n",
    "target = 0\n",
    "print(s.searchMatrix(matrix, target))"
   ]
  },
  {
   "cell_type": "markdown",
   "metadata": {},
   "source": [
    "<hr>\n",
    "<blockquote>\n",
    "<p>Example 3: <a href=\"https://leetcode.com/problems/successful-pairs-of-spells-and-potions/\" target=\"_blank\">2300. Successful Pairs of Spells and Potions</a></p>\n",
    "<p>You are given two positive integer arrays <code>spells</code> and <code>potions</code>, where <code>spells[i]</code> represents the strength of the <span class=\"maths katex-rendered\"><span class=\"katex\"><span class=\"katex-mathml\"><math><semantics><mrow><msup><mi>i</mi><mrow><mi>t</mi><mi>h</mi></mrow></msup></mrow><annotation encoding=\"application/x-tex\">i^{th}</annotation></semantics></math></span><span class=\"katex-html\" aria-hidden=\"true\"><span class=\"base\"><span class=\"strut\" style=\"height: 0.849108em; vertical-align: 0em;\"></span><span class=\"mord\"><span class=\"mord mathdefault\">i</span><span class=\"msupsub\"><span class=\"vlist-t\"><span class=\"vlist-r\"><span class=\"vlist\" style=\"height: 0.849108em;\"><span class=\"\" style=\"top: -3.063em; margin-right: 0.05em;\"><span class=\"pstrut\" style=\"height: 2.7em;\"></span><span class=\"sizing reset-size6 size3 mtight\"><span class=\"mord mtight\"><span class=\"mord mathdefault mtight\">t</span><span class=\"mord mathdefault mtight\">h</span></span></span></span></span></span></span></span></span></span></span></span></span> spell and <code>potions[j]</code> represents the strength of the <span class=\"maths katex-rendered\"><span class=\"katex\"><span class=\"katex-mathml\"><math><semantics><mrow><msup><mi>j</mi><mrow><mi>t</mi><mi>h</mi></mrow></msup></mrow><annotation encoding=\"application/x-tex\">j^{th}</annotation></semantics></math></span><span class=\"katex-html\" aria-hidden=\"true\"><span class=\"base\"><span class=\"strut\" style=\"height: 1.04355em; vertical-align: -0.19444em;\"></span><span class=\"mord\"><span class=\"mord mathdefault\" style=\"margin-right: 0.05724em;\">j</span><span class=\"msupsub\"><span class=\"vlist-t\"><span class=\"vlist-r\"><span class=\"vlist\" style=\"height: 0.849108em;\"><span class=\"\" style=\"top: -3.063em; margin-right: 0.05em;\"><span class=\"pstrut\" style=\"height: 2.7em;\"></span><span class=\"sizing reset-size6 size3 mtight\"><span class=\"mord mtight\"><span class=\"mord mathdefault mtight\">t</span><span class=\"mord mathdefault mtight\">h</span></span></span></span></span></span></span></span></span></span></span></span></span> potion. You are also given an integer <code>success</code>. A spell and potion pair is considered successful if the product of their strengths is at least <code>success</code>. For each spell, find how many potions it can pair with to be successful. Return an integer array where the <span class=\"maths katex-rendered\"><span class=\"katex\"><span class=\"katex-mathml\"><math><semantics><mrow><msup><mi>i</mi><mrow><mi>t</mi><mi>h</mi></mrow></msup></mrow><annotation encoding=\"application/x-tex\">i^{th}</annotation></semantics></math></span><span class=\"katex-html\" aria-hidden=\"true\"><span class=\"base\"><span class=\"strut\" style=\"height: 0.849108em; vertical-align: 0em;\"></span><span class=\"mord\"><span class=\"mord mathdefault\">i</span><span class=\"msupsub\"><span class=\"vlist-t\"><span class=\"vlist-r\"><span class=\"vlist\" style=\"height: 0.849108em;\"><span class=\"\" style=\"top: -3.063em; margin-right: 0.05em;\"><span class=\"pstrut\" style=\"height: 2.7em;\"></span><span class=\"sizing reset-size6 size3 mtight\"><span class=\"mord mtight\"><span class=\"mord mathdefault mtight\">t</span><span class=\"mord mathdefault mtight\">h</span></span></span></span></span></span></span></span></span></span></span></span></span> element is the answer for the <span class=\"maths katex-rendered\"><span class=\"katex\"><span class=\"katex-mathml\"><math><semantics><mrow><msup><mi>i</mi><mrow><mi>t</mi><mi>h</mi></mrow></msup></mrow><annotation encoding=\"application/x-tex\">i^{th}</annotation></semantics></math></span><span class=\"katex-html\" aria-hidden=\"true\"><span class=\"base\"><span class=\"strut\" style=\"height: 0.849108em; vertical-align: 0em;\"></span><span class=\"mord\"><span class=\"mord mathdefault\">i</span><span class=\"msupsub\"><span class=\"vlist-t\"><span class=\"vlist-r\"><span class=\"vlist\" style=\"height: 0.849108em;\"><span class=\"\" style=\"top: -3.063em; margin-right: 0.05em;\"><span class=\"pstrut\" style=\"height: 2.7em;\"></span><span class=\"sizing reset-size6 size3 mtight\"><span class=\"mord mtight\"><span class=\"mord mathdefault mtight\">t</span><span class=\"mord mathdefault mtight\">h</span></span></span></span></span></span></span></span></span></span></span></span></span> spell.</p>\n",
    "</blockquote>"
   ]
  },
  {
   "cell_type": "code",
   "execution_count": 18,
   "metadata": {},
   "outputs": [],
   "source": [
    "from typing import List\n",
    "\n",
    "class Solution:\n",
    "    def successfulPairs(self, spells: List[int], potions: List[int], success: int) -> List[int]:\n",
    "        def binary_search(arr, target):\n",
    "            breakpoint()\n",
    "            left = 0\n",
    "            right = len(arr)\n",
    "            while left < right:\n",
    "                mid = (left + right) // 2\n",
    "                if arr[mid] >= target:\n",
    "                    right = mid\n",
    "                else:\n",
    "                    left = mid + 1\n",
    "            \n",
    "            return left\n",
    "        breakpoint()\n",
    "        potions.sort()\n",
    "        ans = []\n",
    "        m = len(potions)\n",
    "        \n",
    "        for spell in spells:\n",
    "            i = binary_search(potions, success / spell)\n",
    "            ans.append(m - i)\n",
    "        return ans"
   ]
  },
  {
   "cell_type": "code",
   "execution_count": 19,
   "metadata": {},
   "outputs": [
    {
     "name": "stdout",
     "output_type": "stream",
     "text": [
      "[4, 0, 3]\n"
     ]
    }
   ],
   "source": [
    "s = Solution()\n",
    "spells = [5,1,3]\n",
    "potions = [1,2,3,4,5]\n",
    "success = 7\n",
    "print(s.successfulPairs(spells, potions, success))"
   ]
  }
 ],
 "metadata": {
  "kernelspec": {
   "display_name": "Python 3",
   "language": "python",
   "name": "python3"
  },
  "language_info": {
   "codemirror_mode": {
    "name": "ipython",
    "version": 3
   },
   "file_extension": ".py",
   "mimetype": "text/x-python",
   "name": "python",
   "nbconvert_exporter": "python",
   "pygments_lexer": "ipython3",
   "version": "3.13.3"
  }
 },
 "nbformat": 4,
 "nbformat_minor": 2
}
