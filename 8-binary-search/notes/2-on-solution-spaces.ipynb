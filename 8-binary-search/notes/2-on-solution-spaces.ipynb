{
 "cells": [
  {
   "cell_type": "markdown",
   "metadata": {},
   "source": [
    "<u><h2><span style=color:Indigo>On solution spaces</span></h2></u>\n",
    "<hr>\n",
    "<p>There is a more creative way to use binary search - on a solution space/answer. A very common type of problem is \"what is the max/min that something can be done\". Binary search can be used if the following criteria are met:</p>\n",
    "<ol>\n",
    "<li>You can quickly (in <span class=\"maths katex-rendered\"><span class=\"katex\"><span class=\"katex-mathml\"><math><semantics><mrow><mi>O</mi><mo>(</mo><mi>n</mi><mo>)</mo></mrow><annotation encoding=\"application/x-tex\">O(n)</annotation></semantics></math></span><span class=\"katex-html\" aria-hidden=\"true\"><span class=\"base\"><span class=\"strut\" style=\"height: 1em; vertical-align: -0.25em;\"></span><span class=\"mord mathdefault\" style=\"margin-right: 0.02778em;\">O</span><span class=\"mopen\">(</span><span class=\"mord mathdefault\">n</span><span class=\"mclose\">)</span></span></span></span></span> or better) verify if the task is possible for a given number <code>x</code>.</li>\n",
    "<li>If the task is possible for a number <code>x</code>, and you are looking for:<ul>\n",
    "<li>A maximum, then it is also possible for all numbers less than <code>x</code>.</li>\n",
    "<li>A minimum, then it is also possible for all numbers greater than <code>x</code>.</li>\n",
    "</ul>\n",
    "</li>\n",
    "<li>If the task is not possible for a number <code>x</code>, and you are looking for:<ul>\n",
    "<li>A maximum, then it is also impossible for all numbers greater than <code>x</code>.</li>\n",
    "<li>A minimum, then it is also impossible for all numbers less than <code>x</code>.</li>\n",
    "</ul>\n",
    "</li>\n",
    "</ol>\n",
    "\n",
    "<u><h4><span style=color:red>When a problem wants you to find the `min/max`, it wants you to find the threshold where the task transitions from `impossible to possible`</span></h4></u>"
   ]
  },
  {
   "cell_type": "markdown",
   "metadata": {},
   "source": [
    "<h3><span style = color:red>Steps:</span></h3>\n",
    "\n",
    "1) Establish the possible solution space by identifying the `minimum` possible answer and the `maximum` possible answer\n",
    "2) Run a binary search on this solution space. For each `mid`, → perform a check to see if the task is possible\n",
    "    - Result HALVES the search-space\n",
    "3) Find the threshold\n",
    "4) Write a function called `check` that:\n",
    "    - Takes an integer\n",
    "    - Checks if the task is possible for that integer\n",
    "    - <span style=color:red>Usually, the algorithm using this function will be <strong>GREEDY</strong></span>"
   ]
  },
  {
   "cell_type": "markdown",
   "metadata": {},
   "source": [
    "<blockquote>\n",
    "<p>Example 1: <a href=\"https://leetcode.com/problems/koko-eating-bananas\" target=\"_blank\">875. Koko Eating Bananas</a></p>\n",
    "<p>Koko loves to eat bananas. There are <code>n</code> piles of bananas, the <span class=\"maths katex-rendered\"><span class=\"katex\"><span class=\"katex-mathml\"><math><semantics><mrow><msup><mi>i</mi><mrow><mi>t</mi><mi>h</mi></mrow></msup></mrow><annotation encoding=\"application/x-tex\">i^{th}</annotation></semantics></math></span><span class=\"katex-html\" aria-hidden=\"true\"><span class=\"base\"><span class=\"strut\" style=\"height: 0.849108em; vertical-align: 0em;\"></span><span class=\"mord\"><span class=\"mord mathdefault\">i</span><span class=\"msupsub\"><span class=\"vlist-t\"><span class=\"vlist-r\"><span class=\"vlist\" style=\"height: 0.849108em;\"><span class=\"\" style=\"top: -3.063em; margin-right: 0.05em;\"><span class=\"pstrut\" style=\"height: 2.7em;\"></span><span class=\"sizing reset-size6 size3 mtight\"><span class=\"mord mtight\"><span class=\"mord mathdefault mtight\">t</span><span class=\"mord mathdefault mtight\">h</span></span></span></span></span></span></span></span></span></span></span></span></span> pile has <code>piles[i]</code> bananas. Koko can decide her bananas-per-hour eating speed of <code>k</code>. Each hour, she chooses a pile and eats <code>k</code> bananas from that pile. If the pile has less than <code>k</code> bananas, she eats all of them and will not eat any more bananas during the hour. Return the minimum integer <code>k</code> such that she can eat all the bananas within <code>h</code> hours.</p>\n",
    "</blockquote>"
   ]
  },
  {
   "cell_type": "code",
   "execution_count": 13,
   "metadata": {},
   "outputs": [],
   "source": [
    "from typing import List\n",
    "import math\n",
    "\n",
    "class Solution:\n",
    "    def minEatingSpeed(self, piles: List[int], h: int) -> int:\n",
    "        def check(k):\n",
    "            breakpoint()\n",
    "            hours = 0\n",
    "            for bananas in piles:\n",
    "                hours += math.ceil(bananas/k)\n",
    "                \n",
    "            return hours <= h\n",
    "        \n",
    "        breakpoint()\n",
    "        left = 1            # Cannot eat less than 1 banana per hour\n",
    "        right = max(piles)\n",
    "        while left <= right:\n",
    "            mid = (left + right) //2\n",
    "            if check(mid):\n",
    "                right = mid -1\n",
    "            else:\n",
    "                left = mid +1\n",
    "                \n",
    "        return left"
   ]
  },
  {
   "cell_type": "markdown",
   "metadata": {},
   "source": [
    "<hr>\n",
    "<span style=color:lightblue>Optimized:</span>\n",
    "<hr>"
   ]
  },
  {
   "cell_type": "code",
   "execution_count": 5,
   "metadata": {},
   "outputs": [],
   "source": [
    "from math import ceil\n",
    "class Solution:\n",
    "    def minEatingSpeed(self, piles: List[int], h: int) -> int:\n",
    "        l,r = 1,max(piles)\n",
    "        while l<=r:\n",
    "            mid = (l+r)//2\n",
    "            if sum([ceil(pile/mid) for pile in piles]) <= h:\n",
    "                r = mid - 1\n",
    "            else:\n",
    "                l = mid + 1\n",
    "        return l"
   ]
  },
  {
   "cell_type": "code",
   "execution_count": 15,
   "metadata": {},
   "outputs": [
    {
     "name": "stdout",
     "output_type": "stream",
     "text": [
      "4\n"
     ]
    }
   ],
   "source": [
    "s = Solution()\n",
    "piles = [3,6,7,11]\n",
    "h = 8\n",
    "print(s.minEatingSpeed(piles, h))"
   ]
  },
  {
   "cell_type": "markdown",
   "metadata": {},
   "source": [
    "<blockquote>\n",
    "<p>Example 2: <a href=\"https://leetcode.com/problems/path-with-minimum-effort/\" target=\"_blank\">1631. Path With Minimum Effort</a></p>\n",
    "<p>You are given <code>heights</code>, a positive 2D array of size <code>m x n</code>, where <code>heights[row][col]</code> represents the height of cell <code>(row, col)</code>. You can move up, down, left, or right. A path's effort is the largest absolute difference you can have between any two consecutive cells traversed. Return the minimum effort required to get from the top left to the bottom right.</p>\n",
    "</blockquote>\n",
    "<p><strong class=\"example\">Example 1:</strong></p>\n",
    "<p><img alt=\"\" src=\"https://assets.leetcode.com/uploads/2020/10/04/ex1.png\" style=\"width: 300px; height: 300px;\"></p>\n",
    "<pre><strong>Input:</strong> heights = [[1,2,2],[3,8,2],[5,3,5]]\n",
    "<strong>Output:</strong> 2\n",
    "<strong>Explanation:</strong> The route of [1,3,5,3,5] has a maximum absolute difference of 2 in consecutive cells.\n",
    "This is better than the route of [1,2,2,2,5], where the maximum absolute difference is 3.\n",
    "</pre>"
   ]
  },
  {
   "cell_type": "markdown",
   "metadata": {},
   "source": [
    "<h3><u><span style=color:red>Steps:</span></u></h3>\n",
    "\n",
    "- *Note:* If the journey cannot be made with `effort` (smaller than the largest difference) → Impossible to do with `0 <= X <= effort`\n",
    "\n",
    "1) Do a simple `DFS` starting at point `(0,0)`\n",
    "    - The edges are the 4-traversable directions\n",
    "2) An edge is only traversable if (`curr_node` - `next_node` <= `effort`)\n",
    "3) Define the **minimum** at `effort = 0`\n",
    "    - All nodes are the same\n",
    "4) Define the **maximum** at `effort=max(heights)`"
   ]
  },
  {
   "cell_type": "code",
   "execution_count": 6,
   "metadata": {},
   "outputs": [],
   "source": [
    "class Solution:\n",
    "    def minimumEffortPath(self, heights: List[List[int]]) -> int:        \n",
    "        def valid(row, col):\n",
    "            return 0 <= row < m and 0 <= col < n\n",
    "        \n",
    "        def check(effort):\n",
    "            \"\"\"\n",
    "            DFS to Check if a path is possible granted a specified effort-value\n",
    "            \"\"\"\n",
    "            directions = [(0,1), (1,0), (0, -1), (-1, 0)]\n",
    "            seen = {(0, 0)}\n",
    "            stack = [(0, 0)]\n",
    "            \n",
    "            while stack:\n",
    "                row, col = stack.pop()\n",
    "                if (row, col) == (m-1, n-1): # We CAN traverse the matrix given this effort-level\n",
    "                    return True\n",
    "                \n",
    "                for dx, dy in directions:    # Otherwise, traverse to the nearest neighbor\n",
    "                    next_row, next_col = row + dy, col + dx\n",
    "                    if valid(next_row, next_col) and (next_row, next_col) not in seen:          # If neighbor is unvisited\n",
    "                        if abs(heights[next_row][next_col] - heights[row][col]) <= effort:      # If neighbor isn't too much effort\n",
    "                            seen.add((next_row, next_col))\n",
    "                            stack.append((next_row, next_col))\n",
    "                            \n",
    "            return False\n",
    "        m = len(heights)\n",
    "        n = len(heights[0])        \n",
    "        left = 0\n",
    "        right = max(max(row) for row in heights)\n",
    "        \n",
    "        # Run the binary search\n",
    "        while left <= right:\n",
    "            mid = (left + right) // 2\n",
    "            if check(mid): # If it is possible to traverse, gotta check if there is a better possible answer\n",
    "                right = mid -1\n",
    "            else:          # Not possible, see if it is possible with a larger-effort \n",
    "                left = mid+1\n",
    "                \n",
    "        return left # Returning left because LEFT will be the smallest-possible-effort level at the end of the function\n"
   ]
  },
  {
   "cell_type": "code",
   "execution_count": 7,
   "metadata": {},
   "outputs": [
    {
     "name": "stdout",
     "output_type": "stream",
     "text": [
      "2\n"
     ]
    }
   ],
   "source": [
    "s = Solution()\n",
    "heights = [[1,2,2],\n",
    "           [3,8,2],\n",
    "           [5,3,5]]\n",
    "print(s.minimumEffortPath(heights))"
   ]
  },
  {
   "cell_type": "markdown",
   "metadata": {},
   "source": [
    "<blockquote>\n",
    "<p>Example 3: <a href=\"https://leetcode.com/problems/minimum-speed-to-arrive-on-time/\" target=\"_blank\">1870. Minimum Speed to Arrive on Time</a></p>\n",
    "<p>You are given a float <code>hour</code>, representing the amount of time you have to reach the office. To commute to the office, you must take <code>n</code> trains in sequential order. You are also given an integer array <code>dist</code>, where <code>dist[i]</code> describes the distance of the <span class=\"maths katex-rendered\"><span class=\"katex\"><span class=\"katex-mathml\"><math><semantics><mrow><msup><mi>i</mi><mrow><mi>t</mi><mi>h</mi></mrow></msup></mrow><annotation encoding=\"application/x-tex\">i^{th}</annotation></semantics></math></span><span class=\"katex-html\" aria-hidden=\"true\"><span class=\"base\"><span class=\"strut\" style=\"height: 0.849108em; vertical-align: 0em;\"></span><span class=\"mord\"><span class=\"mord mathdefault\">i</span><span class=\"msupsub\"><span class=\"vlist-t\"><span class=\"vlist-r\"><span class=\"vlist\" style=\"height: 0.849108em;\"><span class=\"\" style=\"top: -3.063em; margin-right: 0.05em;\"><span class=\"pstrut\" style=\"height: 2.7em;\"></span><span class=\"sizing reset-size6 size3 mtight\"><span class=\"mord mtight\"><span class=\"mord mathdefault mtight\">t</span><span class=\"mord mathdefault mtight\">h</span></span></span></span></span></span></span></span></span></span></span></span></span> train ride. Each train can only depart at an integer hour, so you may need to wait in between each train ride.</p>\n",
    "<p>For example, if the 1st train ride takes 1.5 hours, you must wait for an additional 0.5 hours before you can depart on the 2nd train ride at the 2-hour mark. Return the minimum positive integer speed that all the trains must travel at for you to reach the office on time, or <code>-1</code> if it is impossible to be on time. The answer will not exceed <span class=\"maths katex-rendered\"><span class=\"katex\"><span class=\"katex-mathml\"><math><semantics><mrow><mn>1</mn><msup><mn>0</mn><mn>7</mn></msup></mrow><annotation encoding=\"application/x-tex\">10^7</annotation></semantics></math></span><span class=\"katex-html\" aria-hidden=\"true\"><span class=\"base\"><span class=\"strut\" style=\"height: 0.814108em; vertical-align: 0em;\"></span><span class=\"mord\">1</span><span class=\"mord\"><span class=\"mord\">0</span><span class=\"msupsub\"><span class=\"vlist-t\"><span class=\"vlist-r\"><span class=\"vlist\" style=\"height: 0.814108em;\"><span class=\"\" style=\"top: -3.063em; margin-right: 0.05em;\"><span class=\"pstrut\" style=\"height: 2.7em;\"></span><span class=\"sizing reset-size6 size3 mtight\"><span class=\"mord mtight\">7</span></span></span></span></span></span></span></span></span></span></span></span>.</p>\n",
    "</blockquote>"
   ]
  },
  {
   "cell_type": "code",
   "execution_count": 16,
   "metadata": {},
   "outputs": [],
   "source": [
    "from typing import List\n",
    "from math import ceil\n",
    "\n",
    "class Solution:\n",
    "    def minSpeedOnTime(self, dist: List[int], hour: float) -> int:\n",
    "        breakpoint()\n",
    "        if len(dist) > ceil(hour):\n",
    "            return -1\n",
    "        \n",
    "        def check(k):\n",
    "            breakpoint()\n",
    "            t = 0\n",
    "            for d in dist:\n",
    "                t = ceil(t)\n",
    "                t += d / k\n",
    "            return t <= hour\n",
    "        \n",
    "        left = 1\n",
    "        right = 10 ** 7\n",
    "        while left <= right:\n",
    "            mid = (left + right) // 2\n",
    "            if check(mid):\n",
    "                right = mid - 1\n",
    "            else:\n",
    "                left = mid + 1\n",
    "                \n",
    "        return left"
   ]
  },
  {
   "cell_type": "code",
   "execution_count": 17,
   "metadata": {},
   "outputs": [
    {
     "name": "stdout",
     "output_type": "stream",
     "text": [
      "1\n"
     ]
    }
   ],
   "source": [
    "s = Solution()\n",
    "dist = [1,3,2]\n",
    "hour = 6\n",
    "print(s.minSpeedOnTime(dist, hour))"
   ]
  }
 ],
 "metadata": {
  "kernelspec": {
   "display_name": "Python 3",
   "language": "python",
   "name": "python3"
  },
  "language_info": {
   "codemirror_mode": {
    "name": "ipython",
    "version": 3
   },
   "file_extension": ".py",
   "mimetype": "text/x-python",
   "name": "python",
   "nbconvert_exporter": "python",
   "pygments_lexer": "ipython3",
   "version": "3.13.3"
  }
 },
 "nbformat": 4,
 "nbformat_minor": 2
}
