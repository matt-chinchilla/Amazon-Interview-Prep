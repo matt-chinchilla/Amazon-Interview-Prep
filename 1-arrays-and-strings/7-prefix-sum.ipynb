{
 "cells": [
  {
   "cell_type": "markdown",
   "metadata": {},
   "source": [
    "- **prefix sum** → basically just the fibonacci sequence, but with a given array\n",
    "    - Ex: `nums = [5, 2, 1, 6, 3, 8]`, the prefix would be `prefix = [5, 7, 8, 14, 17, 25]`\n",
    "\n",
    "- Sum of a subarray `i` to `j` (inclusive) is `prefix[j] - prefix[i - 1]` ( left <--> i <--> j <--> right)+\n",
    "\n",
    "- Costs *O(n)* to build, but future subarray queries are *O(1)*\n",
    "\n",
    "- Is technically a form of **pre-rpcoessing**\n",
    "    - `pre-processing` → <u>storing pre-computed data in a data structure before running the main logic of an algorithm. It is done to save a large amount of time during the \"main parts\" of the algorithm</u>\n",
    "\n",
    "#### 1) <u>Given an integer array `nums`, an array `queries` where `queries[i] = [x, y]` and an integer `limit`, return a boolean array that represents the answer to each query. A query is `true` if the sum of the subarray from `x` to `y` is less than `limit`, or `false` otherwise.</u>\n",
    "\n",
    "<p>For example, given <code>nums = [1, 6, 3, 2, 7, 2]</code>, <code>queries = [[0, 3], [2, 5], [2, 4]]</code>, and <code>limit = 13</code>, the answer is <code>[true, false, true]</code>. For each query, the subarray sums are <code>[12, 14, 12]</code>.</p>"
   ]
  },
  {
   "cell_type": "code",
   "execution_count": 1,
   "metadata": {},
   "outputs": [],
   "source": [
    "from typing import List\n",
    "\n",
    "def answer_queries(nums: List[int], queries: List[any], limit: int) -> List[bool]:\n",
    "    prefix = [nums[0]]\n",
    "    for i in range(1,len(nums)):\n",
    "        prefix.append(nums[i] + prefix[-1]) # Make the next element the sum of the previous & the value in nums[]\n",
    "    \n",
    "    ans = []\n",
    "    for x, y in queries:\n",
    "        curr = prefix[y] - prefix[x] + nums[x]\n",
    "        ans.append(curr < limit)                # If the sum of the subarray is less than limit, append True, else append False\n",
    "        \n",
    "    return ans"
   ]
  },
  {
   "cell_type": "code",
   "execution_count": 2,
   "metadata": {},
   "outputs": [
    {
     "data": {
      "text/plain": [
       "[True, False, True]"
      ]
     },
     "execution_count": 2,
     "metadata": {},
     "output_type": "execute_result"
    }
   ],
   "source": [
    "nums = [1, 6, 3, 2, 7, 2]\n",
    "queries = [[0, 3], [2, 5], [2, 4]]\n",
    "limit = 13\n",
    "\n",
    "answer_queries(nums, queries, limit)"
   ]
  },
  {
   "cell_type": "markdown",
   "metadata": {},
   "source": [
    "#### 2) <u>Given an integer array `nums`, find the number of ways to split the array into two parts so that the first section has a sum greater-than or equal-to the sum of the second section. The second section should have **at least** one number</u>"
   ]
  },
  {
   "cell_type": "code",
   "execution_count": 3,
   "metadata": {},
   "outputs": [],
   "source": [
    "class Solution:\n",
    "    def waysToSplitArray(self, nums: List[int]) -> int:\n",
    "        # Make the prefix array\n",
    "        n = len(nums)\n",
    "        \n",
    "        prefix: List[int] = [nums[0]]\n",
    "        \n",
    "        for i in range(n):\n",
    "            prefix.append(nums[i] + prefix[-1])\n",
    "            \n",
    "        # Testing logic\n",
    "        ans = 0\n",
    "        for i in range(n - 1):\n",
    "            left_array = prefix[i]\n",
    "            right_array = prefix[-1] - prefix[i]\n",
    "            if left_array >= right_array:\n",
    "                ans += 1\n",
    "                \n",
    "        return ans"
   ]
  },
  {
   "cell_type": "markdown",
   "metadata": {},
   "source": [
    "- ***Doing the exact same thing, But without the array in order to improve the spatial complexity to O(1)***\n",
    "    - Done by calculating `leftSection` on the fly & `rightSection` as `total - leftSection`"
   ]
  },
  {
   "cell_type": "code",
   "execution_count": 4,
   "metadata": {},
   "outputs": [],
   "source": [
    "class Solution:\n",
    "    def waysToSplitArray(self, nums: List[int]) -> int:\n",
    "        ans = left_section = 0\n",
    "        total = sum(nums)\n",
    "\n",
    "        for i in range(len(nums) - 1):\n",
    "            left_section += nums[i]\n",
    "            right_section = total - left_section\n",
    "            if left_section >= right_section:\n",
    "                ans += 1\n",
    "\n",
    "        return ans"
   ]
  }
 ],
 "metadata": {
  "kernelspec": {
   "display_name": "Python 3",
   "language": "python",
   "name": "python3"
  },
  "language_info": {
   "codemirror_mode": {
    "name": "ipython",
    "version": 3
   },
   "file_extension": ".py",
   "mimetype": "text/x-python",
   "name": "python",
   "nbconvert_exporter": "python",
   "pygments_lexer": "ipython3",
   "version": "3.13.3"
  }
 },
 "nbformat": 4,
 "nbformat_minor": 2
}
