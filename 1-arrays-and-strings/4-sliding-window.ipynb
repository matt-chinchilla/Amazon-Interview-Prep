{
 "cells": [
  {
   "cell_type": "markdown",
   "metadata": {},
   "source": [
    "- Another common approach to arrays (implements two pointers)\n",
    "\n",
    "- **subarrays**\n",
    "- Ex: For array `[1, 2, 3, 4]`, the subarrays (by length) are:\n",
    "    - Subarrays with length 1: `[1], [2], [3], [4]`\n",
    "    - Subarrays with length 2: `[1,2], [2,3], [3,4]`\n",
    "    - Subarrays with length 3: `[1,2,3], [2,3,4]`\n",
    "    - Subarrays with length 4: `[1,2,3,4]`\n",
    "\n",
    "- **<u>Window</u>** → the `start` and `end` indices of a **subarray**\n",
    "- Ex: The array `[1, 2, 3, 4]` with subarray `[2, 3]`\n",
    "    - Subarray has starting index of `1` and ending index of `2`\n",
    "    - The start is the **left bound** and the end is the **right bound**\n",
    "\n",
    "- Problems will frequently ask me about **\"Valid\" subarrays** which are defined by:\n",
    "    - a **constraint metric** (ex: sum of the subarray, # unique elements, frequency of an element)\n",
    "    - A **numeric restriction** on the constraint metric || The literal numerical value\n",
    "\n",
    "#### **The Idea**\n",
    "- Whenever I see a problem that not only describes subarrays as being \"valid\", but also asks me to find these subarrays, I should immediatley think about ***sliding windows*** \n",
    "- Example problems:\n",
    "    - Find the longest subarray with a sum less than or equal to `k` (constraint metric = sum)\n",
    "    - Find the longest substring that has at most one `\"0\"` (constraint metric = number of zeroes)\n",
    "    - Find the number of subarrays that have a product less than `k` (constraint metric = product)"
   ]
  },
  {
   "cell_type": "markdown",
   "metadata": {},
   "source": [
    "#### 1) <u>Given an array of positive integers `nums` and an integer `k`, find the length of the longest subarray whose sum is less-tahn or equal-to `k`<u>\n",
    "- Lets say k == 8 here\n",
    "- Also, we want integer `curr` to maintain `curr <= k|8`"
   ]
  },
  {
   "cell_type": "code",
   "execution_count": 2,
   "metadata": {},
   "outputs": [],
   "source": [
    "from typing import List\n",
    "\n",
    "def find_length(nums: List[int], k: int) -> int:\n",
    "    left = curr = ans = 0\n",
    "    \n",
    "    for right in range(len(nums)):\n",
    "        curr += nums[right]\n",
    "        while curr > k:\n",
    "            curr -= nums[left]\n",
    "            left += 1\n",
    "        ans = max(ans, right - left + 1) # +1 is because right - left is indexes, not the raw-vals\n",
    "        \n",
    "    return ans"
   ]
  },
  {
   "cell_type": "markdown",
   "metadata": {},
   "source": [
    "#### 2) <u>You are given a binary string `s` (a string containing only `0` and `1`). You may choose up to one `0` and flip it to a `1`. What is the length of the longest substring achievable that contains only `1`?</u>\n",
    "- Aka \"***what is the logest substring that can have at-most a singular 0 @ one of its bounds?\"**\n",
    "    - Has the condition of `window.count(\"0\") <= 1`"
   ]
  },
  {
   "cell_type": "code",
   "execution_count": 19,
   "metadata": {},
   "outputs": [],
   "source": [
    "def find_length(s: List[int], k: int) -> int:\n",
    "    left = curr = ans = 0\n",
    "    \n",
    "    for right in range(len(s)):\n",
    "        if s[right] == \"0\":\n",
    "            curr += 1\n",
    "        while curr > k:\n",
    "            if s[left] == \"0\":\n",
    "                curr -= 1\n",
    "            left += 1\n",
    "        ans = max(ans, right - left + 1)\n",
    "        \n",
    "    return ans"
   ]
  },
  {
   "cell_type": "code",
   "execution_count": 25,
   "metadata": {},
   "outputs": [
    {
     "data": {
      "text/plain": [
       "10"
      ]
     },
     "execution_count": 25,
     "metadata": {},
     "output_type": "execute_result"
    }
   ],
   "source": [
    "s = \"1101100111\"\n",
    "d = list(s)\n",
    "\n",
    "find_length([1,1,0,1,1,0,0,1,1,1],2)\n",
    "# print(s)"
   ]
  },
  {
   "cell_type": "markdown",
   "metadata": {},
   "source": [
    "#### 3) <u>Given an array of positive integers `nums` and an integer `k`, return the number of subarrays where the product of all the elements in the subarray is strictly less than `k`</u>\n",
    "- For example, given the input `nums = [10, 5, 2, 6], k = 100`, the answer is `8`. The subarrays with products less than `k` are:\n",
    "    - `[10], [5], [2], [6], [10, 5], [5, 2], [2, 6], [5, 2, 6]`"
   ]
  },
  {
   "cell_type": "code",
   "execution_count": 14,
   "metadata": {},
   "outputs": [],
   "source": [
    "class Solution:\n",
    "    def numSubarrayProductLessThanK(self, nums: List[int], k: int) -> int:\n",
    "        if k <= 1:\n",
    "            return 0\n",
    "    \n",
    "        ans = left = 0\n",
    "        curr = 1\n",
    "        \n",
    "        for right in range(len(nums)):              # for each iteration that ends at the \"right\"\n",
    "            curr *= nums[right]             # Test to see if the product is valid\n",
    "            while curr >= k:                # if not, we need to move the left pointer\n",
    "                curr //= nums[left]         # reduce the product by removing the leftmost element    \n",
    "                left += 1                   # Adjust window\n",
    "            \n",
    "            ans += right - left + 1\n",
    "        \n",
    "        return ans"
   ]
  },
  {
   "cell_type": "code",
   "execution_count": 15,
   "metadata": {},
   "outputs": [
    {
     "name": "stdout",
     "output_type": "stream",
     "text": [
      "→ right=0, left=0, curr=10\n",
      "→ right=1, left=0, curr=50\n",
      "→ right=2, left=0, curr=100\n",
      "↳ right=2, left=1, curr=10\n",
      "→ right=3, left=1, curr=60\n"
     ]
    },
    {
     "data": {
      "text/plain": [
       "8"
      ]
     },
     "execution_count": 15,
     "metadata": {},
     "output_type": "execute_result"
    }
   ],
   "source": [
    "sol = Solution()\n",
    "nums = [10, 5, 2, 6]\n",
    "sol.numSubarrayProductLessThanK(nums, 100)"
   ]
  },
  {
   "cell_type": "markdown",
   "metadata": {},
   "source": [
    "- **fixed window size** → Doesn't scale up and down, really nice because we just increase one to the right and remove an element on the left\n",
    "\n",
    "#### 4) <u>Given an integer array `nums` and an integer `k`, find the sum of the subarray with the largest sum whose length is `k`</u>\n",
    "- Build a window of length `k`\n",
    "- Slide it along the array\n",
    "- Add and remove one element at a time to make sure it stays size `k`\n",
    "- If adding value at `i` ⇒ remove the value at `i - k`\n",
    "- After building first window, initialize our answer to `curr` to consider the first window's sum"
   ]
  },
  {
   "cell_type": "code",
   "execution_count": 17,
   "metadata": {},
   "outputs": [],
   "source": [
    "def find_best_subarray(nums: List[int], k: int) -> List[int]:\n",
    "    curr: int = 0\n",
    "    for i in range(k):\n",
    "        curr += nums[i]\n",
    "        \n",
    "    ans = curr\n",
    "    for i in range(k, len(nums)):\n",
    "        curr += nums[i] - nums[i-k]\n",
    "        ans = max(ans, curr)\n",
    "        \n",
    "    return ans"
   ]
  },
  {
   "cell_type": "code",
   "execution_count": 18,
   "metadata": {},
   "outputs": [
    {
     "data": {
      "text/plain": [
       "18"
      ]
     },
     "execution_count": 18,
     "metadata": {},
     "output_type": "execute_result"
    }
   ],
   "source": [
    "\n",
    "find_best_subarray([3, -1, 4, 12, -8, 5, 6], 4)\n"
   ]
  }
 ],
 "metadata": {
  "kernelspec": {
   "display_name": "Python 3",
   "language": "python",
   "name": "python3"
  },
  "language_info": {
   "codemirror_mode": {
    "name": "ipython",
    "version": 3
   },
   "file_extension": ".py",
   "mimetype": "text/x-python",
   "name": "python",
   "nbconvert_exporter": "python",
   "pygments_lexer": "ipython3",
   "version": "3.13.3"
  }
 },
 "nbformat": 4,
 "nbformat_minor": 2
}
