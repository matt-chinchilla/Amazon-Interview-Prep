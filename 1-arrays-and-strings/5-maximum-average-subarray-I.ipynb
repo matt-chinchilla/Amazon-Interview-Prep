{
 "cells": [
  {
   "cell_type": "markdown",
   "metadata": {},
   "source": [
    "<div class=\"question-detail\"><div class=\"question-description__3U1T\"><div><p>You are given an integer array <code>nums</code> consisting of <code>n</code> elements, and an integer <code>k</code>.</p>\n",
    "\n",
    "<p>Find a contiguous subarray whose <strong>length is equal to</strong> <code>k</code> that has the maximum average value and return <em>this value</em>. Any answer with a calculation error less than <code>10<sup>-5</sup></code> will be accepted.</p>\n",
    "\n",
    "<p>&nbsp;</p>\n",
    "<p><strong class=\"example\">Example 1:</strong></p>\n",
    "\n",
    "<pre><strong>Input:</strong> nums = [1,12,-5,-6,50,3], k = 4\n",
    "<strong>Output:</strong> 12.75000\n",
    "<strong>Explanation:</strong> Maximum average is (12 - 5 - 6 + 50) / 4 = 51 / 4 = 12.75\n",
    "</pre>\n",
    "\n",
    "<p><strong class=\"example\">Example 2:</strong></p>\n",
    "\n",
    "<pre><strong>Input:</strong> nums = [5], k = 1\n",
    "<strong>Output:</strong> 5.00000\n",
    "</pre>\n",
    "\n",
    "<p>&nbsp;</p>\n",
    "<p><strong>Constraints:</strong></p>\n",
    "\n",
    "<ul>\n",
    "\t<li><code>n == nums.length</code></li>\n",
    "\t<li><code>1 &lt;= k &lt;= n &lt;= 10<sup>5</sup></code></li>\n",
    "\t<li><code>-10<sup>4</sup> &lt;= nums[i] &lt;= 10<sup>4</sup></code></li>\n",
    "</ul>\n",
    "</div></div></div>"
   ]
  },
  {
   "cell_type": "code",
   "execution_count": 37,
   "metadata": {},
   "outputs": [],
   "source": [
    "from typing import List\n",
    "\n",
    "def max_average_subarray(nums: List[int], k: int) -> float:\n",
    "    curr: float = 0\n",
    "    for i in range(k):\n",
    "        curr += nums[i]\n",
    "        print(curr)\n",
    "        \n",
    "    ans = curr/k\n",
    "    \n",
    "    for i in range(k, len(nums)):       # start from index k to the end\n",
    "        curr += nums[i] - nums[i-k]\n",
    "        ans = max(ans, curr/k)\n",
    "        print(ans)\n",
    "    \n",
    "    \n",
    "    print(f\"Final result: {ans:.5f}\")  # Display formatted result\n",
    "    return round(ans, 5)\n",
    "    "
   ]
  },
  {
   "cell_type": "code",
   "execution_count": 39,
   "metadata": {},
   "outputs": [
    {
     "name": "stdout",
     "output_type": "stream",
     "text": [
      "3\n",
      "6\n",
      "10\n",
      "3.3333333333333335\n",
      "3.3333333333333335\n",
      "Final result: 3.33333\n"
     ]
    },
    {
     "data": {
      "text/plain": [
       "3.33333"
      ]
     },
     "execution_count": 39,
     "metadata": {},
     "output_type": "execute_result"
    }
   ],
   "source": [
    "max_average_subarray([3,3,4,3,0],3)"
   ]
  }
 ],
 "metadata": {
  "kernelspec": {
   "display_name": "Python 3",
   "language": "python",
   "name": "python3"
  },
  "language_info": {
   "codemirror_mode": {
    "name": "ipython",
    "version": 3
   },
   "file_extension": ".py",
   "mimetype": "text/x-python",
   "name": "python",
   "nbconvert_exporter": "python",
   "pygments_lexer": "ipython3",
   "version": "3.13.3"
  }
 },
 "nbformat": 4,
 "nbformat_minor": 2
}
