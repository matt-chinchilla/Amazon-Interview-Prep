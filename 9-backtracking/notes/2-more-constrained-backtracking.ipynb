{
 "cells": [
  {
   "cell_type": "markdown",
   "metadata": {},
   "source": [
    "<blockquote>\n",
    "<p>Example 1: <a href=\"https://leetcode.com/problems/combination-sum/\" target=\"_blank\">39. Combination Sum</a></p>\n",
    "<p>Given an array of distinct positive integers <code>candidates</code> and a target integer <code>target</code>, return a list of all unique combinations of candidates where the chosen numbers sum to <code>target</code>. The same number may be chosen from candidates an unlimited number of times. Two combinations are unique if the frequency of at least one of the chosen numbers is different.</p>\n",
    "</blockquote>\n",
    "\n",
    "<h2><u><span style=\"color:red\">The Steps</span></u></h2>\n",
    "\n",
    "1) To avoid duplicates (<span style=color:maroon>Ex: [2, 2, 3] and [2, 3, 2]</span>) → pass an integer variable `start` that <u> Indicates a point of origin // where to start iterating</u>\n",
    "    - Previously used `i` for this purpose\n",
    "    - `i + 1` was utilized because the same element could **NOT** be utilized more than once\n",
    "    - Here, the same element **CAN** be used more than once, so I will pass `i` instead\n",
    "\n",
    "2) Use the <u>integer variable `curr` to keep track of the **current sum**</u>\n",
    "    - If adding to `curr` makes `curr > target` → <span style=color:red>do NOT explore the path further</span>\n",
    "    - if `curr == target` →→ <span style=color:red>Add it to target</span>"
   ]
  },
  {
   "cell_type": "code",
   "execution_count": 1,
   "metadata": {},
   "outputs": [],
   "source": [
    "from typing import List\n",
    "\n",
    "class Solution:\n",
    "    def combinationSum(self, candidates: List[int], target: int) -> List[List[int]]:\n",
    "        def backtrack(path: list[int], start: int, curr: int):\n",
    "            \"\"\"\n",
    "            Path == path of integer-nodes taken\n",
    "            start == Head of the path\n",
    "            curr == current sum of the path\n",
    "            \"\"\"\n",
    "            breakpoint()\n",
    "            if curr == target:\n",
    "                ans.append(path[:])\n",
    "                return\n",
    "            \n",
    "            else:\n",
    "                for i in range(start, len(candidates)):\n",
    "                    num = candidates[i] # current candidate\n",
    "                    if curr + num <= target:\n",
    "                        path.append(num)\n",
    "                        backtrack(path, i, curr + num)\n",
    "                        path.pop()\n",
    "            \n",
    "        ans = []\n",
    "        backtrack([], 0, 0)\n",
    "        return ans"
   ]
  },
  {
   "cell_type": "code",
   "execution_count": 2,
   "metadata": {},
   "outputs": [
    {
     "name": "stdout",
     "output_type": "stream",
     "text": [
      "[[2, 2, 3], [7]]\n"
     ]
    }
   ],
   "source": [
    "s = Solution()\n",
    "candidates = [2,3,6,7]\n",
    "target = 7\n",
    "print(s.combinationSum(candidates, target))\n",
    "# Ans = [[2,2,2],[7]]"
   ]
  },
  {
   "cell_type": "markdown",
   "metadata": {},
   "source": [
    "<hr>\n",
    "<blockquote>\n",
    "<p>Example 2: <a href=\"https://leetcode.com/problems/n-queens-ii/\" target=\"_blank\">52. N-Queens II</a></p>\n",
    "<p>The N-Queens puzzle is the famous problem of placing <code>n</code> queens on an <code>n x n</code> chessboard such that no two queens attack each other. Given an integer <code>n</code>, return the number of distinct solutions to the N-Queens puzzle.</p>\n",
    "<p>For those who don't play chess: a queen can attack along the row, column, and diagonals it occupies.</p>\n",
    "</blockquote>\n",
    "\n",
    "<h2><u><span style=\"color:red\">The Steps</span></u></h2>\n",
    "\n",
    "1) Consider one row per `backtrack` call (meaning):\n",
    "    - Pass `row` as an argument\n",
    "    - Valid solution when `row = n`\n",
    "\n",
    "2) For columns `[0, n)`→ can only have **1 queen per column**\n",
    "    - Use a set `cols` to store the columns that are **occupied** (`cols = set()`)\n",
    "    - When adding a queen → add the column to `cols`\n",
    "    - <span style=color:red>When backtracking and removing the queen →→ remove the column from `cols`</span>\n",
    "\n",
    "3) A queen can be placed when it has a unique:\n",
    "    - `row` → <u>Will be the `range(n)` component</u>\n",
    "    - `col` → <u>Will be the `for col in range(n)` component</u>\n",
    "    - `diagonal` → <u>Will be the `row - col` component (looks like `↘`)</u>\n",
    "    - `anti-diagonal` → <u>Will be the `row + col` component (looks like `↙`)</u>\n",
    "\n",
    "4) If no more queens can be placed:\n",
    "    - The loop will terminate & the queen will be `unplaced`"
   ]
  },
  {
   "cell_type": "code",
   "execution_count": 8,
   "metadata": {},
   "outputs": [],
   "source": [
    "from typing import List\n",
    "class Solution:\n",
    "    def totalNQueens(self, n: int) -> int:\n",
    "        def backtrack(row, diagonals, anti_diagonals, cols):\n",
    "            breakpoint()\n",
    "            if row == n: # Made it all the way through and placed all of the queens\n",
    "                return 1\n",
    "            \n",
    "            solutions = 0\n",
    "            for col in range(n):\n",
    "                curr_diagonal: int = row - col\n",
    "                curr_anti_diagonal: int = row + col\n",
    "                \n",
    "                # Logic to see if the current square is being attacked (column being attacked, then the diagonal, then the antidiagonal)\n",
    "                if (col in cols \n",
    "                      or curr_diagonal in diagonals \n",
    "                      or curr_anti_diagonal in anti_diagonals):\n",
    "                    continue\n",
    "                \n",
    "                # Logic to \"Place Queen on the board\" // a.k.a. → updating the sets\n",
    "                else:\n",
    "                    cols.add(col)\n",
    "                    diagonals.add(curr_diagonal)\n",
    "                    anti_diagonals.add(curr_anti_diagonal)\n",
    "                    \n",
    "                    solutions += backtrack(row + 1, diagonals, anti_diagonals, cols)\n",
    "                    \n",
    "                    # Backtracking if we happen to return to explore other options\n",
    "                    cols.remove(col)\n",
    "                    diagonals.remove(curr_diagonal)\n",
    "                    anti_diagonals.remove(curr_anti_diagonal)\n",
    "                    \n",
    "            return solutions\n",
    "        \n",
    "        return backtrack(0, set(), set(), set())"
   ]
  },
  {
   "cell_type": "code",
   "execution_count": 9,
   "metadata": {},
   "outputs": [
    {
     "name": "stdout",
     "output_type": "stream",
     "text": [
      "2\n"
     ]
    }
   ],
   "source": [
    "s = Solution()\n",
    "n = 4           # 4 queens on a 4 x 4 chess board\n",
    "print(s.totalNQueens(n))"
   ]
  },
  {
   "cell_type": "markdown",
   "metadata": {},
   "source": [
    "<hr>\n",
    "<blockquote>\n",
    "<p>Example 3: <a href=\"https://leetcode.com/problems/word-search/\" target=\"_blank\">79. Word Search</a></p>\n",
    "<p>Given an <code>m x n</code> grid of characters board and a string <code>word</code>, return true if <code>word</code> exists in the grid. The word can be constructed from letters of sequentially adjacent cells, where adjacent cells are horizontally or vertically neighboring. The same letter cell may not be used more than once.</p>\n",
    "</blockquote>\n",
    "\n",
    "- <u>Notes:</u>\n",
    "1) In the `backtrack` function:\n",
    "    - `row` and `col` == <u>Current square in the grid</u>\n",
    "    - `i` == <u>Index of the current letter we are looking for in `word`</u>\n",
    "    - `seen` == <u>Set used to prevent `letter/square` re-use with a letter/square on the grid</u>"
   ]
  },
  {
   "cell_type": "code",
   "execution_count": 14,
   "metadata": {},
   "outputs": [],
   "source": [
    "class Solution:\n",
    "    def exist(self, board: List[List[str]], word: str) -> bool:\n",
    "        def valid(row, col):\n",
    "            return 0 <= col < n and 0 <= row < m\n",
    "        \n",
    "        def backtrack(row, col, i, seen):\n",
    "            breakpoint()\n",
    "            if i == len(word):\n",
    "                return True\n",
    "            \n",
    "            else:\n",
    "                for dx, dy in directions:\n",
    "                    next_row, next_col = row + dy, col + dx\n",
    "                    if valid(next_row, next_col) and (next_row, next_col) not in seen:\n",
    "                        if board[next_row][next_col] == word[i]:    # Is this next letter the letter we are looking for?\n",
    "                            seen.add((next_row, next_col)) # If it is, let's visit it\n",
    "                            if backtrack(next_row, next_col, i + 1, seen):\n",
    "                                return True\n",
    "                            seen.remove((next_row, next_col))\n",
    "                            \n",
    "                return False\n",
    "        \n",
    "        directions = [(0,1), (1,0), (0,-1), (-1,0)]\n",
    "        m = len(board)\n",
    "        n = len(board[0])\n",
    "        breakpoint()\n",
    "        ## Iterate over the grid\n",
    "        for row in range(m):\n",
    "            for col in range(n):\n",
    "                if board[row][col] == word[0] and backtrack(row, col, 1, {(row, col)}):\n",
    "                    return True\n",
    "                \n",
    "        return False"
   ]
  },
  {
   "cell_type": "code",
   "execution_count": 15,
   "metadata": {},
   "outputs": [
    {
     "name": "stdout",
     "output_type": "stream",
     "text": [
      "True\n"
     ]
    }
   ],
   "source": [
    "s = Solution()\n",
    "board = [[\"A\",\"B\",\"C\",\"E\"],\n",
    "         [\"S\",\"F\",\"C\",\"S\"],\n",
    "         [\"A\",\"D\",\"E\",\"E\"]]\n",
    "\n",
    "word = \"ABCCED\"\n",
    "print(s.exist(board, word))"
   ]
  }
 ],
 "metadata": {
  "kernelspec": {
   "display_name": "Python 3",
   "language": "python",
   "name": "python3"
  },
  "language_info": {
   "codemirror_mode": {
    "name": "ipython",
    "version": 3
   },
   "file_extension": ".py",
   "mimetype": "text/x-python",
   "name": "python",
   "nbconvert_exporter": "python",
   "pygments_lexer": "ipython3",
   "version": "3.13.3"
  }
 },
 "nbformat": 4,
 "nbformat_minor": 2
}
