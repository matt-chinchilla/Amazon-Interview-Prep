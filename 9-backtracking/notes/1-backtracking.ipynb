{
 "cells": [
  {
   "cell_type": "markdown",
   "metadata": {},
   "source": [
    "<h2><u><span style=color:indigo>Backtracking</span></u></h2>\n",
    "<hr>\n",
    "<p><span style=color:red>Backtracking</span> is a way to efficiently run though all possibilities in a problem. It typically uses an optimization where a <strong>path</strong> is <code>abandonded</code> once it is determined that the path cannot lead to a solution</p>\n",
    "<blockquote>\n",
    "<p>Abandoning a path is also sometimes called \"pruning\".</p>\n",
    "<p>To summarize the difference between exhaustive search and backtracking:</p>\n",
    "<p>In an exhaustive search, we generate all possibilities and then check them for solutions. In backtracking, we prune paths that cannot lead to a solution, generating far fewer possibilities.</p>\n",
    "</blockquote>\n",
    "<p><strong>Implementation</strong></p>\n",
    "<p>Backtracking is almost always implemented with recursion - it really doesn't make sense to do it iteratively. In most backtracking problems, you will be building something, either directly (like modifying an array) or indirectly (using variables to represent some state). Here is some pseudocode for a general backtracking format:</p>\n",
    "<div class=\"codehilite\"><pre><span></span>// let curr represent the thing you are building\n",
    "// it could be an array or a combination of variables\n",
    "\n",
    "function backtrack(curr) {\n",
    "    if (base case) {\n",
    "        Increment or add to answer\n",
    "        return\n",
    "    }\n",
    "\n",
    "    for (iterate over input) {\n",
    "        Modify curr\n",
    "        backtrack(curr)\n",
    "        Undo whatever modification was done to curr\n",
    "    }\n",
    "}\n",
    "</pre></div>"
   ]
  },
  {
   "cell_type": "markdown",
   "metadata": {},
   "source": [
    "<h2><u><span style=color:indigo>Generation</span></u></h2>\n",
    "<hr>\n",
    "<p>One common type of problem that can be solved with backtracking are problems that ask you to generate all of something.</p>\n",
    "<blockquote>\n",
    "<p>Example 1: <a href=\"https://leetcode.com/problems/permutations/\" target=\"_blank\">46. Permutations</a></p>\n",
    "<p>Given an array <code>nums</code> of distinct integers, return all the possible permutations in any order.</p>\n",
    "<p>For example, given <code>nums = [1, 2, 3]</code>, return <code>[[1,2,3],[1,3,2],[2,1,3],[2,3,1],[3,1,2],[3,2,1]]</code>.</p>\n",
    "</blockquote>"
   ]
  },
  {
   "cell_type": "code",
   "execution_count": 5,
   "metadata": {},
   "outputs": [],
   "source": [
    "from typing import List\n",
    "class Solution:\n",
    "    def permute(self, nums: List[int]) -> List[List[int]]:\n",
    "        call_stack = []\n",
    "        \n",
    "        def backtrack(curr):\n",
    "            breakpoint()\n",
    "            call_stack.append(('backtrack', curr[:]))\n",
    "            \n",
    "            if len(curr) == len(nums): # If we are at a 'leaf'\n",
    "                ans.append(curr[:]) # Create a copy of curr\n",
    "                call_stack.pop()\n",
    "                return\n",
    "\n",
    "            for num in nums:\n",
    "                if num not in curr:\n",
    "                    curr.append(num)\n",
    "                    backtrack(curr)\n",
    "                    curr.pop()\n",
    "            \n",
    "            call_stack.pop()\n",
    "            \n",
    "        ans = []\n",
    "        backtrack([])\n",
    "        return ans"
   ]
  },
  {
   "cell_type": "code",
   "execution_count": 6,
   "metadata": {},
   "outputs": [
    {
     "name": "stdout",
     "output_type": "stream",
     "text": [
      "[[1, 2, 3], [1, 3, 2], [2, 1, 3], [2, 3, 1], [3, 1, 2], [3, 2, 1]]\n"
     ]
    }
   ],
   "source": [
    "s = Solution()\n",
    "nums = [1,2,3]\n",
    "print(s.permute(nums))"
   ]
  },
  {
   "cell_type": "markdown",
   "metadata": {},
   "source": [
    "<hr>\n",
    "<blockquote>\n",
    "<p>Example 2: <a href=\"https://leetcode.com/problems/subsets/\" target=\"_blank\">78. Subsets</a></p>\n",
    "<p>Given an integer array <code>nums</code> of unique elements, return all subsets in any order without duplicates.</p>\n",
    "<p>For example, given <code>nums = [1, 2, 3]</code>, return <code>[[],[1],[2],[1,2],[3],[1,3],[2,3],[1,2,3]]</code></p>\n",
    "</blockquote>"
   ]
  },
  {
   "cell_type": "code",
   "execution_count": 13,
   "metadata": {},
   "outputs": [],
   "source": [
    "from typing import List\n",
    "\n",
    "class Solution:\n",
    "    def subsets(self, nums: List[int]) -> list[list[int]]:\n",
    "        call_stack = []\n",
    "        \n",
    "        def backtrack(curr: list[int], i: int):\n",
    "            breakpoint()\n",
    "            call_stack.append(('backtrack', curr[:]))\n",
    "            \"\"\"\n",
    "            variable 'i' tells where to start iterating from\n",
    "            \"\"\"\n",
    "            if i > len(nums):\n",
    "                call_stack.pop()\n",
    "                return\n",
    "            \n",
    "            # Every node is an answer here\n",
    "            ans.append(curr[:])\n",
    "            for j in range(i, len(nums)):\n",
    "                curr.append(nums[j])\n",
    "                backtrack(curr, j + 1)\n",
    "                curr.pop()\n",
    "            \n",
    "            call_stack.pop()\n",
    "            \n",
    "        ans = []\n",
    "        backtrack([], 0)\n",
    "        return ans"
   ]
  },
  {
   "cell_type": "code",
   "execution_count": 14,
   "metadata": {},
   "outputs": [
    {
     "name": "stdout",
     "output_type": "stream",
     "text": [
      "[[], [1], [1, 2], [1, 2, 3], [1, 3], [2], [2, 3], [3]]\n"
     ]
    }
   ],
   "source": [
    "s = Solution()\n",
    "nums = [1,2,3]\n",
    "print(s.subsets(nums))"
   ]
  },
  {
   "cell_type": "markdown",
   "metadata": {},
   "source": [
    "<blockquote>\n",
    "<p>Example 3: <a href=\"https://leetcode.com/problems/combinations/\" target=\"_blank\">77. Combinations</a></p>\n",
    "<p>Given two integers <code>n</code> and <code>k</code>, return all combinations of <code>k</code> numbers out of the range <code>[1, n]</code> in any order.</p>\n",
    "<p>For example, given <code>n = 4, k = 2</code>, return <code>[[2,4],[3,4],[2,3],[1,2],[1,3],[1,4]]</code>.</p>\n",
    "</blockquote>"
   ]
  },
  {
   "cell_type": "code",
   "execution_count": 9,
   "metadata": {},
   "outputs": [],
   "source": [
    "class Solution:\n",
    "    def combine(self, n: int, k: int) -> list[list[int]]:\n",
    "        def backtrack(curr, i):\n",
    "            # Base-case\n",
    "            if len(curr) == k:\n",
    "                ans.append(curr[:])\n",
    "                return\n",
    "            \n",
    "            for num in range(i, n + 1):    # From i - n(inclusive)\n",
    "                curr.append(num)\n",
    "                backtrack(curr, num+1)\n",
    "                curr.pop()\n",
    "                \n",
    "        ans = []\n",
    "        backtrack([], 1)\n",
    "        return ans"
   ]
  },
  {
   "cell_type": "code",
   "execution_count": 10,
   "metadata": {},
   "outputs": [
    {
     "name": "stdout",
     "output_type": "stream",
     "text": [
      "[[1, 2], [1, 3], [1, 4], [2, 3], [2, 4], [3, 4]]\n"
     ]
    }
   ],
   "source": [
    "s = Solution()\n",
    "n = 4\n",
    "k = 2\n",
    "print(s.combine(n, k))"
   ]
  }
 ],
 "metadata": {
  "kernelspec": {
   "display_name": "Python 3",
   "language": "python",
   "name": "python3"
  },
  "language_info": {
   "codemirror_mode": {
    "name": "ipython",
    "version": 3
   },
   "file_extension": ".py",
   "mimetype": "text/x-python",
   "name": "python",
   "nbconvert_exporter": "python",
   "pygments_lexer": "ipython3",
   "version": "3.13.3"
  }
 },
 "nbformat": 4,
 "nbformat_minor": 2
}
