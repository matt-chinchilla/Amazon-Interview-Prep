{
 "cells": [
  {
   "cell_type": "markdown",
   "metadata": {},
   "source": [
    "<div class=\"question-detail\"><div class=\"question-description__3U1T\"><div><p>Given two strings <code>ransomNote</code> and <code>magazine</code>, return <code>true</code><em> if </em><code>ransomNote</code><em> can be constructed by using the letters from </em><code>magazine</code><em> and </em><code>false</code><em> otherwise</em>.</p>\n",
    "\n",
    "<p>Each letter in <code>magazine</code> can only be used once in <code>ransomNote</code>.</p>\n",
    "\n",
    "<p>&nbsp;</p>\n",
    "<p><strong class=\"example\">Example 1:</strong></p>\n",
    "<pre><strong>Input:</strong> ransomNote = \"a\", magazine = \"b\"\n",
    "<strong>Output:</strong> false\n",
    "</pre><p><strong class=\"example\">Example 2:</strong></p>\n",
    "<pre><strong>Input:</strong> ransomNote = \"aa\", magazine = \"ab\"\n",
    "<strong>Output:</strong> false\n",
    "</pre><p><strong class=\"example\">Example 3:</strong></p>\n",
    "<pre><strong>Input:</strong> ransomNote = \"aa\", magazine = \"aab\"\n",
    "<strong>Output:</strong> true\n",
    "</pre>\n",
    "<p>&nbsp;</p>\n",
    "<p><strong>Constraints:</strong></p>\n",
    "\n",
    "<ul>\n",
    "\t<li><code>1 &lt;= ransomNote.length, magazine.length &lt;= 10<sup>5</sup></code></li>\n",
    "\t<li><code>ransomNote</code> and <code>magazine</code> consist of lowercase English letters.</li>\n",
    "</ul>\n",
    "</div></div></div>"
   ]
  },
  {
   "cell_type": "code",
   "execution_count": 11,
   "metadata": {},
   "outputs": [],
   "source": [
    "from typing import List\n",
    "from collections import defaultdict, Counter\n",
    "from pprint import pprint\n",
    "\n",
    "# Example input: ransomNote = \"aa\", magazine = \"aab\" // Output: true\n",
    "class Solution:\n",
    "    def canConstruct(self, ransomNote: str, magazine: str):\n",
    "        letters = defaultdict(int)\n",
    "       \n",
    "        for char in ransomNote:\n",
    "            letters[char] -= 1\n",
    "        for char in magazine:\n",
    "            letters[char] += 1\n",
    "        \n",
    "        for count in letters.values():\n",
    "            if count < 0:\n",
    "                return False\n",
    "\n",
    "        return True"
   ]
  },
  {
   "cell_type": "code",
   "execution_count": 12,
   "metadata": {},
   "outputs": [
    {
     "data": {
      "text/plain": [
       "False"
      ]
     },
     "execution_count": 12,
     "metadata": {},
     "output_type": "execute_result"
    }
   ],
   "source": [
    "sol = Solution()\n",
    "ransomNote = \"aabdefg\"\n",
    "magazine = \"aab\"\n",
    "sol.canConstruct(ransomNote, magazine)"
   ]
  },
  {
   "cell_type": "markdown",
   "metadata": {},
   "source": [
    "##### • Doing it smarter now"
   ]
  },
  {
   "cell_type": "code",
   "execution_count": 21,
   "metadata": {},
   "outputs": [],
   "source": [
    "class Solution:\n",
    "    def canConstruct(self, ransomNote: str, magazine: str) -> bool:\n",
    "        # If the ransomNote is longer than the magazine, it is impossible to construct\n",
    "        if len(ransomNote) > len(magazine):\n",
    "            return False\n",
    "        \n",
    "        # Check each unique character\n",
    "        for c in set(ransomNote):\n",
    "            # If ransomNote requires more of this character than magazine has, return False\n",
    "            if ransomNote.count(c) > magazine.count(c):         \n",
    "                return False\n",
    "        print(set(ransomNote), set(magazine))\n",
    "        return True"
   ]
  },
  {
   "cell_type": "code",
   "execution_count": 22,
   "metadata": {},
   "outputs": [
    {
     "data": {
      "text/plain": [
       "False"
      ]
     },
     "execution_count": 22,
     "metadata": {},
     "output_type": "execute_result"
    }
   ],
   "source": [
    "sol = Solution()\n",
    "ransomNote = \"aabdefg\"\n",
    "magazine = \"aab\"\n",
    "sol.canConstruct(ransomNote, magazine)"
   ]
  }
 ],
 "metadata": {
  "kernelspec": {
   "display_name": "Python 3",
   "language": "python",
   "name": "python3"
  },
  "language_info": {
   "codemirror_mode": {
    "name": "ipython",
    "version": 3
   },
   "file_extension": ".py",
   "mimetype": "text/x-python",
   "name": "python",
   "nbconvert_exporter": "python",
   "pygments_lexer": "ipython3",
   "version": "3.13.3"
  }
 },
 "nbformat": 4,
 "nbformat_minor": 2
}
