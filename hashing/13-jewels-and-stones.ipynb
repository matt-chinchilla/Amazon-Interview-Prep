{
 "cells": [
  {
   "cell_type": "markdown",
   "metadata": {},
   "source": [
    "<div class=\"question-description__3U1T\"><div><p>You're given strings <code>jewels</code> representing the types of stones that are jewels, and <code>stones</code> representing the stones you have. Each character in <code>stones</code> is a type of stone you have. You want to know how many of the stones you have are also jewels.</p>\n",
    "\n",
    "<p>Letters are case sensitive, so <code>\"a\"</code> is considered a different type of stone from <code>\"A\"</code>.</p>\n",
    "\n",
    "<p>&nbsp;</p>\n",
    "<p><strong class=\"example\">Example 1:</strong></p>\n",
    "<pre><strong>Input:</strong> jewels = \"aA\", stones = \"aAAbbbb\"\n",
    "<strong>Output:</strong> 3\n",
    "</pre><p><strong class=\"example\">Example 2:</strong></p>\n",
    "<pre><strong>Input:</strong> jewels = \"z\", stones = \"ZZ\"\n",
    "<strong>Output:</strong> 0\n",
    "</pre>\n",
    "<p>&nbsp;</p>\n",
    "<p><strong>Constraints:</strong></p>\n",
    "\n",
    "<ul>\n",
    "\t<li><code>1 &lt;=&nbsp;jewels.length, stones.length &lt;= 50</code></li>\n",
    "\t<li><code>jewels</code> and <code>stones</code> consist of only English letters.</li>\n",
    "\t<li>All the characters of&nbsp;<code>jewels</code> are <strong>unique</strong>.</li>\n",
    "</ul>\n",
    "</div></div>"
   ]
  },
  {
   "cell_type": "code",
   "execution_count": 21,
   "metadata": {},
   "outputs": [],
   "source": [
    "from collections import defaultdict\n",
    "\n",
    "class Solution:\n",
    "    def numJewelsInStones(self, jewels: str, stones: str) -> int:\n",
    "        dic: dict = defaultdict(int)\n",
    "        counter = 0\n",
    "        \n",
    "        for char in stones:\n",
    "            dic[char] += 1\n",
    "        \n",
    "        for char in jewels:\n",
    "            if char in stones:\n",
    "                counter += dic[char]\n",
    "        return counter"
   ]
  },
  {
   "cell_type": "code",
   "execution_count": 22,
   "metadata": {},
   "outputs": [
    {
     "name": "stdout",
     "output_type": "stream",
     "text": [
      "a\n",
      "A\n",
      "dict_items([('a', 1), ('A', 2), ('b', 4)])\n"
     ]
    },
    {
     "data": {
      "text/plain": [
       "3"
      ]
     },
     "execution_count": 22,
     "metadata": {},
     "output_type": "execute_result"
    }
   ],
   "source": [
    "sol = Solution()\n",
    "jewels = \"aA\"\n",
    "stones = \"aAAbbbb\"\n",
    "sol.numJewelsInStones(jewels, stones)"
   ]
  }
 ],
 "metadata": {
  "kernelspec": {
   "display_name": "Python 3",
   "language": "python",
   "name": "python3"
  },
  "language_info": {
   "codemirror_mode": {
    "name": "ipython",
    "version": 3
   },
   "file_extension": ".py",
   "mimetype": "text/x-python",
   "name": "python",
   "nbconvert_exporter": "python",
   "pygments_lexer": "ipython3",
   "version": "3.13.3"
  }
 },
 "nbformat": 4,
 "nbformat_minor": 2
}
