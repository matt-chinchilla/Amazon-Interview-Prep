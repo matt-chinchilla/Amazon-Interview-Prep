{
 "cells": [
  {
   "cell_type": "markdown",
   "metadata": {},
   "source": [
    "#### More hashing examples\n",
    "- More examples to becomes as familiar as possible\n",
    "<blockquote>\n",
    "<p>Example 1: <a href=\"https://leetcode.com/problems/group-anagrams/\" target=\"_blank\">49. Group Anagrams</a></p>\n",
    "<p>Given an array of strings <code>strs</code>, group the <a href=\"https://en.wikipedia.org/wiki/Anagram\" target=\"_blank\">anagrams</a> together.</p>\n",
    "<p>For example, given <code>strs = [\"eat\",\"tea\",\"tan\",\"ate\",\"nat\",\"bat\"]</code>, return <code>[[\"bat\"],[\"nat\",\"tan\"],[\"ate\",\"eat\",\"tea\"]]</code>.</p>\n",
    "</blockquote>\n",
    "\n",
    "1) Method 1: <u>Check if the two strings are equal after both being sorted</u>\n",
    "    - Use the sorted version as a key (**all anagrams are the same once they are sorted in alphabetical order**)\n",
    "    - Map these keys to the groups *(Ex: [\"ate\",\"eat\",\"tea\"])* themselves\n",
    "    - Answer just becomes the values of the hash map"
   ]
  },
  {
   "cell_type": "code",
   "execution_count": 8,
   "metadata": {},
   "outputs": [],
   "source": [
    "from collections import defaultdict\n",
    "from typing import List\n",
    "from pprint import pprint\n",
    "\n",
    "def groupAnagrams(strs: List[str]) -> List[List[str]]:\n",
    "    groups = defaultdict(list)\n",
    "    for s in strs:\n",
    "        key: str = \"\".join(sorted(s))\n",
    "        groups[key].append(s)\n",
    "    \n",
    "    pprint(groups)\n",
    "        \n",
    "    return list(groups.values())"
   ]
  },
  {
   "cell_type": "code",
   "execution_count": 9,
   "metadata": {},
   "outputs": [
    {
     "name": "stdout",
     "output_type": "stream",
     "text": [
      "defaultdict(<class 'list'>,\n",
      "            {'abt': ['bat'],\n",
      "             'aet': ['eat', 'tea', 'ate'],\n",
      "             'ant': ['tan', 'nat']})\n"
     ]
    },
    {
     "data": {
      "text/plain": [
       "[['eat', 'tea', 'ate'], ['tan', 'nat'], ['bat']]"
      ]
     },
     "execution_count": 9,
     "metadata": {},
     "output_type": "execute_result"
    }
   ],
   "source": [
    "strs = [\"eat\",\"tea\",\"tan\",\"ate\",\"nat\",\"bat\"]\n",
    "groupAnagrams(strs)"
   ]
  },
  {
   "cell_type": "markdown",
   "metadata": {},
   "source": [
    "<blockquote>\n",
    "<p>Another way to solve this problem is to use a tuple of length 26 representing the count of each character as the key instead of the sorted string. This would technically solve the problem in <span class=\"maths katex-rendered\"><span class=\"katex\"><span class=\"katex-mathml\"><math><semantics><mrow><mi>O</mi><mo>(</mo><mi>n</mi><mo>⋅</mo><mi>m</mi><mo>)</mo></mrow><annotation encoding=\"application/x-tex\">O(n \\cdot m)</annotation></semantics></math></span><span class=\"katex-html\" aria-hidden=\"true\"><span class=\"base\"><span class=\"strut\" style=\"height: 1em; vertical-align: -0.25em;\"></span><span class=\"mord mathdefault\" style=\"margin-right: 0.02778em;\">O</span><span class=\"mopen\">(</span><span class=\"mord mathdefault\">n</span><span class=\"mspace\" style=\"margin-right: 0.222222em;\"></span><span class=\"mbin\">⋅</span><span class=\"mspace\" style=\"margin-right: 0.222222em;\"></span></span><span class=\"base\"><span class=\"strut\" style=\"height: 1em; vertical-align: -0.25em;\"></span><span class=\"mord mathdefault\">m</span><span class=\"mclose\">)</span></span></span></span></span> because the 26 is a constant defined by the problem, but for test cases with smaller strings it would be slower due to the constant factor which is hidden by big O.</p>\n",
    "<p>It also assumes that the strings can only have 26 different characters, which is valid here but less general and less resistant to follow-ups.</p>\n",
    "</blockquote>\n",
    "<hr>\n",
    "<blockquote>\n",
    "<p>Example 2: <a href=\"https://leetcode.com/problems/minimum-consecutive-cards-to-pick-up/\" target=\"_blank\">2260. Minimum Consecutive Cards to Pick Up</a></p>\n",
    "<p>Given an integer array <code>cards</code>, find the length of the shortest subarray that contains at least one duplicate. If the array has no duplicates, return <code>-1</code>.</p>\n",
    "</blockquote>\n",
    "<p>We can actually solve this problem using a sliding window, but let's take a look at a different approach that has more emphasis on a hash map. This question is equivalent to: what is the shortest distance between any two of the same element? If we go through the array and use a hash map to record the indices for every element, we can iterate over those indices to find the shortest distance. For example, given <code>cards = [1, 2, 6, 2, 1]</code>, we would map <code>1: [0, 4]</code>, <code>2: [1, 3]</code>, and <code>6: [2]</code>. Then we can iterate over the values and see that the minimum difference can be achieved from picking up the <code>2</code>s.</p>\n"
   ]
  },
  {
   "cell_type": "code",
   "execution_count": 17,
   "metadata": {},
   "outputs": [],
   "source": [
    "from collections import defaultdict\n",
    "\n",
    "def minimumCardPickup(cards: List[int]) -> int:\n",
    "    dic = defaultdict(list)\n",
    "    for i in range(len(cards)):\n",
    "        dic[cards[i]].append(i)         # For each card, the key is the card's value (i.e. [1, 2, ...]) and the value is its index\n",
    "    \n",
    "    ans = float(\"inf\")                  # Initialize the answer to infinity\n",
    "    for key in dic:\n",
    "        arr = dic[key]                  # arr is a list of indices for the current card value (ex: {1: [0, 4]})\n",
    "        for i in range(len(arr) -1):\n",
    "            ans = min(ans, arr[i + 1] - arr[i] + 1)\n",
    "            \n",
    "    pprint(dic)\n",
    "        \n",
    "    return ans if ans < float(\"inf\") else -1"
   ]
  },
  {
   "cell_type": "code",
   "execution_count": 18,
   "metadata": {},
   "outputs": [
    {
     "name": "stdout",
     "output_type": "stream",
     "text": [
      "defaultdict(<class 'list'>, {1: [0, 4], 2: [1, 3], 6: [2]})\n"
     ]
    },
    {
     "data": {
      "text/plain": [
       "3"
      ]
     },
     "execution_count": 18,
     "metadata": {},
     "output_type": "execute_result"
    }
   ],
   "source": [
    "cards = [1, 2, 6, 2, 1]\n",
    "minimumCardPickup(cards)"
   ]
  },
  {
   "cell_type": "markdown",
   "metadata": {},
   "source": [
    "<p>We can actually improve this algorithm slightly by observing that we don't need to store all the indices, but only the most recent one that we saw for each number. This improves the average space complexity. The current algorithm has <span class=\"maths katex-rendered\"><span class=\"katex\"><span class=\"katex-mathml\"><math><semantics><mrow><mi>O</mi><mo>(</mo><mi>n</mi><mo>)</mo></mrow><annotation encoding=\"application/x-tex\">O(n)</annotation></semantics></math></span><span class=\"katex-html\" aria-hidden=\"true\"><span class=\"base\"><span class=\"strut\" style=\"height: 1em; vertical-align: -0.25em;\"></span><span class=\"mord mathdefault\" style=\"margin-right: 0.02778em;\">O</span><span class=\"mopen\">(</span><span class=\"mord mathdefault\">n</span><span class=\"mclose\">)</span></span></span></span></span> space complexity always, but with the improvement, it is only <span class=\"maths katex-rendered\"><span class=\"katex\"><span class=\"katex-mathml\"><math><semantics><mrow><mi>O</mi><mo>(</mo><mi>n</mi><mo>)</mo></mrow><annotation encoding=\"application/x-tex\">O(n)</annotation></semantics></math></span><span class=\"katex-html\" aria-hidden=\"true\"><span class=\"base\"><span class=\"strut\" style=\"height: 1em; vertical-align: -0.25em;\"></span><span class=\"mord mathdefault\" style=\"margin-right: 0.02778em;\">O</span><span class=\"mopen\">(</span><span class=\"mord mathdefault\">n</span><span class=\"mclose\">)</span></span></span></span></span> in the worst case, when there are no duplicates.</p>"
   ]
  },
  {
   "cell_type": "code",
   "execution_count": 22,
   "metadata": {},
   "outputs": [],
   "source": [
    "from collections import defaultdict\n",
    "\n",
    "class Solution:\n",
    "    def minimumCardPickup(self, cards: List[int]) -> int:\n",
    "        dic = defaultdict(int)\n",
    "        ans = float(\"inf\")\n",
    "        for i in range(len(cards)):\n",
    "            # When we see a card we've seen before:\n",
    "            if cards[i] in dic:\n",
    "                ans = min(ans, i - dic[cards[i]] + 1)  # Distance from most recent occurrence\n",
    "            # Always update to current position (overwrites old position):\n",
    "            dic[cards[i]] = i\n",
    "        pprint(dic)\n",
    "        return ans if ans < float(\"inf\") else -1\n",
    "    \n",
    "    # Literally the exact same thing as before"
   ]
  },
  {
   "cell_type": "code",
   "execution_count": 21,
   "metadata": {},
   "outputs": [
    {
     "name": "stdout",
     "output_type": "stream",
     "text": [
      "defaultdict(<class 'list'>, {3: [0, 3], 4: [1, 4], 2: [2], 7: [5]})\n"
     ]
    },
    {
     "data": {
      "text/plain": [
       "4"
      ]
     },
     "execution_count": 21,
     "metadata": {},
     "output_type": "execute_result"
    }
   ],
   "source": [
    "cards = [3, 4, 2, 3, 4, 7]\n",
    "minimumCardPickup(cards)"
   ]
  },
  {
   "cell_type": "markdown",
   "metadata": {},
   "source": [
    "<hr>\n",
    "<blockquote>\n",
    "<p>Example 3: <a href=\"https://leetcode.com/problems/max-sum-of-a-pair-with-equal-sum-of-digits/\" target=\"_blank\">2342. Max Sum of a Pair With Equal Sum of Digits</a></p>\n",
    "<p>Given an array of integers <code>nums</code>, find the maximum value of <code>nums[i] + nums[j]</code>, where <code>nums[i]</code> and <code>nums[j]</code> have the same <strong>digit sum</strong> (the sum of their individual digits). Return <code>-1</code> if there is no pair of numbers with the same digit sum.</p>\n",
    "</blockquote>"
   ]
  },
  {
   "cell_type": "code",
   "execution_count": 37,
   "metadata": {},
   "outputs": [],
   "source": [
    "from collections import defaultdict\n",
    "\n",
    "class Solution:\n",
    "    def maximumSum(self, nums: List[int]) -> int:\n",
    "        def get_digit_sum(num):\n",
    "            \"\"\"\n",
    "            Helper function to calculate the sum of digits of a number in the list \n",
    "            \"\"\"\n",
    "            digit_sum = 0\n",
    "            while num:                          # While there are still digits left\n",
    "                digit_sum += num % 10           # Get the ones-digit\n",
    "                num //=  10                     # Get the tens digit\n",
    "            return digit_sum\n",
    "\n",
    "        dic = defaultdict(list)\n",
    "        for num in nums:\n",
    "            digit_sum = get_digit_sum(num)\n",
    "            dic[digit_sum].append(num)              # if (ex) nums = [18, 36] // \"dic[digit_sum] == 9\" && \".append(num) == [18, 36]\"\n",
    "        pprint(dic)\n",
    "\n",
    "        ans = -1\n",
    "        for key in dic:\n",
    "            curr = dic[key]             # current is the value of the key in the dictionary (ex: in {1: [1, 10]}, current is [1, 10]) & key is the sum of digits\n",
    "            pprint(curr)\n",
    "            if len(curr) > 1:\n",
    "                curr.sort(reverse=True)\n",
    "                ans = max(ans, curr[0] + curr[1])\n",
    "                \n",
    "        return ans"
   ]
  },
  {
   "cell_type": "code",
   "execution_count": 38,
   "metadata": {},
   "outputs": [
    {
     "name": "stdout",
     "output_type": "stream",
     "text": [
      "defaultdict(<class 'list'>, {9: [18, 36], 7: [43, 7], 4: [13]})\n",
      "[18, 36]\n",
      "[43, 7]\n",
      "[13]\n"
     ]
    },
    {
     "data": {
      "text/plain": [
       "54"
      ]
     },
     "execution_count": 38,
     "metadata": {},
     "output_type": "execute_result"
    }
   ],
   "source": [
    "nums = [18,43,36,13,7]\n",
    "sol = Solution()\n",
    "sol.maximumSum(nums)"
   ]
  },
  {
   "cell_type": "markdown",
   "metadata": {},
   "source": [
    "- implementing the same method as before by only saving the largest number seen so far for each digit sum"
   ]
  },
  {
   "cell_type": "code",
   "execution_count": null,
   "metadata": {},
   "outputs": [],
   "source": [
    "from collections import defaultdict\n",
    "\n",
    "class Solution:\n",
    "    def maximumSum(self, nums: List[int]) -> int:\n",
    "        def get_digit_sum(num):\n",
    "            digit_sum = 0\n",
    "            while num:\n",
    "                digit_sum += num % 10\n",
    "                num //= 10\n",
    "            \n",
    "            return digit_sum\n",
    "        \n",
    "        # Ex: with nums = [18,43,36,13,7]\n",
    "        dic = defaultdict(int)\n",
    "        ans = -1\n",
    "        for num in nums:\n",
    "            digit_sum = get_digit_sum(num)\n",
    "            if digit_sum in dic:                                # If I have already seen another number ex: [18] with the same digit sum (ex: 9)\n",
    "                ans = max(ans, num + dic[digit_sum])            # Add the value of this number to the value that has the same digit sum (ex: {9:[18,...,36]} == replace previous ans with (18 + 36))\n",
    "\n",
    "            dic[digit_sum] = max(dic[digit_sum], num)       # Ex: dic[9] = max(dic[9], 36) → max(18, 36) = 36\n",
    "\n",
    "        return ans"
   ]
  },
  {
   "cell_type": "markdown",
   "metadata": {},
   "source": [
    "<blockquote>\n",
    "<p>Example 4: <a href=\"https://leetcode.com/problems/equal-row-and-column-pairs/\" target=\"_blank\">2352. Equal Row and Column Pairs</a></p>\n",
    "<p>Given an <code>n x n</code> matrix <code>grid</code>, return the number of pairs <code>(R, C)</code> where <code>R</code> is a row and <code>C</code> is a column, and <code>R</code> and <code>C</code> are equal if we consider them as 1D arrays.</p>\n",
    "</blockquote>\n",
    "<hr>\n",
    "\n",
    "**Ex:** grid = [[3,2,1],\n",
    "                [1,7,6],\n",
    "                [2,7,7]]\n",
    "        Output = 1 because <u>Row 2 is [2,7,7] and Column 2 is [2],[7],[7]</u>\n",
    "<hr>\n",
    "\n",
    "1) Use a hash map to count how many times each row occurs\n",
    "2) Use a second has map to do the same thing with columns\n",
    "3) Iterate over the **rows hash map** and check **for each row**, check if the same array appeared as a **column**\n",
    "4) If yes, Then the product of the # of appearances is added as an answer\n",
    "5) Because we cannot use an `array` as a key (they are mutable), we should use either a `string` or a `tuple`"
   ]
  },
  {
   "cell_type": "code",
   "execution_count": 49,
   "metadata": {},
   "outputs": [],
   "source": [
    "from collections import defaultdict\n",
    "\n",
    "class Solution:\n",
    "    def equalPairs(self, grid: List[List[int]]) -> int:\n",
    "        def convert_to_key(arr):\n",
    "            return tuple(arr)\n",
    "        \n",
    "        # Row Dictionary\n",
    "        dic = defaultdict(int)\n",
    "        for row in grid:\n",
    "            dic[convert_to_key(row)] += 1               # Key = the tuple of the row-arr, value == # of times it has occurred\n",
    "        \n",
    "        # Column Dictionary\n",
    "        dic2 = defaultdict(int)\n",
    "        for col in range(len(grid[0])):                 # len(grid[0]) is the index of the first row, which is the number of columns\n",
    "            current_col = []\n",
    "            for row in range(len(grid)):\n",
    "                current_col.append(grid[row][col])\n",
    "                \n",
    "            dic2[convert_to_key(current_col)] += 1\n",
    "        pprint(dic2)\n",
    "        ans = 0\n",
    "        for arr in dic:\n",
    "            ans += dic[arr] * dic2[arr]                 # Ex: if there were 2 rows that had the same value, and 2 columns, there would be 4 possible combos\n",
    "            \n",
    "        return ans"
   ]
  },
  {
   "cell_type": "code",
   "execution_count": 51,
   "metadata": {},
   "outputs": [
    {
     "name": "stdout",
     "output_type": "stream",
     "text": [
      "defaultdict(<class 'int'>, {(3, 1, 2): 1, (2, 7, 7): 1, (1, 6, 7): 1})\n"
     ]
    },
    {
     "data": {
      "text/plain": [
       "1"
      ]
     },
     "execution_count": 51,
     "metadata": {},
     "output_type": "execute_result"
    }
   ],
   "source": [
    "grid = [[3,2,1],\n",
    "        [1,7,6],\n",
    "        [2,7,7]]\n",
    "\n",
    "sol = Solution()\n",
    "sol.equalPairs(grid)"
   ]
  }
 ],
 "metadata": {
  "kernelspec": {
   "display_name": "Python 3",
   "language": "python",
   "name": "python3"
  },
  "language_info": {
   "codemirror_mode": {
    "name": "ipython",
    "version": 3
   },
   "file_extension": ".py",
   "mimetype": "text/x-python",
   "name": "python",
   "nbconvert_exporter": "python",
   "pygments_lexer": "ipython3",
   "version": "3.13.3"
  }
 },
 "nbformat": 4,
 "nbformat_minor": 2
}
