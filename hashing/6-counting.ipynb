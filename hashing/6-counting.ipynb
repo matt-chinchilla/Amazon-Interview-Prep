{
 "cells": [
  {
   "cell_type": "markdown",
   "metadata": {},
   "source": [
    "### Counting\n",
    "- Anytime you need to count (check the frequency of) anything, think about using a `hash map` to do it.\n",
    "- A hash map opens the door to solving problems where the constraint involves multiple elements. Let's start by looking at a sliding window example that leverages a hash map.\n",
    "\n",
    "<blockquote>\n",
    "<p>Example 1: You are given a string <code>s</code> and an integer <code>k</code>. Find the length of the longest substring that contains <strong>at most</strong> <code>k</code> distinct characters.</p>\n",
    "<p>For example, given <code>s = \"eceba\"</code> and <code>k = 2</code>, return <code>3</code>. The longest substring with at most <code>2</code> distinct characters is <code>\"ece\"</code>.</p>\n",
    "</blockquote>\n",
    "\n",
    "1. This problem deals with substrings and has a constraint on the substrings (at most `k` distinct characters). These characteristics let us know that we should consider `sliding window.`\n",
    "\n",
    "2. <p>Let's use a hash map <code>counts</code> to keep count of the characters in the window. This means we will map letters to their frequency. The length (number of keys) in <code>counts</code> at any time is the number of distinct characters. When we remove from the left, we can decrement the frequency of the elements being removed. When the frequency becomes <code>0</code>, we know this character is no longer part of the window, and we can delete the key.</p>\n",
    "\n",
    "<blockquote>\n",
    "<p>In Python, the <a href=\"https://docs.python.org/3/library/collections.html\" target=\"_blank\">collections module</a> provides very useful data structures. We will be using a <a href=\"https://docs.python.org/3/library/collections.html#collections.defaultdict\" target=\"_blank\">defaultdict</a> in the Python code. Functionality-wise, a defaultdict is the same as a hash map, it's just more pleasant to work with.</p>\n",
    "</blockquote>"
   ]
  },
  {
   "cell_type": "code",
   "execution_count": 1,
   "metadata": {},
   "outputs": [],
   "source": [
    "from collections import defaultdict\n",
    "\n",
    "def find_longest_substring(s: str, k: int) -> int:\n",
    "    ans = left = 0\n",
    "    counts = defaultdict(int)\n",
    "    \n",
    "    for right in range(len(s)):\n",
    "        counts[s[right]] += 1\n",
    "        while len(counts) > k:          # Logic for where there is an error\n",
    "            counts[s[left]] -= 1\n",
    "            if counts[s[left]] == 0:\n",
    "                del counts[s[left]]\n",
    "            left += 1\n",
    "            \n",
    "        ans = max(ans, right - left + 1)\n",
    "    return ans"
   ]
  },
  {
   "cell_type": "markdown",
   "metadata": {},
   "source": [
    "- <p>As you can see, using a hash map to store the frequency of any key we want allows us to solve sliding window problems that put constraints on multiple elements. We know from earlier that the time complexity of sliding window problems are <span class=\"maths katex-rendered\"><span class=\"katex\"><span class=\"katex-mathml\"><math><semantics><mrow><mi>O</mi><mo>(</mo><mi>n</mi><mo>)</mo></mrow><annotation encoding=\"application/x-tex\">O(n)</annotation></semantics></math></span><span class=\"katex-html\" aria-hidden=\"true\"><span class=\"base\"><span class=\"strut\" style=\"height: 1em; vertical-align: -0.25em;\"></span><span class=\"mord mathdefault\" style=\"margin-right: 0.02778em;\">O</span><span class=\"mopen\">(</span><span class=\"mord mathdefault\">n</span><span class=\"mclose\">)</span></span></span></span></span> if the work done inside each for loop iteration is amortized constant, which is the case here due to a hash map having <span class=\"maths katex-rendered\"><span class=\"katex\"><span class=\"katex-mathml\"><math><semantics><mrow><mi>O</mi><mo>(</mo><mn>1</mn><mo>)</mo></mrow><annotation encoding=\"application/x-tex\">O(1)</annotation></semantics></math></span><span class=\"katex-html\" aria-hidden=\"true\"><span class=\"base\"><span class=\"strut\" style=\"height: 1em; vertical-align: -0.25em;\"></span><span class=\"mord mathdefault\" style=\"margin-right: 0.02778em;\">O</span><span class=\"mopen\">(</span><span class=\"mord\">1</span><span class=\"mclose\">)</span></span></span></span></span> operations. The hash map occupies <span class=\"maths katex-rendered\"><span class=\"katex\"><span class=\"katex-mathml\"><math><semantics><mrow><mi>O</mi><mo>(</mo><mi>k</mi><mo>)</mo></mrow><annotation encoding=\"application/x-tex\">O(k)</annotation></semantics></math></span><span class=\"katex-html\" aria-hidden=\"true\"><span class=\"base\"><span class=\"strut\" style=\"height: 1em; vertical-align: -0.25em;\"></span><span class=\"mord mathdefault\" style=\"margin-right: 0.02778em;\">O</span><span class=\"mopen\">(</span><span class=\"mord mathdefault\" style=\"margin-right: 0.03148em;\">k</span><span class=\"mclose\">)</span></span></span></span></span> space, as the algorithm will delete elements from the hash map once it grows beyond <span class=\"maths katex-rendered\"><span class=\"katex\"><span class=\"katex-mathml\"><math><semantics><mrow><mi>k</mi></mrow><annotation encoding=\"application/x-tex\">k</annotation></semantics></math></span><span class=\"katex-html\" aria-hidden=\"true\"><span class=\"base\"><span class=\"strut\" style=\"height: 0.69444em; vertical-align: 0em;\"></span><span class=\"mord mathdefault\" style=\"margin-right: 0.03148em;\">k</span></span></span></span></span>.</p>\n",
    "<hr>\n",
    "\n",
    "<blockquote>\n",
    "<p>Example 2: <a href=\"https://leetcode.com/problems/intersection-of-multiple-arrays/\" target=\"_blank\">2248. Intersection of Multiple Arrays</a></p>\n",
    "<p>Given a 2D array <code>nums</code> that contains <code>n</code> arrays of distinct integers, return a sorted array containing all the numbers that appear in all <code>n</code> arrays.</p>\n",
    "<p>For example, given <code>nums = [[3,1,2,4,5],[1,2,3,4],[3,4,5,6]]</code>, return <code>[3, 4]</code>. <code>3</code> and <code>4</code> are the only numbers that are in all arrays.</p>\n",
    "</blockquote>\n",
    "\n",
    "1) Since the number will appear in **all** the arrays, a number that passes the vibe check will appear `n` times, so that is the basis of the `counting`\n",
    "\n",
    "2) Use the hash map `counts` to count the frequency of elements\n",
    "\n",
    "3) Iterate over the inner arrays & update `counts` with every element\n",
    "\n",
    "4) Iterate over our hash map to see which numbers appear `n` times"
   ]
  },
  {
   "cell_type": "code",
   "execution_count": 2,
   "metadata": {},
   "outputs": [],
   "source": [
    "from collections import defaultdict\n",
    "from typing import List\n",
    "\n",
    "class Solution:\n",
    "    def intersection(self, nums: List[List[int]])  -> List[int]:\n",
    "        counts = defaultdict(int)\n",
    "        for arr in nums:\n",
    "            for x in arr:\n",
    "                counts[x] += 1\n",
    "                \n",
    "        n = len(nums)\n",
    "        ans = []\n",
    "        for key in counts:\n",
    "            if counts[key] == n:\n",
    "                ans.append(key)\n",
    "        \n",
    "        return sorted(ans)"
   ]
  },
  {
   "cell_type": "code",
   "execution_count": 3,
   "metadata": {},
   "outputs": [
    {
     "name": "stdout",
     "output_type": "stream",
     "text": [
      "[3, 4]\n"
     ]
    }
   ],
   "source": [
    "sol = Solution()\n",
    "nums = [[3,1,2,4,5],\n",
    "        [1,2,3,4],\n",
    "        [3,4,5,6]]\n",
    "print(sol.intersection(nums))"
   ]
  },
  {
   "cell_type": "markdown",
   "metadata": {},
   "source": [
    "<blockquote>\n",
    "<p>Example 3: <a href=\"https://leetcode.com/problems/check-if-all-characters-have-equal-number-of-occurrences/\" target=\"_blank\">1941. Check if All Characters Have Equal Number of Occurrences</a></p>\n",
    "<p>Given a string <code>s</code>, determine if all characters have the same frequency.</p>\n",
    "<p>For example, given <code>s = \"abacbc\"</code>, return true, because all characters appear twice. Given <code>s = \"aaabb\"</code>, return false. <code>\"a\"</code> appears 3 times, <code>\"b\"</code> appears 2 times. <code>3 != 2</code>.</p>\n",
    "</blockquote>"
   ]
  },
  {
   "cell_type": "code",
   "execution_count": 8,
   "metadata": {},
   "outputs": [],
   "source": [
    "from collections import defaultdict\n",
    "from typing import Dict\n",
    "\n",
    "class Solution3:\n",
    "    def areOccurrencesEqual(self, s: str) -> tuple:\n",
    "        counts: dict = defaultdict(int)\n",
    "        \n",
    "        for c in s:                         # For each occurence of KEY 'c' in string S\n",
    "            counts[c] += 1                  # Increase the VALUE of counts 'c' where c = {'c': 'value\"}\n",
    "            \n",
    "        frequencies: Dict[str, int].values = counts.values()       \n",
    "        \n",
    "        return len(set(frequencies)) == 1, dict(counts)  # Check if all frequencies are the same by converting to a set and checking length"
   ]
  },
  {
   "cell_type": "code",
   "execution_count": 7,
   "metadata": {},
   "outputs": [
    {
     "data": {
      "text/plain": [
       "(True, {'a': 2, 'b': 2, 'c': 2})"
      ]
     },
     "execution_count": 7,
     "metadata": {},
     "output_type": "execute_result"
    }
   ],
   "source": [
    "sol3 = Solution3()\n",
    "s = \"abacbc\"\n",
    "\n",
    "sol3.areOccurrencesEqual(s)"
   ]
  },
  {
   "cell_type": "markdown",
   "metadata": {},
   "source": [
    "- Bonus using the `Counter` class"
   ]
  },
  {
   "cell_type": "code",
   "execution_count": 9,
   "metadata": {},
   "outputs": [],
   "source": [
    "from collections import Counter\n",
    "\n",
    "class Solution:\n",
    "    def areOccurrencesEqual(self, s: str) -> bool:\n",
    "        return len(set(Counter(s).values())) == 1"
   ]
  },
  {
   "cell_type": "markdown",
   "metadata": {},
   "source": [
    "<p>In the sliding window article from chapter 1, we talked about a pattern \"find the number of subarrays/substrings that fit a constraint\". In those problems, if you had a window between <code>left</code> and <code>right</code> that fit the constraint, then all windows from <code>i</code> to <code>right</code> also fit the constraint, where <code>left &lt; i &lt;= right</code>.</p>\n",
    "<p>For this pattern, we will be looking at problems with stricter constraints, so that the property just mentioned is not necessarily true.</p>\n",
    "<blockquote>\n",
    "<p>For example, \"Find the number of subarrays that have a sum less than k\" with an input that <strong>only has positive numbers</strong> would be solved with sliding window. In this section, we would be talking about questions like \"Find the number of subarrays that have a sum <strong>exactly equal</strong> to <code>k</code>\".</p>\n",
    "</blockquote>"
   ]
  },
  {
   "cell_type": "markdown",
   "metadata": {},
   "source": [
    "#### Reminder: a `prefix sum` is the fibonacci-sequence math applied to a random list/array of integers in this case\n",
    "- How to make this work?\n",
    "\n",
    "1) Declare the ***hash map*** `counts` where it maps the frequency of how often the **value of a subarray's sum** occurs\n",
    "    - Ex: Given `nums = [1, -1, 1]`, the prefix sum is `[1, 0, 1]` and `1` occurs twice\n",
    "\n",
    "2) Initialize `counts[0] = 1` \n",
    "    - B/c the empty prefix `[]` has a sum of `0`\n",
    "    \n",
    "3) Iterate over the input and maintain the the **sum of the current prefix** in a variable `curr`\n",
    "    - `curr` == sum of all elements we have iterated so far\n",
    "    - maintain `counts` by incrementing the frequency of `curr` at each iteration\n",
    "<hr>\n",
    "<ol>\n",
    "<li>Up until this point, <code>curr</code> stores the prefix of all elements up to <code>i</code>.</li>\n",
    "<li>We have stored all other prefixes before <code>i</code> inside of <code>counts</code>. </li>\n",
    "<li>The difference between any two prefix sums represents a subarray. For example, if you wanted the subarray starting at index <code>3</code> and ending at index <code>8</code>, you would take the prefix up to <code>8</code> and subtract the prefix up to <code>2</code> from it.</li>\n",
    "</ol>\n",
    "\n",
    "<p>Now, imagine there exists a subarray that beginning at index <code>j</code> and ending at index <code>i</code> with a sum of <code>k</code>. Consider the sum of the prefix ending at <code>j - 1</code> (the elements up to, but not including the start of the subarray). According to our assumptions:</p>\n",
    "\n",
    "<ul>\n",
    "<li>The sum of the prefix up to <code>i</code> is <code>curr</code>.</li>\n",
    "<li>The sum of the subarray from <code>j</code> to <code>i</code> is <code>k</code>.</li>\n",
    "</ul>\n",
    "\n",
    "<p>Thus, the sum of the prefix ending at <code>j - 1</code> must be <code>curr - k</code>.</p>\n",
    "\n",
    "## TOO COMPLEX, ITS LITERALLY JUST \"The value of `curr` is the prefix sum, `curr` used to be A DIFFERENT VALUE, if you subtract the value of `curr{i} - value at index{j}`, you will get `curr` at THAT POINT\""
   ]
  },
  {
   "cell_type": "markdown",
   "metadata": {},
   "source": [
    "<blockquote>\n",
    "<p>Let's use a concrete example to better illustrate this idea. Imagine we had <code>nums = [0, 1, 2, 3, 4]</code> and <code>k = 5</code>. Let's jump to <code>i = 3</code>.</p>\n",
    "<p>Currently, <code>curr = 6</code> (remember, <code>curr</code> is tracking the prefix sum up to <code>i</code>). We also have <code>0</code>, <code>1</code>, and <code>3</code> in <code>counts</code> (all the prefix sums we have encountered so far).</p>\n",
    "<p>At this point, we can see that there is a subarray ending at <code>i</code> with a sum of <code>k</code> - it's <code>[2, 3]</code>. How does our algorithm see it though?</p>\n",
    "<p>The current prefix sum is <code>6</code>. We want a subarray with a sum of <code>5</code>. Thus, if there was a prefix sum of <code>1</code> earlier, you could just subtract that prefix from the current one, and you'll get a subarray sum of <code>5</code>. In this case, we had a prefix <code>[0, 1]</code> which has a prefix sum of <code>1</code>. We can subtract that from the current prefix <code>[0, 1, 2, 3]</code> and we're left with <code>[2, 3]</code>, which has our target sum.</p>\n",
    "</blockquote>\n",
    "\n",
    "<blockquote>\n",
    "<p>Example 4: <a href=\"https://leetcode.com/problems/subarray-sum-equals-k/\" target=\"_blank\">560. Subarray Sum Equals K</a></p>\n",
    "<p>Given an integer array <code>nums</code> and an integer <code>k</code>, find the number of subarrays whose sum is equal to <code>k</code>.</p>\n",
    "</blockquote>\n",
    "\n",
    "- Example: \n",
    "- `nums = [1, 2, 1, 2, 1], k = 3` → 4 subarrays with sum `3` →→ `[1, 2]` twice and `[2, 1]` twice\n",
    "- prefix sum == `curr` == `[1, 3, 4, 6, 7]`\n",
    "    - 3 differences in this array w/ a diff(`k`) of `3` →→ `(4 - 1),(6 - 3),(7 - 4)`\n",
    "    - Is not 4 b/c we did not initialize `0: 1` <u>(needs to begin counting at the 1st number, not the first index)</u>"
   ]
  },
  {
   "cell_type": "code",
   "execution_count": 11,
   "metadata": {},
   "outputs": [],
   "source": [
    "from collections import defaultdict\n",
    "from typing import List\n",
    "\n",
    "class Solution:\n",
    "    def subarraySum(self, nums: List[int], k: int) -> int:\n",
    "        counts = defaultdict(int)                   # Counts is a hashmap where the Key is a prefix sum, and the Value is the number of times that sum has occurred\n",
    "        counts[0] = 1                       # Initialize first index to 0\n",
    "        ans = curr = 0                      # sliding window inits\n",
    "        \n",
    "        for num in nums:                     \n",
    "            curr += num                     # Update the value of the prefix sum\n",
    "            ans += counts[curr - k]         # Increase answer by the number of times the prefix sum (curr - k) has occurred\n",
    "            counts[curr] += 1               # Increase the count of the current prefix sum\n",
    "            \n",
    "        return ans"
   ]
  },
  {
   "cell_type": "markdown",
   "metadata": {},
   "source": [
    "<blockquote>\n",
    "<p>Example 5: <a href=\"https://leetcode.com/problems/count-number-of-nice-subarrays/\" target=\"_blank\">1248. Count Number of Nice Subarrays</a></p>\n",
    "<p>Given an array of positive integers <code>nums</code> and an integer <code>k</code>. Find the number of subarrays with exactly <code>k</code> odd numbers in them.</p>\n",
    "<p>For example, given <code>nums = [1, 1, 2, 1, 1], k = 3</code>, the answer is <code>2</code>. The subarrays with <code>3</code> odd numbers in them are <code>[<u>1, 1, 2, 1</u>, 1]</code> and <code>[1, <u>1, 2, 1, 1</u>]</code>.</p>\n",
    "</blockquote>"
   ]
  },
  {
   "cell_type": "markdown",
   "metadata": {},
   "source": [
    "- Need to use `curr` to track the number of odd numbers we have seen in the current prefix, not the prefix sum"
   ]
  },
  {
   "cell_type": "code",
   "execution_count": 12,
   "metadata": {},
   "outputs": [],
   "source": [
    "def numberOfSubarrays(nums: List[int], k: int) -> int:\n",
    "    counts = defaultdict(int)  \n",
    "    counts[0] = 1                       \n",
    "    ans = curr = 0 \n",
    "    \n",
    "    for num in nums:\n",
    "        curr += num % 2\n",
    "        ans += counts[curr - k]\n",
    "        counts[curr] += 1\n",
    "        \n",
    "    return ans"
   ]
  }
 ],
 "metadata": {
  "kernelspec": {
   "display_name": "Python 3",
   "language": "python",
   "name": "python3"
  },
  "language_info": {
   "codemirror_mode": {
    "name": "ipython",
    "version": 3
   },
   "file_extension": ".py",
   "mimetype": "text/x-python",
   "name": "python",
   "nbconvert_exporter": "python",
   "pygments_lexer": "ipython3",
   "version": "3.13.3"
  }
 },
 "nbformat": 4,
 "nbformat_minor": 2
}
