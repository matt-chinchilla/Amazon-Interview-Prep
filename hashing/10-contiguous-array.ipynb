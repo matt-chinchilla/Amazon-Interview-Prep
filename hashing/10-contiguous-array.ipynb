{
 "cells": [
  {
   "cell_type": "markdown",
   "metadata": {},
   "source": [
    "#### 10) <u>Contiguous Array</u>\n",
    "<div><p>Given a binary array <code>nums</code>, return <em>the maximum length of a contiguous subarray with an equal number of </em><code>0</code><em> and </em><code>1</code>.</p>\n",
    "\n",
    "<p>&nbsp;</p>\n",
    "<p><strong class=\"example\">Example 1:</strong></p>\n",
    "\n",
    "<pre><strong>Input:</strong> nums = [0,1]\n",
    "<strong>Output:</strong> 2\n",
    "<strong>Explanation:</strong> [0, 1] is the longest contiguous subarray with an equal number of 0 and 1.\n",
    "</pre>\n",
    "\n",
    "<p><strong class=\"example\">Example 2:</strong></p>\n",
    "\n",
    "<pre><strong>Input:</strong> nums = [0,1,0]\n",
    "<strong>Output:</strong> 2\n",
    "<strong>Explanation:</strong> [0, 1] (or [1, 0]) is a longest contiguous subarray with equal number of 0 and 1.\n",
    "</pre>\n",
    "\n",
    "<p><strong class=\"example\">Example 3:</strong></p>\n",
    "\n",
    "<pre><strong>Input:</strong> nums = [0,1,1,1,1,1,0,0,0]\n",
    "<strong>Output:</strong> 6\n",
    "<strong>Explanation:</strong> [1,1,1,0,0,0] is the longest contiguous subarray with equal number of 0 and 1.\n",
    "</pre>\n",
    "\n",
    "<p>&nbsp;</p>\n",
    "<p><strong>Constraints:</strong></p>\n",
    "\n",
    "<ul>\n",
    "\t<li><code>1 &lt;= nums.length &lt;= 10<sup>5</sup></code></li>\n",
    "\t<li><code>nums[i]</code> is either <code>0</code> or <code>1</code>.</li>\n",
    "</ul>\n",
    "</div>"
   ]
  },
  {
   "cell_type": "code",
   "execution_count": 9,
   "metadata": {},
   "outputs": [],
   "source": [
    "from collections import defaultdict\n",
    "from typing import List\n",
    "\n",
    "class Solution:\n",
    "    def findMaxLength(self, nums: List[int]) -> int:\n",
    "        counts = defaultdict(int)\n",
    "        counts[0] = 1\n",
    "        ans = curr = 0\n",
    "        n = len(nums)\n",
    "        \n",
    "        for num in nums:                        # for each integer in integer-array nums[]\n",
    "            curr += num                         # increase current by the integer value\n",
    "            if curr % 2 == 0:\n",
    "                ans += counts[curr - 1]             \n",
    "            counts[curr] += 1                   # increment the count of current in the counts dictionary\n",
    "            \n",
    "        return ans\n",
    "            # curr += num % 2\n",
    "            # ans += counts[curr - n]\n",
    "            # counts[curr] += 1"
   ]
  },
  {
   "cell_type": "code",
   "execution_count": 17,
   "metadata": {},
   "outputs": [],
   "source": [
    "from typing import List\n",
    "\n",
    "class Solution:\n",
    "    def findMaxLength(self, nums: List[int]) -> int:\n",
    "        dic = {}                    # dictionary to store the first occurrence of each count (key is the count, value is the index)\n",
    "        dic[0] = -1                 # Init because the first instance of [0, 1] needs to be equal to 0\n",
    "        ans = count = 0\n",
    "        \n",
    "        for i in range(len(nums)):\n",
    "            if nums[i] == 1:\n",
    "                count += 1\n",
    "            else:\n",
    "                count -= 1\n",
    "            \n",
    "            if count in dic:                            # if the count has been seen before\n",
    "                ans = max(ans, i - dic[count])          # calculate the length of the subarray\n",
    "            else:\n",
    "                dic[count] = i                          # store the first occurrence of this count\n",
    "        \n",
    "        return ans"
   ]
  },
  {
   "cell_type": "code",
   "execution_count": 18,
   "metadata": {},
   "outputs": [
    {
     "data": {
      "text/plain": [
       "6"
      ]
     },
     "execution_count": 18,
     "metadata": {},
     "output_type": "execute_result"
    }
   ],
   "source": [
    "sol = Solution()\n",
    "nums = [0,1,1,1,1,1,0,0,0]\n",
    "\n",
    "sol.findMaxLength(nums)\n"
   ]
  }
 ],
 "metadata": {
  "kernelspec": {
   "display_name": "Python 3",
   "language": "python",
   "name": "python3"
  },
  "language_info": {
   "codemirror_mode": {
    "name": "ipython",
    "version": 3
   },
   "file_extension": ".py",
   "mimetype": "text/x-python",
   "name": "python",
   "nbconvert_exporter": "python",
   "pygments_lexer": "ipython3",
   "version": "3.13.3"
  }
 },
 "nbformat": 4,
 "nbformat_minor": 2
}
