{
 "cells": [
  {
   "cell_type": "markdown",
   "metadata": {},
   "source": [
    "<p>There are two main types of tree traversals. The first is called depth-first search (DFS). For binary trees specifically, there are 3 ways to perform DFS - preorder, inorder, and postorder (don't worry though, the type you choose rarely matters). The other main type of traversal is called breadth-first search (BFS). Let's start by looking at DFS.</p>\n",
    "<h3 id=\"depth-first-search-dfs\">Depth-first search (DFS)</h3>\n",
    "<blockquote>\n",
    "<p>Recall that the depth of a node is its distance from the root. </p>\n",
    "</blockquote>"
   ]
  },
  {
   "cell_type": "markdown",
   "metadata": {},
   "source": [
    "<blockquote>\n",
    "<p>Each call to <code>dfs(node)</code> is visiting that <code>node</code>. As you can see in the code, we visit the left child before visiting the right child.</p>\n",
    "</blockquote>\n",
    "\n",
    "### <span style=\"color:red\"> During the DFS, many calls to `dfs` exist <strong>SIMULTANEOUSLY</strong> with their own versions of `node`</span>"
   ]
  },
  {
   "cell_type": "code",
   "execution_count": 27,
   "metadata": {},
   "outputs": [],
   "source": [
    "def dfs(node):\n",
    "    # Base Case\n",
    "    if node == None:\n",
    "        return\n",
    "    \n",
    "    # If the tree is not empty\n",
    "    dfs(node.left)\n",
    "    dfs(node.right)\n",
    "    return\n"
   ]
  },
  {
   "cell_type": "markdown",
   "metadata": {},
   "source": [
    "<p>The most important thing to understand when it comes to solving binary tree problems is that <strong>each function call solves and returns the answer to the original problem as if the subtree rooted at the current node was the input</strong>. The logic that will be done at each call (step 2) will depend on the problem.</p>\n",
    "<p>We mentioned that there are three types of DFS. Each of the three types differs only in the order that they execute steps 2/3.</p>\n",
    "<hr>\n",
    "<p><strong>Preorder traversal</strong></p>\n",
    "<p>In preorder traversal, logic is done on the current node before moving to the children. Let's say that we wanted to just print the value of each node in the tree to the console. In that case, at any given node, we would print the current node's value, then recursively call the left child, then recursively call the right child.<p><strong>Preorder traversal</strong></p></p>"
   ]
  },
  {
   "cell_type": "code",
   "execution_count": 28,
   "metadata": {},
   "outputs": [],
   "source": [
    "import sys\n",
    "import os\n",
    "\n",
    "parent_dir = os.path.abspath(os.path.join(os.getcwd(), '..', '..'))\n",
    "if parent_dir not in sys.path:\n",
    "    sys.path.insert(0, parent_dir)"
   ]
  },
  {
   "cell_type": "code",
   "execution_count": 46,
   "metadata": {},
   "outputs": [],
   "source": [
    "from typing import Optional\n",
    "\n",
    "class TreeNode:\n",
    "    def __init__(self, val: int = 0, left: Optional['TreeNode'] = None, right: Optional['TreeNode'] = None):\n",
    "        self.val = val\n",
    "        self.left = left\n",
    "        self.right = right\n",
    "        \n",
    "    def __repr__(self):\n",
    "        return f\"Val = {self.val}\""
   ]
  },
  {
   "cell_type": "code",
   "execution_count": 30,
   "metadata": {},
   "outputs": [],
   "source": [
    "def preorder_dfs(node: TreeNode):\n",
    "    if not node:\n",
    "        return\n",
    "    \n",
    "    print(node.val)\n",
    "    preorder_dfs(node.left)\n",
    "    preorder_dfs(node.right)\n",
    "    return"
   ]
  },
  {
   "cell_type": "code",
   "execution_count": 31,
   "metadata": {},
   "outputs": [],
   "source": [
    "n3 = TreeNode(3, None, None)            # Leaf 3\n",
    "n6 = TreeNode(6, None, None)            # Leaf 6\n",
    "n5 = TreeNode(5, None, None)            # Leaf 5\n",
    "\n",
    "n4 = TreeNode(4, None, n6)\n",
    "n1 = TreeNode(1, n3, n4)\n",
    "n2 = TreeNode(2, None, n5)\n",
    "\n",
    "root = TreeNode(0, n1, n2)"
   ]
  },
  {
   "cell_type": "code",
   "execution_count": 32,
   "metadata": {},
   "outputs": [
    {
     "name": "stdout",
     "output_type": "stream",
     "text": [
      "0\n",
      "1\n",
      "3\n",
      "4\n",
      "6\n",
      "2\n",
      "5\n"
     ]
    }
   ],
   "source": [
    "preorder_dfs(root)"
   ]
  },
  {
   "cell_type": "markdown",
   "metadata": {},
   "source": [
    "<hr>\n",
    "<p><strong>Inorder traversal</strong></p>\n",
    "<p>For inorder traversal, we first recursively call the left child, then perform logic (print in this case) on the current node, and then recursively call the right child. This means no logic will be done until we reach a node without a left child since calling on the left child takes priority over performing logic.</p>"
   ]
  },
  {
   "cell_type": "code",
   "execution_count": 33,
   "metadata": {},
   "outputs": [],
   "source": [
    "def inorder_dfs(node):\n",
    "    if not node:\n",
    "        return\n",
    "\n",
    "    inorder_dfs(node.left)\n",
    "    print(node.val)\n",
    "    inorder_dfs(node.right)\n",
    "    return"
   ]
  },
  {
   "cell_type": "code",
   "execution_count": 34,
   "metadata": {},
   "outputs": [
    {
     "name": "stdout",
     "output_type": "stream",
     "text": [
      "3\n",
      "1\n",
      "4\n",
      "6\n",
      "0\n",
      "2\n",
      "5\n"
     ]
    }
   ],
   "source": [
    "inorder_dfs(root)"
   ]
  },
  {
   "cell_type": "markdown",
   "metadata": {},
   "source": [
    "<hr>\n",
    "<p><strong>Postorder traversal</strong></p>\n",
    "<p>In postorder traversal, we recursively call on the children first and then perform logic on the current node. This means no logic will be done until we reach a leaf node since calling on the children takes priority over performing logic. In a postorder traversal, the root is the last node where logic is done.</p>"
   ]
  },
  {
   "cell_type": "code",
   "execution_count": 35,
   "metadata": {},
   "outputs": [],
   "source": [
    "def postorder_dfs(node):\n",
    "    if not node:\n",
    "        return\n",
    "\n",
    "    postorder_dfs(node.left)\n",
    "    postorder_dfs(node.right)\n",
    "    print(node.val)\n",
    "    return"
   ]
  },
  {
   "cell_type": "code",
   "execution_count": 36,
   "metadata": {},
   "outputs": [
    {
     "name": "stdout",
     "output_type": "stream",
     "text": [
      "3\n",
      "6\n",
      "4\n",
      "1\n",
      "5\n",
      "2\n",
      "0\n"
     ]
    }
   ],
   "source": [
    "postorder_dfs(root)"
   ]
  },
  {
   "cell_type": "markdown",
   "metadata": {},
   "source": [
    "<blockquote>\n",
    "<p>The name of each traversal is describing when the current node's logic is performed.</p>\n",
    "<p>Pre -&gt; before children</p>\n",
    "<p>In -&gt; in the middle of children</p>\n",
    "<p>Post -&gt; after children</p>\n",
    "</blockquote>\n",
    "<hr>\n",
    "<h3 id=\"solving-problems-with-dfs\">Solving problems with DFS</h3>"
   ]
  },
  {
   "cell_type": "markdown",
   "metadata": {},
   "source": [
    "<blockquote>\n",
    "<p>Example 1: <a href=\"https://leetcode.com/problems/maximum-depth-of-binary-tree/\" target=\"_blank\">104. Maximum Depth of Binary Tree</a></p>\n",
    "<p>Given the <code>root</code> of a binary tree, find the length of the longest path from the root to a leaf.</p>\n",
    "</blockquote>"
   ]
  },
  {
   "cell_type": "code",
   "execution_count": 37,
   "metadata": {},
   "outputs": [],
   "source": [
    "class Solution:\n",
    "    def maxDepth(self, root: Optional[TreeNode]) -> int:\n",
    "        if not root:\n",
    "            return 0\n",
    "        \n",
    "        # simply assume that the function does something (has a child)\n",
    "        left_path = self.maxDepth(root.left)\n",
    "        right_path = self.maxDepth(root.right)\n",
    "        \n",
    "        return max(left_path, right_path) +1"
   ]
  },
  {
   "cell_type": "markdown",
   "metadata": {},
   "source": [
    "<p><strong>What about an iterative implementation?</strong></p>\n",
    "<p>To implement DFS iteratively, we need to use a stack. We don't have the return values to store the depths, so we will instead need to associate the current depth with each node on the stack. The method for pairing the values will depend on the language you are using. Of the most popular languages, it's easiest in Python as you can just store tuple literals in the stack. In other languages like Java, you need to use two stacks or create a pair object or some other method.</p>\n",
    "\n",
    "<u>Just going to store `tuples` of the `path` taken</u>"
   ]
  },
  {
   "cell_type": "code",
   "execution_count": 38,
   "metadata": {},
   "outputs": [],
   "source": [
    "class Solution:\n",
    "    def maxDepth(self, root: Optional[TreeNode]) -> int:\n",
    "        if not root:\n",
    "            return 0\n",
    "        \n",
    "        stack = [(root, 1)]\n",
    "        ans = 0\n",
    "        \n",
    "        while stack:\n",
    "            node, depth = stack.pop()\n",
    "            ans = max(ans, depth)\n",
    "            if node.left:\n",
    "                stack.append((node.left, depth + 1))            # If there is a left node, increase depth by 1\n",
    "            if node.right:\n",
    "                stack.append((node.right, depth + 1))           # If there is a right node, increase depth by 1\n",
    "                \n",
    "        return ans"
   ]
  },
  {
   "cell_type": "code",
   "execution_count": 47,
   "metadata": {},
   "outputs": [
    {
     "data": {
      "text/plain": [
       "3"
      ]
     },
     "execution_count": 47,
     "metadata": {},
     "output_type": "execute_result"
    }
   ],
   "source": [
    "    sol = Solution()\n",
    "    \n",
    "    n15 = TreeNode(15)\n",
    "    n7 = TreeNode(7)\n",
    "    \n",
    "    n9 = TreeNode(9)\n",
    "    n20 = TreeNode(20, n15, n7)\n",
    "    \n",
    "    root = TreeNode(3, n9, n20)\n",
    "    \n",
    "    sol.maxDepth(root)"
   ]
  },
  {
   "cell_type": "markdown",
   "metadata": {},
   "source": [
    "<blockquote>\n",
    "<p>Important note regarding iterative implementations: in the code, we are adding <code>node.left</code> before <code>node.right</code>. Popping from a stack removes the most recently added element, thus we are actually visiting the right subtree first in the above code. In the recursive implementations, we visit the left subtree first. This difference is irrelevant in this problem because the only thing that matters is that we visit all nodes, regardless of order. However, it is still good to understand that when working iteratively, the visit order is opposite the insertion order.</p>\n",
    "</blockquote>"
   ]
  },
  {
   "cell_type": "markdown",
   "metadata": {},
   "source": [
    "<hr>\n",
    "<blockquote>\n",
    "<p>Example 2: <a href=\"https://leetcode.com/problems/path-sum/\" target=\"_blank\">112. Path Sum</a></p>\n",
    "<p>Given the <code>root</code> of a binary tree and an integer <code>targetSum</code>, return <code>true</code> if there exists a path from the root to a leaf such that the sum of the nodes on the path is equal to <code>targetSum</code>, and return <code>false</code> otherwise.</p>\n",
    "</blockquote>"
   ]
  },
  {
   "cell_type": "markdown",
   "metadata": {},
   "source": [
    "1) <p>First, what information do we need at each function call? We need the current node, but do we need anything else? If we also keep an integer <code>curr</code> that represents the current sum of the nodes from the root to the current node, we can check this value against <code>targetSum</code> when we find a leaf. Thus, let's have a helper function <code>dfs(node, curr)</code> that returns <code>true</code> if there is a path starting at <code>node</code> and ending at a leaf with a sum equal to <code>targetSum</code>, if we already have <code>curr</code> contributed towards the sum.</p>\n",
    "\n",
    "2) <p>What are the base cases? First of all, if we have an empty tree, we can't have a path as there are no nodes, so return <code>false</code>. If we are at a leaf node (which we can check by seeing if both children are <code>null</code>), then return <code>(curr + node.val) == targetSum</code>.</p>"
   ]
  },
  {
   "cell_type": "markdown",
   "metadata": {},
   "source": [
    "<p>Otherwise, if we are not at a leaf, we could either continue down the left path or the right path. We only need one path to equal <code>targetSum</code>, so return <code>true</code> if <strong>either</strong> works. Don't forget to add the current node's value to <code>curr</code>.</p>"
   ]
  },
  {
   "cell_type": "code",
   "execution_count": 48,
   "metadata": {},
   "outputs": [],
   "source": [
    "class Solution:\n",
    "    def hasPathSum(self, root: Optional[TreeNode], targetSum: int) -> bool:\n",
    "        def dfs(node, curr):\n",
    "            if not node:\n",
    "                return False\n",
    "            \n",
    "            # if both children are null, then the node is a leaf\n",
    "            if node.left == None and node.right == None:\n",
    "                return (curr + node.val) == targetSum\n",
    "            \n",
    "            curr += node.val\n",
    "            left = dfs(node.left, curr)\n",
    "            right = dfs(node.right, curr)\n",
    "            return left or right\n",
    "        \n",
    "        return dfs(root, 0)"
   ]
  },
  {
   "cell_type": "markdown",
   "metadata": {},
   "source": [
    "### <u>Iterative Approach</u>\n",
    "    - Only do it if the interviewer asks for it"
   ]
  },
  {
   "cell_type": "code",
   "execution_count": 49,
   "metadata": {},
   "outputs": [],
   "source": [
    "class Solution:\n",
    "    def hasPathSum(self, root: Optional[TreeNode], targetSum: int) -> bool:\n",
    "        if not root:\n",
    "            return False\n",
    "\n",
    "        stack = [(root, 0)]\n",
    "        while stack:\n",
    "            node, curr = stack.pop()\n",
    "            # if both children are null, then the node is a leaf\n",
    "            if node.left == None and node.right == None:\n",
    "                if (curr + node.val) == targetSum:\n",
    "                    return True\n",
    "\n",
    "            curr += node.val\n",
    "            if node.left:\n",
    "                stack.append((node.left, curr))\n",
    "            if node.right:\n",
    "                stack.append((node.right, curr))\n",
    "\n",
    "        return False"
   ]
  },
  {
   "cell_type": "markdown",
   "metadata": {},
   "source": [
    "<blockquote>\n",
    "<p>Example 3: <a href=\"https://leetcode.com/problems/count-good-nodes-in-binary-tree/\" target=\"_blank\">1448. Count Good Nodes in Binary Tree</a></p>\n",
    "<p>Given the <code>root</code> of a binary tree, find the number of nodes that are <strong>good</strong>. A node is good if the path between the root and the node has no nodes with a greater value.</p>\n",
    "</blockquote>"
   ]
  },
  {
   "cell_type": "code",
   "execution_count": null,
   "metadata": {},
   "outputs": [],
   "source": [
    "class Solution:\n",
    "    def goodNodes(self, root: TreeNode) -> int:\n",
    "        def dfs(node, max_so_far):\n",
    "            if not node:\n",
    "                return 0\n",
    "            \n",
    "            left = dfs(node.left, max(max_so_far, node.val))\n",
    "            right = dfs(node.right, max(max_so_far, node.val))\n",
    "            ans = left + right\n",
    "            if node.val >= max_so_far:\n",
    "                ans += 1\n",
    "\n",
    "            return ans\n",
    "\n",
    "        return dfs(root, float(\"-inf\"))"
   ]
  },
  {
   "cell_type": "markdown",
   "metadata": {},
   "source": [
    "### Iterative Approach"
   ]
  },
  {
   "cell_type": "code",
   "execution_count": null,
   "metadata": {},
   "outputs": [],
   "source": [
    "class Solution:\n",
    "    def goodNodes(self, root: TreeNode) -> int:\n",
    "        if not root:\n",
    "            return 0\n",
    "        \n",
    "        stack = [(root, float(\"-inf\"))]\n",
    "        ans = 0\n",
    "        \n",
    "        while stack:\n",
    "            node, max_so_far = stack.pop()\n",
    "            if node.val >= max_so_far:\n",
    "                ans += 1\n",
    "            \n",
    "            if node.left:\n",
    "                stack.append((node.left, max(max_so_far, node.val)))\n",
    "            if node.right:\n",
    "                stack.append((node.right, max(max_so_far, node.val)))\n",
    "        \n",
    "        return ans"
   ]
  },
  {
   "cell_type": "markdown",
   "metadata": {},
   "source": [
    "<blockquote>\n",
    "<p>Example 4: <a href=\"https://leetcode.com/problems/same-tree/\" target=\"_blank\">100. Same Tree</a></p>\n",
    "<p>Given the roots of two binary trees <code>p</code> and <code>q</code>, check if they are the same tree. Two binary trees are the same tree if they are structurally identical and the nodes have the same values.</p>\n",
    "</blockquote>"
   ]
  },
  {
   "cell_type": "code",
   "execution_count": 50,
   "metadata": {},
   "outputs": [],
   "source": [
    "class Solution:\n",
    "    def isSameTree(self, p: TreeNode, q: TreeNode) -> bool:\n",
    "        if p == None and q == None:\n",
    "            return True\n",
    "        \n",
    "        if p == None or q == None:\n",
    "            return False\n",
    "        \n",
    "        if p.val != q.val:\n",
    "            return False\n",
    "        \n",
    "        left = self.isSameTree(p.left, q.left)\n",
    "        right = self.isSameTree(p.right, q.right)\n",
    "        return left and right"
   ]
  },
  {
   "cell_type": "markdown",
   "metadata": {},
   "source": [
    "### Iterative Approach"
   ]
  },
  {
   "cell_type": "code",
   "execution_count": 51,
   "metadata": {},
   "outputs": [],
   "source": [
    "class Solution:\n",
    "    def isSameTree(self, p: TreeNode, q: TreeNode) -> bool:\n",
    "        stack = [(p, q)]\n",
    "        while stack:\n",
    "            p, q = stack.pop()\n",
    "            if p == None and q == None:\n",
    "                continue\n",
    "            \n",
    "            if p == None or q == None:\n",
    "                return False\n",
    "            \n",
    "            if p.val != q.val:\n",
    "                return False\n",
    "            \n",
    "            stack.append((p.left, q.left))\n",
    "            stack.append((p.right, q.right))\n",
    "            \n",
    "        return True\n"
   ]
  },
  {
   "cell_type": "markdown",
   "metadata": {},
   "source": [
    "<blockquote>\n",
    "<p><strong>Note</strong>: If you are having trouble understanding the following problem and solution, please do not feel discouraged! The problem was going to be removed from the course as it is significantly more difficult than the other examples we have looked at.</p>\n",
    "<p>We have only kept it in the course as a \"bonus\" since it is a <a href=\"https://en.wikipedia.org/wiki/Lowest_common_ancestor\" target=\"_blank\">classic problem</a>.</p>\n",
    "<p>Bonus example: <a href=\"https://leetcode.com/problems/lowest-common-ancestor-of-a-binary-tree/\" target=\"_blank\">236. Lowest Common Ancestor of a Binary Tree</a></p>\n",
    "<p>Given the <code>root</code> of a binary tree and two nodes <code>p</code> and <code>q</code> that are in the tree, return the <strong>lowest common ancestor (LCA)</strong> of the two nodes. The LCA is the lowest node in the tree that has both <code>p</code> and <code>q</code> as descendants (note: a node is a descendant of itself).</p>\n",
    "</blockquote>"
   ]
  },
  {
   "cell_type": "code",
   "execution_count": 52,
   "metadata": {},
   "outputs": [],
   "source": [
    "class Solution:\n",
    "    def lowestCommonAncestor(self, root: 'TreeNode', p: 'TreeNode', q: 'TreeNode') -> 'TreeNode':\n",
    "        if not root:\n",
    "            return None\n",
    "        \n",
    "        # first case\n",
    "        if root == p or root == q:\n",
    "            return root\n",
    "        \n",
    "        left = self.lowestCommonAncestor(root.left, p, q)\n",
    "        right = self.lowestCommonAncestor(root.right, p, q)\n",
    "        # second case\n",
    "        if left and right:\n",
    "            return root\n",
    "        \n",
    "        # third case\n",
    "        if left:\n",
    "            return left\n",
    "        \n",
    "        return right"
   ]
  }
 ],
 "metadata": {
  "kernelspec": {
   "display_name": "Python 3",
   "language": "python",
   "name": "python3"
  },
  "language_info": {
   "codemirror_mode": {
    "name": "ipython",
    "version": 3
   },
   "file_extension": ".py",
   "mimetype": "text/x-python",
   "name": "python",
   "nbconvert_exporter": "python",
   "pygments_lexer": "ipython3",
   "version": "3.13.3"
  }
 },
 "nbformat": 4,
 "nbformat_minor": 2
}
