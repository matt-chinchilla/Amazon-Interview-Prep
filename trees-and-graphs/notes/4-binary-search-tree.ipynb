{
 "cells": [
  {
   "cell_type": "markdown",
   "metadata": {},
   "source": [
    "<blockquote>\n",
    "<p>Example 1: <a href=\"https://leetcode.com/problems/range-sum-of-bst/\" target=\"_blank\">938. Range Sum of BST</a></p>\n",
    "<p>Given the <code>root</code> node of a <strong>binary search tree</strong> and two integers <code>low</code> and <code>high</code>, return the sum of values of all nodes with a value in the inclusive range [low, high].</p>\n",
    "</blockquote>"
   ]
  },
  {
   "cell_type": "code",
   "execution_count": 1,
   "metadata": {},
   "outputs": [],
   "source": [
    "from typing import Optional, List\n",
    "from collections import deque\n",
    "\n",
    "class TreeNode:\n",
    "    def __init__(self, val: int = 0, left: Optional['TreeNode'] = None, right: Optional['TreeNode'] = None):\n",
    "        self.val = val\n",
    "        self.left = left\n",
    "        self.right = right\n",
    "        \n",
    "    def __repr__(self):\n",
    "        return f\"Val = {self.val}\"\n",
    "    \n",
    "def build_tree_from_list(values: List[Optional[int]]) -> Optional[TreeNode]:\n",
    "    if not values or values[0] is None:\n",
    "        return None\n",
    "    root = TreeNode(values[0])\n",
    "    queue = deque([root])\n",
    "    i = 1\n",
    "    while queue and i < len(values):\n",
    "        node = queue.popleft()\n",
    "        if i < len(values) and values[i] is not None:\n",
    "            node.left = TreeNode(values[i])#type:ignore\n",
    "            queue.append(node.left)\n",
    "        i += 1\n",
    "        if i < len(values) and values[i] is not None:\n",
    "            node.right = TreeNode(values[i])#type:ignore\n",
    "            queue.append(node.right)\n",
    "        i += 1\n",
    "    return root"
   ]
  },
  {
   "cell_type": "code",
   "execution_count": 2,
   "metadata": {},
   "outputs": [],
   "source": [
    "class Solution:\n",
    "    def rangeSumBinarySearchTree(self, root, low: int, high: int) -> int:\n",
    "        ans = 0\n",
    "        if low <= root.val <= high:\n",
    "            ans += root.val\n",
    "        \n",
    "        if low < root.val:\n",
    "            ans += self.rangeSumBinarySearchTree(root.left, low, high)\n",
    "        \n",
    "        if root.val < high:\n",
    "            ans += self.rangeSumBinarySearchTree(root.left, low, high)\n",
    "            \n",
    "        return ans"
   ]
  },
  {
   "cell_type": "markdown",
   "metadata": {},
   "source": [
    "<blockquote>\n",
    "<p>Example 2: <a href=\"https://leetcode.com/problems/minimum-absolute-difference-in-bst/\" target=\"_blank\">530. Minimum Absolute Difference in BST</a></p>\n",
    "<p>Given the <code>root</code> of a BST, return the minimum absolute difference between the values of any two different nodes in the tree.</p>\n",
    "</blockquote>"
   ]
  },
  {
   "cell_type": "code",
   "execution_count": 3,
   "metadata": {},
   "outputs": [],
   "source": [
    "class Solution:\n",
    "    def getMinimumDifference(self, root: Optional[TreeNode]) -> int:\n",
    "        def dfs(node):\n",
    "            if not node:\n",
    "                return\n",
    "\n",
    "            left = dfs(node.left)\n",
    "            values.append(node.val)\n",
    "            right = dfs(node.right)\n",
    "            \n",
    "        values = []\n",
    "        dfs(root)\n",
    "        ans = float(\"inf\")\n",
    "        for i in range(1, len(values)):\n",
    "            ans = min(ans, values[i] - values[i-1])\n",
    "            \n",
    "        return ans"
   ]
  },
  {
   "cell_type": "markdown",
   "metadata": {},
   "source": [
    "<blockquote>\n",
    "<p>Example 3: <a href=\"https://leetcode.com/problems/validate-binary-search-tree/\" target=\"_blank\">98. Validate Binary Search Tree</a></p>\n",
    "<p>Given the <code>root</code> of a binary tree, determine if it is a valid BST.</p>\n",
    "</blockquote>"
   ]
  },
  {
   "cell_type": "code",
   "execution_count": 4,
   "metadata": {},
   "outputs": [],
   "source": [
    "class Solution:\n",
    "    def isValidBST(self, root: Optional[TreeNode]) -> bool:\n",
    "        def dfs(node, small, large):\n",
    "            if not node:\n",
    "                return True\n",
    "            \n",
    "            if not (small < node.val < large):\n",
    "                return False\n",
    "            \n",
    "            left = dfs(node.left, small, node.val)\n",
    "            right = dfs(node.right, node.val, large)\n",
    "            \n",
    "            return left and right #both need to be valid\n",
    "        \n",
    "        return dfs(root, float(\"-inf\"), float(\"inf\"))"
   ]
  }
 ],
 "metadata": {
  "kernelspec": {
   "display_name": "Python 3",
   "language": "python",
   "name": "python3"
  },
  "language_info": {
   "codemirror_mode": {
    "name": "ipython",
    "version": 3
   },
   "file_extension": ".py",
   "mimetype": "text/x-python",
   "name": "python",
   "nbconvert_exporter": "python",
   "pygments_lexer": "ipython3",
   "version": "3.13.3"
  }
 },
 "nbformat": 4,
 "nbformat_minor": 2
}
