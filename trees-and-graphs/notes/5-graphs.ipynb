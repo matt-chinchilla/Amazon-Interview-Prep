{
 "cells": [
  {
   "cell_type": "markdown",
   "metadata": {},
   "source": [
    "####  <u>**Definitions**</u>\n",
    "1. <span style=\"color: red\">Directed Edges</span> → <u>Can only traverse in **one direction** (`A → B`, not `B → A`)</u>\n",
    "2. <span style=\"color: red\">Undirected Edges</span> → <u>Can traverse in **both directions** (`A <---> B`)</u>\n",
    "3. <span style=\"color: red\">Connected component</span> → <u>Simply a cluster of nodes that are all connected</u>\n",
    "4. <span style=\"color: red\">Indegree</span> → <u>Number of edges that are pointing IN TO a node</u>\n",
    "5. <span style=\"color: red\">Outdegree</span> → <u>Number of edges that are pointing OUT OF a node</u>\n",
    "6. <span style=\"color:red\">Neighbors</span> → <u>Nodes that are connected by an edge</u>\n",
    "    - Ex: Given `A <-> B <-> C` ⇒ `A` is neighbors with `B` | `C` is neighbors with `B`| but `A` and `C` are not neighbors"
   ]
  },
  {
   "cell_type": "markdown",
   "metadata": {},
   "source": [
    "<hr>\n",
    "\n",
    "#### Building a graph from an array of edges:"
   ]
  },
  {
   "cell_type": "code",
   "execution_count": 1,
   "metadata": {},
   "outputs": [],
   "source": [
    "from collections import defaultdict\n",
    "\n",
    "def build_graph(edges):\n",
    "    graph = defaultdict(list)\n",
    "    for x, y in edges:\n",
    "        graph[x].append(y)\n",
    "        # graph[y].append(x)\n",
    "        # This is for if the graph is undirected\n",
    "    return graph"
   ]
  }
 ],
 "metadata": {
  "kernelspec": {
   "display_name": "Python 3",
   "language": "python",
   "name": "python3"
  },
  "language_info": {
   "codemirror_mode": {
    "name": "ipython",
    "version": 3
   },
   "file_extension": ".py",
   "mimetype": "text/x-python",
   "name": "python",
   "nbconvert_exporter": "python",
   "pygments_lexer": "ipython3",
   "version": "3.13.3"
  }
 },
 "nbformat": 4,
 "nbformat_minor": 2
}
