{
 "cells": [
  {
   "cell_type": "markdown",
   "metadata": {},
   "source": [
    "<blockquote>\n",
    "<p>Example 1: <a href=\"https://leetcode.com/problems/open-the-lock/\" target=\"_blank\">752. Open the Lock</a></p>\n",
    "<p>You have a lock with 4 circular wheels. Each wheel has the digits <code>0</code> to <code>9</code>. The wheels rotate and wrap around - so <code>0</code> can turn to <code>9</code> and <code>9</code> can turn to <code>0</code>. Initially, the lock reads <code>\"0000\"</code>. One move consists of turning a wheel one slot. You are given an array of blocked codes <code>deadends</code> - if the lock reads any of these codes, then it can no longer turn. Return the minimum number of moves to make the lock read <code>target</code>.</p>\n",
    "</blockquote>\n",
    "\n",
    "1) Perform a BFS from `0000`\n",
    "2) Turn `deadends` into a set before starting **BFS**\n",
    "3) Loop over each of the <u>4 slots</u>\n",
    "4) At each slot, `increment` and `decrement` the slot by `1`\n",
    "5) Put all the blocked codes from `deadends` in `seen` before starting BFS"
   ]
  },
  {
   "cell_type": "code",
   "execution_count": 3,
   "metadata": {},
   "outputs": [],
   "source": [
    "from typing import List\n",
    "from collections import deque\n",
    "\n",
    "class Solution:\n",
    "    def openLock(self, deadends: List[str], target: str) -> int:\n",
    "        breakpoint()\n",
    "        def neighbors(node):\n",
    "            ans = []\n",
    "            for i in range(4):\n",
    "                num = int(node[i])\n",
    "                for change in [-1, 1]:\n",
    "                    x = (num + change) % 10\n",
    "                    ans.append(node[:i] + str(x) + node[i + 1:])\n",
    "            \n",
    "            return ans\n",
    "        \n",
    "        if \"0000\" in deadends:\n",
    "            return -1\n",
    "        \n",
    "        queue = deque([(\"0000\", 0)])\n",
    "        seen = set(deadends)\n",
    "        seen.add(\"0000\")\n",
    "        \n",
    "        while queue:\n",
    "            node, steps = queue.popleft()\n",
    "            if node == target:\n",
    "                return steps\n",
    "            \n",
    "            for neighbor in neighbors(node):\n",
    "                if neighbor not in seen:\n",
    "                    seen.add(neighbor)\n",
    "                    queue.append((neighbor, steps + 1))\n",
    "                    \n",
    "        return -1"
   ]
  },
  {
   "cell_type": "code",
   "execution_count": 4,
   "metadata": {},
   "outputs": [
    {
     "name": "stdout",
     "output_type": "stream",
     "text": [
      "6\n"
     ]
    }
   ],
   "source": [
    "sol = Solution()\n",
    "deadends = [\"0201\",\"0101\",\"0102\",\"1212\",\"2002\"]\n",
    "target = \"0202\"\n",
    "print(sol.openLock(deadends, target))"
   ]
  }
 ],
 "metadata": {
  "kernelspec": {
   "display_name": "Python 3",
   "language": "python",
   "name": "python3"
  },
  "language_info": {
   "codemirror_mode": {
    "name": "ipython",
    "version": 3
   },
   "file_extension": ".py",
   "mimetype": "text/x-python",
   "name": "python",
   "nbconvert_exporter": "python",
   "pygments_lexer": "ipython3",
   "version": "3.13.3"
  }
 },
 "nbformat": 4,
 "nbformat_minor": 2
}
