{
 "cells": [
  {
   "cell_type": "markdown",
   "metadata": {},
   "source": [
    "<h3 id=\"what-is-a-tree\">What is a tree?</h3>\n",
    "<p>Like a linked list, a <strong>tree</strong> is a type of graph. Also like a linked list, there are multiple types of trees. In this course, we will be focusing on <strong>binary trees</strong>. Let's take a look at what a binary tree is.</p>\n",
    "<blockquote>\n",
    "<p>Recall that the start of a linked list was called the <strong>head</strong>. The start of a binary tree is called the <strong>root</strong>.</p>\n",
    "</blockquote>\n",
    "\n",
    "<p>In a linked list, a node's pointer pointed to the <strong>next</strong> node. In a tree, a node has pointers to its <strong>children</strong>. If a node <code>A</code> is pointing to a node <code>B</code>, then <code>B</code> is a <strong>child</strong> of <code>A</code>, and <code>A</code> is the <strong>parent</strong> of <code>B</code>. The <strong>root</strong> is the only node that has no <strong>parent</strong>. Note that in a tree, a node cannot have more than one parent.</p>"
   ]
  },
  {
   "cell_type": "markdown",
   "metadata": {},
   "source": [
    "<hr>\n",
    "<h3 id=\"tree-terminology\">Tree terminology</h3>\n",
    "<p>The <strong>root</strong> node is the node at the \"top\" of the tree. Every node in the tree is accessible starting from the root node. In most tree questions, the <code>root</code> of the tree will be given as the input, just like how in linked lists, the <code>head</code> was given as the input.</p>\n",
    "<p>If you have a node <code>A</code> with an edge to a node <code>B</code>, so <code>A -&gt; B</code>, we call <code>A</code> the <strong>parent</strong> of node <code>B</code>, and node <code>B</code> a <strong>child</strong> of node <code>A</code>.</p>\n",
    "<p>If a node has no children, it is called a <strong>leaf</strong> node. The leaf nodes are the <strong>leaves</strong> of the tree.</p>\n",
    "<p>The <strong>depth</strong> of a node is how far it is from the root node. The root has a depth of <code>0</code>. Every child has a depth of <code>parentsDepth + 1</code>, so the root's children have a depth of 1, their children have a depth of 2, and so on.</p>\n",
    "<p>Lastly, perhaps the most important thing to understand: a <strong>subtree</strong> of a tree is a node and all its descendants. Trees are recursive - you can treat a subtree as if it was its own tree with the chosen node being the root. What do we mean by this? Let's look at the company example again. The entire company is represented by the tree <strong>rooted</strong> at the CEO. But what if we only cared about the engineering department? Let's say the CTO has a direct report who is an SVP (Senior Vice President) of engineering, and all engineers are under this person. Take this SVP, and separate them from the rest of the company (remove their connection to the CTO). What are you left with? It's still a valid tree, but now the SVP is the <strong>root</strong>! This subtree now represents the engineering department instead of the entire company. This is the most fundamental idea for solving tree problems - <strong>you can take any given node and treat it as its own tree</strong>, which allows you to solve problems in a recursive manner.</p>"
   ]
  },
  {
   "cell_type": "markdown",
   "metadata": {},
   "source": [
    "<p>In binary tree problems, you will be given a reference to the <code>root</code> of a binary tree as the input. You can access the root's left <strong>subtree</strong> with <code>root.left</code> and the root's right <strong>subtree</strong> with <code>root.right</code>. Like with linked lists, each node will also carry a value <code>val</code> as data. In a linked list, the tail (last node) has its <code>next</code> pointer as null. In a binary tree, if a node does not have a left child, then <code>node.left</code> will be <code>null</code>, and vice-versa with the right child. Remember that if both children are null, then the node is a <strong>leaf</strong>.</p>"
   ]
  }
 ],
 "metadata": {
  "kernelspec": {
   "display_name": "Python 3",
   "language": "python",
   "name": "python3"
  },
  "language_info": {
   "name": "python",
   "version": "3.13.3"
  }
 },
 "nbformat": 4,
 "nbformat_minor": 2
}
