{
 "cells": [
  {
   "cell_type": "markdown",
   "metadata": {},
   "source": [
    "#### 5. <u>Reversing a linked list</u>\n",
    "<p>Imagine that we have a linked list <code>1 -&gt; 2 -&gt; 3 -&gt; 4</code>, and we want to return <code>4 -&gt; 3 -&gt; 2 -&gt; 1</code>. Let's say we keep a pointer <code>curr</code> that represents the current node we are at. Starting with <code>curr</code> at the <code>1</code>, we need to get the <code>2</code> to point to <code>curr</code>. The problem is, once we iterate (<code>curr = curr.next</code>) to get to the <code>2</code>, we no longer have a pointer to the <code>1</code> because it is a singly linked list. To get around this, we can use another pointer <code>prev</code> that tracks the previous node.</p>\n",
    "<p>At any given node <code>curr</code>, we can set <code>curr.next = prev</code> to switch the direction of the arrow. Then, we can update <code>prev</code> to be <code>curr</code> in preparation for the next node. However, if we change <code>curr.next</code>, we will lose that next node. To fix this, we can use a temporary variable <code>nextNode</code> to point to the next node before changing any of the other pointers.</p>"
   ]
  },
  {
   "cell_type": "code",
   "execution_count": 7,
   "metadata": {},
   "outputs": [],
   "source": [
    "import sys\n",
    "import os\n",
    "\n",
    "parent_dir = os.path.abspath(os.path.join(os.getcwd(), '..', '..'))\n",
    "if parent_dir not in sys.path:\n",
    "    sys.path.insert(0, parent_dir)"
   ]
  },
  {
   "cell_type": "code",
   "execution_count": 8,
   "metadata": {},
   "outputs": [],
   "source": [
    "from util import ListNode, Optional, LinkedList\n",
    "\n",
    "def reverse_list(head: Optional[ListNode]):\n",
    "    prev = None\n",
    "    curr = head                    \n",
    "    while curr:                     # While is not None\n",
    "        next_node = curr.next       # Null last iteration\n",
    "        curr.next = prev\n",
    "        prev = curr\n",
    "        curr = next_node\n",
    "    \n",
    "    return prev"
   ]
  },
  {
   "cell_type": "code",
   "execution_count": 9,
   "metadata": {},
   "outputs": [
    {
     "name": "stdout",
     "output_type": "stream",
     "text": [
      "<ListNode var=4 at 0x2a0b487eb70 | prev=0x2a0b4915220, next=0x2a0b4915220>\n",
      "<ListNode var=3 at 0x2a0b4915220 | prev=0x2a0b4919750, next=0x2a0b4919750>\n",
      "<ListNode var=2 at 0x2a0b4919750 | prev=0x2a0b4918250, next=0x2a0b4918250>\n",
      "<ListNode var=1 at 0x2a0b4918250 | prev=None, next=None>\n"
     ]
    }
   ],
   "source": [
    "ll = LinkedList()\n",
    "\n",
    "# Append values to the list\n",
    "ll.append(1)\n",
    "ll.append(2)\n",
    "ll.append(3)\n",
    "ll.append(4)\n",
    "\n",
    "reversed_head = reverse_list(ll.head)\n",
    "curr = reversed_head\n",
    "while curr:\n",
    "    print(curr)\n",
    "    curr = curr.next"
   ]
  },
  {
   "cell_type": "markdown",
   "metadata": {},
   "source": [
    "<blockquote>\n",
    "<p>Example: <a href=\"https://leetcode.com/problems/swap-nodes-in-pairs/\" target=\"_blank\">24. Swap Nodes in Pairs</a></p>\n",
    "<p>Given the <code>head</code> of a linked list, swap every pair of nodes. For example, given a linked list <code>1 -&gt; 2 -&gt; 3 -&gt; 4 -&gt; 5 -&gt; 6</code>, return a linked list <code>2 -&gt; 1 -&gt; 4 -&gt; 3 -&gt; 6 -&gt; 5</code>.</p>\n",
    "</blockquote>\n",
    "<ol>\n",
    "<li>\n",
    "<p>Starting with <code>head</code> at node <code>A</code>, we need node <code>B</code> to point here.</p>\n",
    "<ul>\n",
    "<li>We can accomplish this by doing <code>head.next.next = head</code></li>\n",
    "</ul>\n",
    "</li>\n",
    "<li>\n",
    "<p>However, if we change <code>B.next</code>, we will lose access to the rest of the list.</p>\n",
    "<ul>\n",
    "<li>Before applying the change in step 1, save a pointer <code>nextNode = head.next.next</code>.<blockquote>\n",
    "<p>head.next.next is used differently in steps 1 and 2. When it is before the assignment operator (=), it is <strong>changing</strong> head.next's next node. When it is after the assignment, it is <strong>referring</strong> to head.next's next node.</p>\n",
    "</blockquote>\n",
    "</li>\n",
    "</ul>\n",
    "</li>\n",
    "<li>\n",
    "<p>We now have <code>B</code> pointing at <code>A</code>. We need to move on to the next pair <code>C, D</code>. However, <code>A</code> is still pointing at <code>B</code>, which isn't what we want. If we move on to the next pair immediately, we will lose a reference to <code>A</code>, and won't be able to change <code>A.next</code>.</p>\n",
    "<ul>\n",
    "<li>Save <code>A</code> in another pointer with <code>prev = head</code> (we haven't changed <code>head</code> yet so it's still pointing at <code>A</code>).</li>\n",
    "<li>To move to the next pair, do <code>head = nextNode</code>.</li>\n",
    "</ul>\n",
    "</li>\n",
    "<li>\n",
    "<p>Once we move on to the next pair <code>C -&gt; D</code>, we need <code>A</code> to point to <code>D</code>.</p>\n",
    "<ul>\n",
    "<li>Now that <code>head</code> is at <code>C</code>, and <code>prev</code> is at <code>A</code>, we can do <code>prev.next = head.next</code>.</li>\n",
    "</ul>\n",
    "</li>\n",
    "<li>\n",
    "<p>The first pair <code>A, B</code> is fully completed. <code>B</code> points to <code>A</code> and <code>A</code> points to <code>D</code>. When we started, we had <code>head</code> pointing to <code>A</code>. After going through steps 1 - 4, we completed <code>A, B</code>. Right now, we have <code>head</code> pointing to <code>C</code>. If we go through the steps again, we will have complete <code>C, D</code>, and be ready for the next pair. We can just repeat steps 1 - 4 until all pairs are swapped. But what do we return at the end?</p>\n",
    "<ul>\n",
    "<li>Once all the pairs are finished, we need to return <code>B</code>. Unfortunately, we lost the reference to <code>B</code> a long time ago.</li>\n",
    "<li>We can fix this by saving <code>B</code> in a <code>dummy</code> node before starting the algorithm.</li>\n",
    "</ul>\n",
    "</li>\n",
    "<li>\n",
    "<p>What if there is an odd number of nodes? In step 4, we set <code>A.next</code> to <code>C.next</code>. What if there were only 3 nodes, so <code>C.next</code> was null?</p>\n",
    "<ul>\n",
    "<li>Before moving on to the next pair, set <code>head.next = nextNode</code>. This is setting <code>A.next</code> to <code>C</code>.</li>\n",
    "<li>Note that this effect will be overridden by step 4 in the next swap if there is still a pair of nodes remaining.</li>\n",
    "<li>Since in step 2 we do <code>head.next.next</code>, we need our while loop condition to check for both <code>head</code> and <code>head.next</code>. That means if there is only one node left in the list, the while loop will end after the current iteration. As such, this effect wouldn't be overridden.</li>\n",
    "<li>For example, consider the list <code>A -&gt; B -&gt; C -&gt; D</code>. At some point, we have <code>B &lt;-&gt; A C -&gt; D</code>. Here, we perform step 6, and we get <code>B -&gt; A -&gt; C -&gt; D</code>. When we start swapping the pair <code>C, D</code>, step 4 will set <code>A.next</code> to <code>D</code>, which overrides what we just did with step 6. But if <code>D</code> didn't exist, then the iteration would have just ended. In that scenario, we would have <code>B -&gt; A -&gt; C</code>, which is what we want.</li>\n",
    "</ul>\n",
    "</li>\n",
    "</ol>"
   ]
  },
  {
   "cell_type": "code",
   "execution_count": 10,
   "metadata": {},
   "outputs": [],
   "source": [
    "class Solution:\n",
    "    def swapPairs(self, head: Optional[ListNode]) -> Optional[ListNode]:\n",
    "        # Check edge case: linked list has 0 or 1 nodes, just return\n",
    "        if not head or not head.next:\n",
    "            return head\n",
    "\n",
    "        dummy = head.next                                       # Step 5\n",
    "        prev = None                                             # Initialize for step 3\n",
    "        \n",
    "        while head != None and head.next != None:\n",
    "            if prev != None:\n",
    "                prev.next = head.next                           # Step 4\n",
    "            prev = head                                         # Step 3\n",
    "\n",
    "            next_node: Optional[ListNode] = head.next.next      # Step 2\n",
    "            head.next.next = head                               # Step 1\n",
    "\n",
    "            head.next = next_node                               # Step 6\n",
    "            head: Optional[ListNode] = next_node                # Move to next pair (Step 3)\n",
    "\n",
    "        return dummy"
   ]
  },
  {
   "cell_type": "markdown",
   "metadata": {},
   "source": [
    "<hr>\n",
    "\n",
    "<p><a href=\"https://leetcode.com/problems/maximum-twin-sum-of-a-linked-list/\" target=\"_blank\">2130. Maximum Twin Sum of a Linked List</a> asks for the maximum pair sum. The pairs are the first and last node, second and second last node, third and third last node, etc.</p>\n",
    "<p>The trivial solution would be to convert the linked list into an array, that way you can access the pairs easily by indexing. The more elegant <span class=\"maths katex-rendered\"><span class=\"katex\"><span class=\"katex-mathml\"><math><semantics><mrow><mi>O</mi><mo>(</mo><mn>1</mn><mo>)</mo></mrow><annotation encoding=\"application/x-tex\">O(1)</annotation></semantics></math></span><span class=\"katex-html\" aria-hidden=\"true\"><span class=\"base\"><span class=\"strut\" style=\"height: 1em; vertical-align: -0.25em;\"></span><span class=\"mord mathdefault\" style=\"margin-right: 0.02778em;\">O</span><span class=\"mopen\">(</span><span class=\"mord\">1</span><span class=\"mclose\">)</span></span></span></span></span> space solution is as follows:</p>\n",
    "<ol>\n",
    "<li>Find the middle of the linked list using the fast and slow pointer technique from the previous article.</li>\n",
    "<li>Once at the middle of the linked list, perform a reversal. Basically, reverse only the second half of the list.</li>\n",
    "<li>After reversing the second half, every node is spaced <code>n / 2</code> apart from its pair node, where <code>n</code> is the number of nodes in the list which we can find from step 1.</li>\n",
    "<li>With that in mind, create another fast pointer <code>n / 2</code> ahead of <code>slow</code>. Now, just iterate <code>n / 2</code> times from <code>head</code> to find every pair sum <code>slow.val + fast.val</code>.</li>\n",
    "</ol>"
   ]
  },
  {
   "cell_type": "code",
   "execution_count": 11,
   "metadata": {},
   "outputs": [],
   "source": [
    "class Solution:\n",
    "    def pairSum(self, head: Optional[ListNode]) -> int:\n",
    "        def middleNode(head: Optional[ListNode]) -> Optional[ListNode]:\n",
    "            slow = fast = head\n",
    "            \n",
    "            while fast and fast.next:\n",
    "                slow = slow.next\n",
    "                fast = fast.next.next\n",
    "            return slow\n",
    "\n",
    "        def reverse_list(head: Optional[ListNode]):\n",
    "            prev = None\n",
    "            curr = head                    \n",
    "            while curr:                     # While is not None\n",
    "                next_node = curr.next       # Null last iteration\n",
    "                curr.next = prev\n",
    "                prev = curr\n",
    "                curr = next_node\n",
    "            return prev\n",
    "        \n",
    "        middle_start = middleNode(head)\n",
    "        second_half = reverse_list(middle_start)\n",
    "        \n",
    "        first_half = head\n",
    "        ans = 0\n",
    "        \n",
    "        while second_half:\n",
    "            #print(f\"first_half.val = {first_half.val}, second_half.val = {second_half.val}\")\n",
    "            ans = max(ans, first_half.val + second_half.val)\n",
    "            first_half = first_half.next\n",
    "            second_half = second_half.next\n",
    "            \n",
    "        return ans"
   ]
  },
  {
   "cell_type": "code",
   "execution_count": 12,
   "metadata": {},
   "outputs": [],
   "source": [
    "node1 = ListNode(4)\n",
    "node2 = ListNode(2)\n",
    "node3 = ListNode(2)\n",
    "node4 = ListNode(3)\n",
    "\n",
    "node1.next = node2\n",
    "node2.next = node3\n",
    "node2.prev = node1\n",
    "node3.next = node4\n",
    "node3.prev = node2\n",
    "node4.prev = node3\n",
    "\n",
    "sol = Solution()\n",
    "answer = str(sol.pairSum(node1))\n",
    "#print(answer)"
   ]
  }
 ],
 "metadata": {
  "kernelspec": {
   "display_name": "Python 3",
   "language": "python",
   "name": "python3"
  },
  "language_info": {
   "codemirror_mode": {
    "name": "ipython",
    "version": 3
   },
   "file_extension": ".py",
   "mimetype": "text/x-python",
   "name": "python",
   "nbconvert_exporter": "python",
   "pygments_lexer": "ipython3",
   "version": "3.13.3"
  }
 },
 "nbformat": 4,
 "nbformat_minor": 2
}
