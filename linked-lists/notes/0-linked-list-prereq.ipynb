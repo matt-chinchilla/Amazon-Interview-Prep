{
 "cells": [
  {
   "cell_type": "markdown",
   "id": "1cec6974",
   "metadata": {},
   "source": [
    "#### 1) <u>Linked Lists</u>\n",
    "<blockquote>\n",
    "<p>Before starting this chapter, you need to have a basic understanding of object-oriented programming concepts, including classes, objects, and attributes.</p>\n",
    "</blockquote>"
   ]
  },
  {
   "cell_type": "markdown",
   "id": "7dadb90b",
   "metadata": {},
   "source": [
    "##### **Attributes**\n",
    "1) <span style=\"color:red\"> Store state/data </span>"
   ]
  },
  {
   "cell_type": "code",
   "execution_count": 1,
   "id": "f456f463",
   "metadata": {},
   "outputs": [
    {
     "name": "stdout",
     "output_type": "stream",
     "text": [
      "red\n"
     ]
    }
   ],
   "source": [
    "class Car:\n",
    "    def __init__(self, color: str, year: int):\n",
    "        self.color = color      # Instance attribute\n",
    "        self.year = year\n",
    "        \n",
    "c = Car('red', 2025)\n",
    "print(c.color)"
   ]
  },
  {
   "cell_type": "markdown",
   "id": "acc7f82a",
   "metadata": {},
   "source": [
    "- Here `color` and `year` hold the specific data for each `car`\n",
    "\n",
    "2) <span style=\"color:red\"> Provide access to behavior </span>\n",
    "    - *methods* are also attributes"
   ]
  },
  {
   "cell_type": "code",
   "execution_count": 2,
   "id": "3d3d4fb2",
   "metadata": {},
   "outputs": [
    {
     "name": "stdout",
     "output_type": "stream",
     "text": [
      "Vroom!\n"
     ]
    }
   ],
   "source": [
    "class Car:\n",
    "    def drive(self):\n",
    "        print(\"Vroom!\")\n",
    "        \n",
    "c = Car()\n",
    "c.drive()      # drive is an attribute that happens to be a function"
   ]
  },
  {
   "cell_type": "markdown",
   "id": "2eb8c4c0",
   "metadata": {},
   "source": [
    "3) <span style=\"color:red\"> Enable `namespacing` </span>\n",
    "- Class attributes let you share values across all instances"
   ]
  },
  {
   "cell_type": "code",
   "execution_count": null,
   "id": "8efb77c3",
   "metadata": {},
   "outputs": [
    {
     "name": "stdout",
     "output_type": "stream",
     "text": [
      "4 4\n"
     ]
    }
   ],
   "source": [
    "class Car:\n",
    "    wheels = 4     # class attribute\n",
    "print(Car.wheels, c.wheels)  # both → 4"
   ]
  },
  {
   "cell_type": "markdown",
   "id": "1a6a14bf",
   "metadata": {},
   "source": [
    "4) <span style=\"color:red\"> Allow for descriptor protocol and properties </span>\n",
    "- Under the hood, attributes can be managed by special objects (descriptors) to implement things like `@property`, `@staticmethod`, and custom validation.\n",
    "- A `descriptor` ⇒ <u>is an object that defines how to access an attribute. It can be used to manage the behavior of attributes in a class, such as validation or lazy loading.</u>"
   ]
  },
  {
   "cell_type": "code",
   "execution_count": 6,
   "id": "8cb1f30f",
   "metadata": {},
   "outputs": [],
   "source": [
    "class Person:\n",
    "    @property\n",
    "    def full_name(self):\n",
    "        return f\"{self.first} {self.last}\""
   ]
  },
  {
   "cell_type": "code",
   "execution_count": null,
   "id": "214699a9",
   "metadata": {},
   "outputs": [],
   "source": [
    "# Descriptor examples\n",
    "__get__(self, instance, owner)  \n",
    "__set__(self, instance, value)  \n",
    "__delete__(self, instance)  "
   ]
  },
  {
   "cell_type": "markdown",
   "id": "b79e7547",
   "metadata": {},
   "source": [
    "#### 2) <u>Built-in Descriptors</u>\n",
    "- `property` \n",
    "    1) Creates a **getter method** that allows for accessing a method like an attribute **without needing parentheses to do it** (ex: car.`drive()`)\n",
    "\n",
    "    2) `@property` and what it does\n",
    "        - Converts a **method** (ex: `print()`, `str()`) into a **read-only attribute**\n",
    "        - Provides **encapsulation** (controls how data is accessed)\n",
    "        - Maintains a clean syntax (ex: access like `obj.attribute` instead of `obj.get_attribute()`)"
   ]
  },
  {
   "cell_type": "code",
   "execution_count": 10,
   "id": "da902d7b",
   "metadata": {},
   "outputs": [],
   "source": [
    "class Circle:\n",
    "    def __init__(self, radius):\n",
    "        self._radius = radius\n",
    "    \n",
    "    @property\n",
    "    def area(self):\n",
    "        return 3.14159 * self._radius ** 2\n",
    "    \n",
    "    @property\n",
    "    def diameter(self):\n",
    "        return self._radius * 2"
   ]
  },
  {
   "cell_type": "code",
   "execution_count": 11,
   "id": "a640d998",
   "metadata": {},
   "outputs": [
    {
     "name": "stdout",
     "output_type": "stream",
     "text": [
      "78.53975\n",
      "10\n"
     ]
    }
   ],
   "source": [
    "# Usage\n",
    "circle = Circle(5)\n",
    "print(circle.area)\n",
    "print(circle.diameter)"
   ]
  },
  {
   "cell_type": "markdown",
   "id": "a9ff36cb",
   "metadata": {},
   "source": [
    "#### <span style=\"color:red\"> Advanced Usage <span>"
   ]
  },
  {
   "cell_type": "code",
   "execution_count": 15,
   "id": "2d31bfee",
   "metadata": {},
   "outputs": [],
   "source": [
    "class Temperature:\n",
    "    def __init__(self):\n",
    "        self._celsius: int = 0\n",
    "        \n",
    "    @property\n",
    "    def celsius(self):\n",
    "        return self._celsius\n",
    "    \n",
    "    @celsius.setter\n",
    "    def celsius(self, value: int):\n",
    "        if value < -273.15:\n",
    "            raise ValueError(\"Temperature Below Absolute Zero is impossible\")\n",
    "        self._celsius = value\n",
    "        \n",
    "    @property\n",
    "    def farenheit(self):\n",
    "        return(self._celsius * 9/5) + 32\n",
    "    \n",
    "    @farenheit.setter\n",
    "    def farenheit(self, value: int):\n",
    "        self.celsius = (value - 32) * 5/9"
   ]
  },
  {
   "cell_type": "code",
   "execution_count": 16,
   "id": "673db8a8",
   "metadata": {},
   "outputs": [
    {
     "name": "stdout",
     "output_type": "stream",
     "text": [
      "77.0\n",
      "37.77777777777778\n"
     ]
    }
   ],
   "source": [
    "# Usage\n",
    "temp = Temperature()\n",
    "temp.celsius = 25\n",
    "print(temp.farenheit)\n",
    "temp.farenheit = 100\n",
    "print(temp.celsius)"
   ]
  }
 ],
 "metadata": {
  "kernelspec": {
   "display_name": "Python 3",
   "language": "python",
   "name": "python3"
  },
  "language_info": {
   "codemirror_mode": {
    "name": "ipython",
    "version": 3
   },
   "file_extension": ".py",
   "mimetype": "text/x-python",
   "name": "python",
   "nbconvert_exporter": "python",
   "pygments_lexer": "ipython3",
   "version": "3.13.2"
  }
 },
 "nbformat": 4,
 "nbformat_minor": 5
}
