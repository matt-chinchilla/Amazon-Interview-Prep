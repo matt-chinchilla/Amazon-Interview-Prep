{
 "cells": [
  {
   "cell_type": "markdown",
   "metadata": {},
   "source": [
    "#### <u><strong>Fast and slow pointers</strong></u>\n",
    "- 2 pointers means that they **can** move at different \"speeds\", begin at different locations, or any other abstract difference\n",
    "\n",
    "<blockquote>\n",
    "<p>Example 1: Given the head of a linked list with an <strong>odd</strong> number of nodes <code>head</code>, return the value of the node in the middle.</p>\n",
    "<p>For example, given a linked list that represents <code>1 -&gt; 2 -&gt; 3 -&gt; 4 -&gt; 5</code>, return <code>3</code>.</p>\n",
    "</blockquote>\n",
    "\n",
    "- Iterate through it once with a `dummy` pointer to find the `length`, then iterate from the head again once we know the length to find the middle"
   ]
  },
  {
   "cell_type": "code",
   "execution_count": 1,
   "metadata": {},
   "outputs": [],
   "source": [
    "class ListNode:\n",
    "    def __init__(self, val: int):\n",
    "        self.val = val\n",
    "        self.next = None\n",
    "        self.prev = None"
   ]
  },
  {
   "cell_type": "code",
   "execution_count": 2,
   "metadata": {},
   "outputs": [],
   "source": [
    "def get_middle(head: ListNode):\n",
    "    length = 0\n",
    "    dummy = head\n",
    "    \n",
    "    while dummy:\n",
    "        length += 1\n",
    "        dummy = dummy.next\n",
    "        \n",
    "    for _ in range(length // 2):\n",
    "        head = head.next\n",
    "        \n",
    "    return head.val"
   ]
  },
  {
   "cell_type": "markdown",
   "metadata": {},
   "source": [
    "- using the <span style=\"color:red\">fast and slow pointers</span> technique because it is elegant\n",
    "    - Move `slow` pointer 1/2 as fast as `fast` pointer so that by the end, it will be exactly halfway through"
   ]
  },
  {
   "cell_type": "code",
   "execution_count": 3,
   "metadata": {},
   "outputs": [],
   "source": [
    "def get_middle(head: ListNode):\n",
    "    slow = head\n",
    "    fast = head\n",
    "    \n",
    "    while fast and fast.next:\n",
    "        slow = slow.next\n",
    "        fast = fast.next.next\n",
    "        \n",
    "    return slow.val"
   ]
  },
  {
   "cell_type": "markdown",
   "metadata": {},
   "source": [
    "<blockquote>\n",
    "<p>Example 2: <a href=\"https://leetcode.com/problems/linked-list-cycle/\" target=\"_blank\">141. Linked List Cycle</a></p>\n",
    "<p>Given the <code>head</code> of a linked list, determine if the linked list has a cycle.</p>\n",
    "<p>There is a cycle in a linked list if there is some node in the list that can be reached again by continuously following the <code>next</code> pointer.</p>\n",
    "</blockquote>\n",
    "\n",
    "- Basically, all this is is just <span style=\"color:blue\">is the linked list a self-referential <strong>circle</strong></span>?\n",
    "\n",
    "- Solution: <u>Make a fast and a slow pointer so that the fast will lap-over the slow pointer (except at the start)</u>"
   ]
  },
  {
   "cell_type": "code",
   "execution_count": 4,
   "metadata": {},
   "outputs": [],
   "source": [
    "from typing import Optional\n",
    "\n",
    "class Solution:\n",
    "    def hasCycle(self, head: Optional[ListNode]) -> bool:\n",
    "        slow = head\n",
    "        fast = head\n",
    "        \n",
    "        while fast and fast.next:\n",
    "            slow = slow.next\n",
    "            fast = fast.next.next\n",
    "            if slow == fast:\n",
    "                return True\n",
    "            \n",
    "        return False"
   ]
  },
  {
   "cell_type": "markdown",
   "metadata": {},
   "source": [
    "- What about a solution using `hashing`?\n",
    "    - If it is **False** → eventually yields `null` and terminates\n",
    "    - If it does, then it will visit a node twice & can be detected using a `set`"
   ]
  },
  {
   "cell_type": "code",
   "execution_count": 5,
   "metadata": {},
   "outputs": [],
   "source": [
    "class Solution:\n",
    "    def hasCycle(self, head: Optional[ListNode]) -> bool:\n",
    "        seen = set()\n",
    "        while head:             # While head is still equal to None\n",
    "            if head in seen:\n",
    "                return True\n",
    "            seen.add(head)      # Add to set if not seen\n",
    "            head = head.next\n",
    "        return False"
   ]
  },
  {
   "cell_type": "markdown",
   "metadata": {},
   "source": [
    "<blockquote>\n",
    "<p>Example 3: Given the head of a linked list and an integer <code>k</code>, return the <span class=\"maths katex-rendered\"><span class=\"katex\"><span class=\"katex-mathml\"><math><semantics><mrow><msup><mi>k</mi><mrow><mi>t</mi><mi>h</mi></mrow></msup></mrow><annotation encoding=\"application/x-tex\">k^{th}</annotation></semantics></math></span><span class=\"katex-html\" aria-hidden=\"true\"><span class=\"base\"><span class=\"strut\" style=\"height: 0.849108em; vertical-align: 0em;\"></span><span class=\"mord\"><span class=\"mord mathdefault\" style=\"margin-right: 0.03148em;\">k</span><span class=\"msupsub\"><span class=\"vlist-t\"><span class=\"vlist-r\"><span class=\"vlist\" style=\"height: 0.849108em;\"><span class=\"\" style=\"top: -3.063em; margin-right: 0.05em;\"><span class=\"pstrut\" style=\"height: 2.7em;\"></span><span class=\"sizing reset-size6 size3 mtight\"><span class=\"mord mtight\"><span class=\"mord mathdefault mtight\">t</span><span class=\"mord mathdefault mtight\">h</span></span></span></span></span></span></span></span></span></span></span></span></span> node from the end.</p>\n",
    "<p>For example, given the linked list that represents <code>1 -&gt; 2 -&gt; 3 -&gt; 4 -&gt; 5</code> and <code>k = 2</code>, return the node with value <code>4</code>, as it is the 2nd node from the end.</p>\n",
    "</blockquote>\n",
    "\n",
    "- Solution: <u>Seperate the two pointers by a distance of `k` & return the value of the slow one once fast is at the end</u>"
   ]
  },
  {
   "cell_type": "code",
   "execution_count": 6,
   "metadata": {},
   "outputs": [],
   "source": [
    "def findNode(head: Optional['ListNode'], k: int) -> ListNode:\n",
    "        slow = head\n",
    "        fast = head\n",
    "        \n",
    "        for _ in range(k):\n",
    "            fast = fast.next\n",
    "            \n",
    "        while fast:\n",
    "            slow = slow.next\n",
    "            fast = fast.next\n",
    "            \n",
    "        return slow"
   ]
  }
 ],
 "metadata": {
  "kernelspec": {
   "display_name": "Python 3",
   "language": "python",
   "name": "python3"
  },
  "language_info": {
   "codemirror_mode": {
    "name": "ipython",
    "version": 3
   },
   "file_extension": ".py",
   "mimetype": "text/x-python",
   "name": "python",
   "nbconvert_exporter": "python",
   "pygments_lexer": "ipython3",
   "version": "3.13.3"
  }
 },
 "nbformat": 4,
 "nbformat_minor": 2
}
