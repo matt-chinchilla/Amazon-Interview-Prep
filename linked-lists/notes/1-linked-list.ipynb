{
 "cells": [
  {
   "cell_type": "markdown",
   "id": "bf053f7f",
   "metadata": {},
   "source": [
    "#### <u> Linked Lists </u>\n",
    "- <span style=\"color:red\"> **nodes** </span> → <u>Like an element, but with more than 1 piece of data</u>\n",
    "    - Ex: arr = [1, 2, 3] → Each element is a **node** with two pieces of info, so 2nd element is like \n",
    "        - Data: 2\n",
    "        - Index: 1\n",
    "\n",
    "- Making an example class for nodes (memory address of one like [Ox1000 | x5] == [memory address 4096(16³) | integer value of **5**])"
   ]
  },
  {
   "cell_type": "code",
   "execution_count": 2,
   "id": "ff79f1e7",
   "metadata": {},
   "outputs": [
    {
     "name": "stdout",
     "output_type": "stream",
     "text": [
      "1\n",
      "2\n",
      "3\n"
     ]
    }
   ],
   "source": [
    "from typing import Optional\n",
    "\n",
    "class ListNode:\n",
    "    def __init__(self, val: int):\n",
    "        self.val = val                                # value of node (The value of dic.value[1] \n",
    "        self.next: Optional['ListNode'] = None        # Memory address of next node (The value of dic.value['next'] == dic['next]) // Empty unless we assign it\n",
    "        \n",
    "one = ListNode(1)\n",
    "two = ListNode(2)\n",
    "three = ListNode(3)\n",
    "one.next = two\n",
    "two.next = three\n",
    "\n",
    "head: ListNode = one\n",
    "\n",
    "print(head.val)\n",
    "print(head.next.val)\n",
    "print(head.next.next.val)   # Value of the last node"
   ]
  },
  {
   "cell_type": "markdown",
   "id": "5cb6c50d",
   "metadata": {},
   "source": [
    "<hr>\n",
    "\n",
    "#### Notes:\n",
    "- Almost all problems that involve linked lists will have the linked-list as a part of the <span style=\"color:red\"> Input </span> (forced to use it)\n",
    "\n",
    "##### - <span style = \"color:blue\">Advantages</span>\n",
    "1) <u>Main advantages</u>: Add and remove elements at any position in **O(1)**\n",
    "    - Caveat ⇒ *need to reference the node at the **position** (memory address) you want, otherwise ☻6 it will take *O(n)* because we will be iterating over the list\n",
    "    - Iterate starting from `head` until desired position\n",
    "    - Does not have a **fixed size** (arrays too big == resize the array {`expensive`} || not a problem for the linked list)\n",
    "\n",
    "\n",
    "2) <u>Main disadvantages</u>\n",
    "    - No random access (access 150,000th element? → start at `head` and iterate 150k times)\n",
    "    - More overhead than arrays (every element needs extra storage for pointers)\n",
    "\n",
    "- Array has *O(1)* indexing, Linked List requires *O(n)* to access a value at a given index\n",
    "<hr>"
   ]
  },
  {
   "cell_type": "markdown",
   "id": "16c77fcc",
   "metadata": {},
   "source": [
    "#### Mechanics of a linked list\n",
    "\n",
    "##### **Assignment (=)**\n",
    "When you assign a pointer to an existing linked list node, the pointer refers to the object in memory. Let's say you have a node `head`:"
   ]
  },
  {
   "cell_type": "code",
   "execution_count": 4,
   "id": "c42669f9",
   "metadata": {},
   "outputs": [
    {
     "ename": "SyntaxError",
     "evalue": "invalid syntax (4190124062.py, line 1)",
     "output_type": "error",
     "traceback": [
      "  \u001b[36mCell\u001b[39m\u001b[36m \u001b[39m\u001b[32mIn[4]\u001b[39m\u001b[32m, line 1\u001b[39m\n\u001b[31m    \u001b[39m\u001b[31mptr = ListNode(head: int)\u001b[39m\n                       ^\n\u001b[31mSyntaxError\u001b[39m\u001b[31m:\u001b[39m invalid syntax\n"
     ]
    }
   ],
   "source": [
    "ptr = ListNode(head: int)\n",
    "head = head.next\n",
    "head = None"
   ]
  },
  {
   "cell_type": "markdown",
   "id": "f11c665d",
   "metadata": {},
   "source": [
    "<blockquote>\n",
    "<p>A language like C++ has explicit pointers, indicated by the asterik <code>*</code>. In languages without explicit pointers, all non-primitive variables (like custom class objects) are treated as pointers.</p>\n",
    "</blockquote>\n",
    "<p><strong>Chaining .next</strong></p>\n",
    "<p>If you have multiple <code>.next</code>, for example <code>head.next.next</code>, everything before the final <code>.next</code> refers to one node. For example, given a linked list <code>1 -&gt; 2 -&gt; 3</code>, if you have <code>head</code> pointing at the first node, and you do <code>head.next.next</code>, you are actually referring to <code>2.next</code>, because <code>head.next</code> is the <code>2</code>. We'll soon see that this is a very useful technique.</p>\n",
    "<p><strong>Traversal</strong></p>\n",
    "<p>Iterating forward through a linked list can be done with a simple loop. This is the usual code that you will use to do so: as an example let's get the sum of all values from an integer linked list:</p>"
   ]
  },
  {
   "cell_type": "code",
   "execution_count": 2,
   "id": "bd1c50c2",
   "metadata": {},
   "outputs": [],
   "source": [
    "def get_sum(head: Optional[ListNode]):\n",
    "    ans = 0\n",
    "    while head:                 # Before reaching the end of the list\n",
    "        ans += head.val         # Add the value of the current node to ans\n",
    "        head = head.next        # Move to the next node\n",
    "        \n",
    "    return ans"
   ]
  },
  {
   "cell_type": "markdown",
   "id": "90400034",
   "metadata": {},
   "source": [
    "<blockquote>\n",
    "<p>The final node's <code>next</code> pointer is <code>null</code>. Therefore, after doing <code>head = head.next</code> at the final node, <code>head</code> becomes <code>null</code> and the while loop ends.</p>\n",
    "</blockquote>\n",
    "\n",
    "- Moving to `head.next` is the equivalent of iterating to the next element in an array. Traversal can also be done recursively:"
   ]
  },
  {
   "cell_type": "code",
   "execution_count": 10,
   "id": "6a1147e9",
   "metadata": {},
   "outputs": [],
   "source": [
    "def get_sum(head):\n",
    "    if not head:\n",
    "        return 0\n",
    "    \n",
    "    return head.val + get_sum(head.next)"
   ]
  },
  {
   "cell_type": "markdown",
   "id": "7f4c077c",
   "metadata": {},
   "source": [
    "#### **Types of linked lists**\n",
    "##### **Singly linked list**\n",
    "\n",
    "<p>This is the most common type of linked list and the one that is given in the code above. In a singly linked list, each node only has a pointer to the <strong>next</strong> node. This means you can only move forward in the list when iterating. The pointer used to reference the next node is usually called <code>next</code>.</p>\n",
    "<p>Let's say you want to add an element to a linked list so that it becomes the element at position <code>i</code>. To do this, you need to have a pointer to the element (<strong><span style = \"color:red\">listNode object</span> </strong>) currently at position <code>i - 1</code>. The next element (currently at position <code>i</code>), call it <code>x</code>, will be pushed to the element at position <code>i + 1</code> after the insertion. This means that <code>x</code> should become the <code>next</code> node to the one being added, and the node being added should become the <code>next</code> node to the one currently at <code>i - 1</code>. Here's some code and images demonstrating:</p>"
   ]
  },
  {
   "cell_type": "code",
   "execution_count": 9,
   "id": "906f05fa",
   "metadata": {},
   "outputs": [],
   "source": [
    "from typing import Optional\n",
    "\n",
    "class ListNode:\n",
    "    def __init__(self, val: int):\n",
    "        self.val = val\n",
    "        self.next = None\n",
    "\n",
    "# Let prev_node be the node at memory address i-1\n",
    "def add_node(prev_node: ListNode, node_to_add: ListNode) -> None:       # add node w/ value 4 at position 2 given List = [0, 1, 2]\n",
    "    node_to_add.next = prev_node.next                                   # Set the node-object with value 4's memory address AS THE ADDRESS of the previous (copied it)\n",
    "                                                                        # Ex: List.insert({index}2, {value}4) → [0, 1, 4, 2]\n",
    "    prev_node.next = node_to_add                                        \n",
    "        # Set the previous node's memory address to the new node's memory address (ex: in [0,1,4,2] → point memadd of (1) at 4)"
   ]
  },
  {
   "cell_type": "markdown",
   "id": "80ffd3e0",
   "metadata": {},
   "source": [
    "<p>Let's say you want to delete the element at position <code>i</code>. Again, you need to have a pointer to the element currently at position <code>i - 1</code>. The element at position <code>i + 1</code>, call it <code>x</code>, will be shifted over to be at position <code>i</code> after the deletion. Therefore, you should set <code>x</code> as the <code>next</code> node to the element currently at position <code>i - 1</code>. Here's some code and images demonstrating:</p>"
   ]
  },
  {
   "cell_type": "code",
   "execution_count": 11,
   "id": "a37e71e7",
   "metadata": {},
   "outputs": [],
   "source": [
    "class ListNode:\n",
    "    def __init__(self, val):\n",
    "        self.val = val\n",
    "        self.next = None\n",
    "\n",
    "# Let prev_node be the node at position i - 1\n",
    "def delete_node(prev_node: ListNode):\n",
    "    prev_node.next = prev_node.next.next        # Skip over the node to be deleted (Doesn't actually get deleted, just skips the reference)"
   ]
  },
  {
   "cell_type": "markdown",
   "id": "61e6f76e",
   "metadata": {},
   "source": [
    "<hr>\n",
    "\n",
    "##### **Doubly linked list**\n",
    "\n",
    "- <u> Just like a singly linked list, except each node ALSO contains a pointer <span style=\"color:red\"> to the previous node</span></u>\n",
    "    - Usually called `prev`\n",
    "\n",
    "- Only need a reference to the node at `i` because we can just reference the `prev` pointer of that node to get to the node at `i-1`\n",
    "    - Extra work to also update the `prev` pointers now too, not just the `next` ones"
   ]
  },
  {
   "cell_type": "code",
   "execution_count": 29,
   "id": "c7221a54",
   "metadata": {},
   "outputs": [],
   "source": [
    "from typing import Optional\n",
    "\n",
    "class ListNode:\n",
    "    def __init__(self, val: int):\n",
    "        self.val = val                         \n",
    "        self.next: Optional['ListNode'] = None                    \n",
    "        self.prev: Optional['ListNode'] = None    \n",
    "        \n",
    "    def __repr__(self):\n",
    "        return f\"ListNode({self.val})\"    \n",
    "        \n",
    "# Let the node be the node at position/memory address \"i\" where i = 1\n",
    "def add_node(node: ListNode, node_to_add: ListNode): # Given Linked List = [0,1,2] & adding node w/ value(4) at position 1      \n",
    "    \n",
    "    prev_node: ListNode = node.prev                            # prev_node is a temp || holds address of node(0)     \n",
    "    node_to_add.next = node                          # node4.next now points to node1\n",
    "    node_to_add.prev = prev_node                     # node4.prev now points to node0\n",
    "    prev_node.next = node_to_add                     # node0.next pointed to node1 before, now it points to node4\n",
    "    node.prev = node_to_add                          # node1.prev now points to node4 (the new node)\n",
    "    \n",
    "# Let the node be at position i\n",
    "def delete_node(node: ListNode):\n",
    "    prev_node: ListNode = node.prev\n",
    "    next_node: ListNode = node.next\n",
    "    prev_node.next = next_node\n",
    "    next_node.prev = prev_node"
   ]
  },
  {
   "cell_type": "code",
   "execution_count": 30,
   "id": "a2595173",
   "metadata": {},
   "outputs": [
    {
     "name": "stdout",
     "output_type": "stream",
     "text": [
      "created Nodes: ListNode(0) ListNode(1) ListNode(2)\n"
     ]
    }
   ],
   "source": [
    "# Create some nodes\n",
    "node0= ListNode(0)\n",
    "node1 = ListNode(1)\n",
    "node2 = ListNode(2)\n",
    "print(\"created Nodes:\", node0, node1, node2)"
   ]
  },
  {
   "cell_type": "code",
   "execution_count": 19,
   "id": "7a6f87e7",
   "metadata": {},
   "outputs": [
    {
     "name": "stdout",
     "output_type": "stream",
     "text": [
      "\n",
      "Links established:\n",
      "node0.next -> ListNode(1)\n",
      "node1.prev -> ListNode(0)\n",
      "node1.next -> ListNode(2)\n",
      "node2.prev -> ListNode(1)\n",
      "ListNode(1)\n"
     ]
    }
   ],
   "source": [
    "# Link the nodes by updating their pointers:\n",
    "node0.next = node1\n",
    "node1.prev = node0\n",
    "node1.next = node2\n",
    "node2.prev = node1\n",
    "\n",
    "print(\"\\nLinks established:\")\n",
    "print(f\"node0.next -> {node0.next}\")\n",
    "print(f\"node1.prev -> {node1.prev}\")\n",
    "print(f\"node1.next -> {node1.next}\")\n",
    "print(f\"node2.prev -> {node2.prev}\")"
   ]
  },
  {
   "cell_type": "code",
   "execution_count": 20,
   "id": "34ff55b0",
   "metadata": {},
   "outputs": [
    {
     "name": "stdout",
     "output_type": "stream",
     "text": [
      "\n",
      "Reference copy:\n",
      "id(prev_node):       3072982999328\n",
      "id(node0):           3072982999328\n",
      "prev_node is node0?  True\n"
     ]
    }
   ],
   "source": [
    "# Reference assignment vs. object creation\n",
    "prev_node = node1.prev   # Copies the reference stored in node1.prev\n",
    "print(\"\\nReference copy:\")\n",
    "print(f\"id(prev_node):       {id(prev_node)}\")              # Print the memory address of the object\n",
    "print(f\"id(node0):           {id(node0)}\")\n",
    "print(f\"prev_node is node0?  {prev_node is node0}\")"
   ]
  },
  {
   "cell_type": "code",
   "execution_count": 21,
   "id": "bf8244ea",
   "metadata": {},
   "outputs": [
    {
     "name": "stdout",
     "output_type": "stream",
     "text": [
      "\n",
      "Before add_node: ListNode(0) ↔ ListNode(1) ↔ ListNode(2)\n",
      "After add_node:  ListNode(0) ↔ ListNode(4) ↔ ListNode(1) ↔ ListNode(2)\n"
     ]
    }
   ],
   "source": [
    "# Create a new node and insert it before node1\n",
    "new_node = ListNode(4)\n",
    "print(\"\\nBefore add_node:\", node0, \"↔\", node1, \"↔\", node2)\n",
    "add_node(node1, new_node)\n",
    "print(\"After add_node: \", node0, \"↔\", new_node, \"↔\", node1, \"↔\", node2)"
   ]
  },
  {
   "cell_type": "markdown",
   "id": "43f93a1d",
   "metadata": {},
   "source": [
    "<hr>\n",
    "\n",
    "##### **Linked lists with sentinel nodes**\n",
    "- Call the start of a linked list the `head` and the end of a linked list the `tail`\n",
    "\n",
    "- **<span style=\"color:red\">Sentinel Nodes</span>** → <u>Nodes that sit at the **start** and **end** of linked lists, and are used to make operations and the code needed to execute those operations cleaner</u>\n",
    "\n",
    "- ***Why Use Sentinel Nodes?***:\n",
    "    - Even when there are `no nodes` in a linked list, you still keep the **pointers** to a `head` and `tail`\n",
    "\n",
    "- The real head of a linked list is `head.next` and the real tail is `tail.prev`\n",
    "    - <span style=\"color:red\">The sentinel nodes themselves are <strong><u>not part of the linked list</u></strong></span>"
   ]
  },
  {
   "cell_type": "markdown",
   "id": "b942de43",
   "metadata": {},
   "source": [
    "<blockquote>\n",
    "<p>The previous code we looked at is prone to errors. For example, if we are trying to delete the last node in the list, then <code>nextNode</code> will be <code>null</code>, and trying to access <code>nextNode.next</code> would result in an error. With sentinel nodes, we don't need to worry about this scenario because the last node's <code>next</code> points to the sentinel tail.</p>\n",
    "</blockquote>"
   ]
  },
  {
   "cell_type": "code",
   "execution_count": 31,
   "id": "080f7ecd",
   "metadata": {},
   "outputs": [],
   "source": [
    "class ListNode:\n",
    "    def __init__(self, val:int):\n",
    "        self.val = val\n",
    "        self.next: Optional['ListNode'] = None\n",
    "        self.prev: Optional['ListNode'] = None\n",
    "        \n",
    "def add_to_end(node_to_add: ListNode):\n",
    "    node_to_add.next = tail\n",
    "    node_to_add.prev = tail.prev\n",
    "    tail.prev.next = node_to_add\n",
    "    tail.prev = node_to_add\n",
    "    \n",
    "def remove_from_end():\n",
    "    if head.next == tail:       # Value of head.next is tail, meaning the list is empty\n",
    "        return                      # Nothing to remove\n",
    "    \n",
    "    node_to_remove: ListNode = tail.prev            \n",
    "    node_to_remove.prev.next = tail\n",
    "    tail.prev = node_to_remove.prev\n",
    "    \n",
    "def remove_from_start():\n",
    "    if head.next == tail:\n",
    "        return\n",
    "    \n",
    "    node_to_remove: ListNode = head.next\n",
    "    node_to_remove.next.prev = head\n",
    "    head.next = node_to_remove.next\n",
    "    \n",
    "head = ListNode(None)\n",
    "tail = ListNode(None)\n",
    "head.next = tail\n",
    "tail.prev = head"
   ]
  },
  {
   "cell_type": "markdown",
   "id": "1fbf0628",
   "metadata": {},
   "source": [
    "<hr>\n",
    "\n",
    "##### **Dummy Pointers**\n",
    "- Always want to keep a reference to `head` so we can always access any element\n",
    "- Sometimes, its better to traverse using a <span style=\"color:red\">Dummy Pointer</span> adn to keep `head` at the head"
   ]
  },
  {
   "cell_type": "code",
   "execution_count": 34,
   "id": "85e78d03",
   "metadata": {},
   "outputs": [],
   "source": [
    "def get_sum(head: ListNode) -> int:\n",
    "    ans = 0\n",
    "    dummy: ListNode = head\n",
    "    while dummy:\n",
    "        ans += dummy.val\n",
    "        dummy = dummy.next\n",
    "        \n",
    "    # Same as before, but we still have a pointer at the head\n",
    "    return ans"
   ]
  },
  {
   "cell_type": "code",
   "execution_count": 52,
   "id": "5230d5be",
   "metadata": {},
   "outputs": [],
   "source": [
    "class ListNode:\n",
    "    def __init__(self, val):\n",
    "        self.val = val\n",
    "        self.next = None\n",
    "        self.prev = None\n",
    "        \n",
    "    def __repr__(self):\n",
    "        return f\"ListNode({self.val})\"\n",
    "\n",
    "from typing import List\n",
    "from pprint import pprint\n",
    "\n",
    "class LinkedList:\n",
    "    def __init__(self, node: List[ListNode]):\n",
    "        self.node = node\n",
    "        self.next = None\n",
    "        self.prev = None\n",
    "        \n",
    "    def __repr__(self):\n",
    "        return f\"LinkedList({self.node})\""
   ]
  },
  {
   "cell_type": "code",
   "execution_count": 53,
   "id": "379dd4f9",
   "metadata": {},
   "outputs": [
    {
     "name": "stdout",
     "output_type": "stream",
     "text": [
      "LinkedList([ListNode(1), ListNode(2), ListNode(3)])\n"
     ]
    }
   ],
   "source": [
    "node1 = ListNode(1)\n",
    "node2 = ListNode(2)\n",
    "node3 = ListNode(3)\n",
    "\n",
    "node1.next = node2\n",
    "node2.prev = node1\n",
    "node2.next = node1\n",
    "node3.prev = node2\n",
    "\n",
    "list = LinkedList([node1, node2, node3])\n",
    "\n",
    "print(list)"
   ]
  }
 ],
 "metadata": {
  "kernelspec": {
   "display_name": "Python 3",
   "language": "python",
   "name": "python3"
  },
  "language_info": {
   "codemirror_mode": {
    "name": "ipython",
    "version": 3
   },
   "file_extension": ".py",
   "mimetype": "text/x-python",
   "name": "python",
   "nbconvert_exporter": "python",
   "pygments_lexer": "ipython3",
   "version": "3.13.3"
  }
 },
 "nbformat": 4,
 "nbformat_minor": 5
}
